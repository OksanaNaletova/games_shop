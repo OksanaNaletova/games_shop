{
 "cells": [
  {
   "cell_type": "markdown",
   "id": "10269cf3",
   "metadata": {},
   "source": [
    "# Анализ продаж игр интернет-магазина \"Стримчик\""
   ]
  },
  {
   "cell_type": "markdown",
   "id": "4e3d56d3",
   "metadata": {},
   "source": [
    "**Цель исследования:** выявить определяющие успешность игры закономерности.\n",
    "\n",
    "**Заказчик:** интернет-магазин «Стримчик», который продаёт по всему миру компьютерные игры.\n",
    "\n",
    "**Ход анализа:** \n",
    "* Предобработка данных\n",
    "* Исследовательский анализ данны\n",
    "* Портрет пользователя каждого региона\n",
    "* Проверка гипотез"
   ]
  },
  {
   "cell_type": "markdown",
   "id": "0a9a9b99",
   "metadata": {},
   "source": [
    "## Чтение файла и изучение информации"
   ]
  },
  {
   "cell_type": "code",
   "execution_count": 1,
   "id": "39d15f3e",
   "metadata": {},
   "outputs": [
    {
     "data": {
      "text/html": [
       "        <script type=\"text/javascript\">\n",
       "        window.PlotlyConfig = {MathJaxConfig: 'local'};\n",
       "        if (window.MathJax) {MathJax.Hub.Config({SVG: {font: \"STIX-Web\"}});}\n",
       "        if (typeof require !== 'undefined') {\n",
       "        require.undef(\"plotly\");\n",
       "        requirejs.config({\n",
       "            paths: {\n",
       "                'plotly': ['https://cdn.plot.ly/plotly-2.6.3.min']\n",
       "            }\n",
       "        });\n",
       "        require(['plotly'], function(Plotly) {\n",
       "            window._Plotly = Plotly;\n",
       "        });\n",
       "        }\n",
       "        </script>\n",
       "        "
      ]
     },
     "metadata": {},
     "output_type": "display_data"
    }
   ],
   "source": [
    "import pandas as pd\n",
    "import matplotlib.pyplot as plt\n",
    "import seaborn as sns\n",
    "import matplotlib.ticker as ticker\n",
    "import numpy as np\n",
    "from scipy import stats as st\n",
    "\n",
    "from plotly.offline import download_plotlyjs, init_notebook_mode, plot, iplot\n",
    "import plotly\n",
    "import plotly.graph_objs as go\n",
    "\n",
    "init_notebook_mode(connected=True)"
   ]
  },
  {
   "cell_type": "code",
   "execution_count": 2,
   "id": "e2adf6fe",
   "metadata": {},
   "outputs": [],
   "source": [
    "# код для отображения 200 столбцов в датасетах\n",
    "pd.options.display.max_columns = 200"
   ]
  },
  {
   "cell_type": "code",
   "execution_count": 3,
   "id": "e8d21827",
   "metadata": {},
   "outputs": [],
   "source": [
    "data = pd.read_csv('/datasets/games.csv')"
   ]
  },
  {
   "cell_type": "code",
   "execution_count": 4,
   "id": "cec3666d",
   "metadata": {},
   "outputs": [
    {
     "name": "stdout",
     "output_type": "stream",
     "text": [
      "<class 'pandas.core.frame.DataFrame'>\n",
      "RangeIndex: 16715 entries, 0 to 16714\n",
      "Data columns (total 11 columns):\n",
      " #   Column           Non-Null Count  Dtype  \n",
      "---  ------           --------------  -----  \n",
      " 0   Name             16713 non-null  object \n",
      " 1   Platform         16715 non-null  object \n",
      " 2   Year_of_Release  16446 non-null  float64\n",
      " 3   Genre            16713 non-null  object \n",
      " 4   NA_sales         16715 non-null  float64\n",
      " 5   EU_sales         16715 non-null  float64\n",
      " 6   JP_sales         16715 non-null  float64\n",
      " 7   Other_sales      16715 non-null  float64\n",
      " 8   Critic_Score     8137 non-null   float64\n",
      " 9   User_Score       10014 non-null  object \n",
      " 10  Rating           9949 non-null   object \n",
      "dtypes: float64(6), object(5)\n",
      "memory usage: 1.4+ MB\n"
     ]
    }
   ],
   "source": [
    "data.info()"
   ]
  },
  {
   "cell_type": "code",
   "execution_count": 5,
   "id": "19ef0827",
   "metadata": {},
   "outputs": [
    {
     "data": {
      "text/html": [
       "<div>\n",
       "<style scoped>\n",
       "    .dataframe tbody tr th:only-of-type {\n",
       "        vertical-align: middle;\n",
       "    }\n",
       "\n",
       "    .dataframe tbody tr th {\n",
       "        vertical-align: top;\n",
       "    }\n",
       "\n",
       "    .dataframe thead th {\n",
       "        text-align: right;\n",
       "    }\n",
       "</style>\n",
       "<table border=\"1\" class=\"dataframe\">\n",
       "  <thead>\n",
       "    <tr style=\"text-align: right;\">\n",
       "      <th></th>\n",
       "      <th>Name</th>\n",
       "      <th>Platform</th>\n",
       "      <th>Year_of_Release</th>\n",
       "      <th>Genre</th>\n",
       "      <th>NA_sales</th>\n",
       "      <th>EU_sales</th>\n",
       "      <th>JP_sales</th>\n",
       "      <th>Other_sales</th>\n",
       "      <th>Critic_Score</th>\n",
       "      <th>User_Score</th>\n",
       "      <th>Rating</th>\n",
       "    </tr>\n",
       "  </thead>\n",
       "  <tbody>\n",
       "    <tr>\n",
       "      <th>0</th>\n",
       "      <td>Wii Sports</td>\n",
       "      <td>Wii</td>\n",
       "      <td>2006.0</td>\n",
       "      <td>Sports</td>\n",
       "      <td>41.36</td>\n",
       "      <td>28.96</td>\n",
       "      <td>3.77</td>\n",
       "      <td>8.45</td>\n",
       "      <td>76.0</td>\n",
       "      <td>8</td>\n",
       "      <td>E</td>\n",
       "    </tr>\n",
       "    <tr>\n",
       "      <th>1</th>\n",
       "      <td>Super Mario Bros.</td>\n",
       "      <td>NES</td>\n",
       "      <td>1985.0</td>\n",
       "      <td>Platform</td>\n",
       "      <td>29.08</td>\n",
       "      <td>3.58</td>\n",
       "      <td>6.81</td>\n",
       "      <td>0.77</td>\n",
       "      <td>NaN</td>\n",
       "      <td>NaN</td>\n",
       "      <td>NaN</td>\n",
       "    </tr>\n",
       "    <tr>\n",
       "      <th>2</th>\n",
       "      <td>Mario Kart Wii</td>\n",
       "      <td>Wii</td>\n",
       "      <td>2008.0</td>\n",
       "      <td>Racing</td>\n",
       "      <td>15.68</td>\n",
       "      <td>12.76</td>\n",
       "      <td>3.79</td>\n",
       "      <td>3.29</td>\n",
       "      <td>82.0</td>\n",
       "      <td>8.3</td>\n",
       "      <td>E</td>\n",
       "    </tr>\n",
       "    <tr>\n",
       "      <th>3</th>\n",
       "      <td>Wii Sports Resort</td>\n",
       "      <td>Wii</td>\n",
       "      <td>2009.0</td>\n",
       "      <td>Sports</td>\n",
       "      <td>15.61</td>\n",
       "      <td>10.93</td>\n",
       "      <td>3.28</td>\n",
       "      <td>2.95</td>\n",
       "      <td>80.0</td>\n",
       "      <td>8</td>\n",
       "      <td>E</td>\n",
       "    </tr>\n",
       "    <tr>\n",
       "      <th>4</th>\n",
       "      <td>Pokemon Red/Pokemon Blue</td>\n",
       "      <td>GB</td>\n",
       "      <td>1996.0</td>\n",
       "      <td>Role-Playing</td>\n",
       "      <td>11.27</td>\n",
       "      <td>8.89</td>\n",
       "      <td>10.22</td>\n",
       "      <td>1.00</td>\n",
       "      <td>NaN</td>\n",
       "      <td>NaN</td>\n",
       "      <td>NaN</td>\n",
       "    </tr>\n",
       "  </tbody>\n",
       "</table>\n",
       "</div>"
      ],
      "text/plain": [
       "                       Name Platform  Year_of_Release         Genre  NA_sales  \\\n",
       "0                Wii Sports      Wii           2006.0        Sports     41.36   \n",
       "1         Super Mario Bros.      NES           1985.0      Platform     29.08   \n",
       "2            Mario Kart Wii      Wii           2008.0        Racing     15.68   \n",
       "3         Wii Sports Resort      Wii           2009.0        Sports     15.61   \n",
       "4  Pokemon Red/Pokemon Blue       GB           1996.0  Role-Playing     11.27   \n",
       "\n",
       "   EU_sales  JP_sales  Other_sales  Critic_Score User_Score Rating  \n",
       "0     28.96      3.77         8.45          76.0          8      E  \n",
       "1      3.58      6.81         0.77           NaN        NaN    NaN  \n",
       "2     12.76      3.79         3.29          82.0        8.3      E  \n",
       "3     10.93      3.28         2.95          80.0          8      E  \n",
       "4      8.89     10.22         1.00           NaN        NaN    NaN  "
      ]
     },
     "execution_count": 5,
     "metadata": {},
     "output_type": "execute_result"
    }
   ],
   "source": [
    "data.head()"
   ]
  },
  {
   "cell_type": "code",
   "execution_count": 6,
   "id": "9667fdac",
   "metadata": {},
   "outputs": [
    {
     "data": {
      "text/plain": [
       "0"
      ]
     },
     "execution_count": 6,
     "metadata": {},
     "output_type": "execute_result"
    }
   ],
   "source": [
    "data.duplicated().sum()"
   ]
  },
  {
   "cell_type": "code",
   "execution_count": 7,
   "id": "de16befa",
   "metadata": {},
   "outputs": [
    {
     "data": {
      "text/html": [
       "<div>\n",
       "<style scoped>\n",
       "    .dataframe tbody tr th:only-of-type {\n",
       "        vertical-align: middle;\n",
       "    }\n",
       "\n",
       "    .dataframe tbody tr th {\n",
       "        vertical-align: top;\n",
       "    }\n",
       "\n",
       "    .dataframe thead th {\n",
       "        text-align: right;\n",
       "    }\n",
       "</style>\n",
       "<table border=\"1\" class=\"dataframe\">\n",
       "  <thead>\n",
       "    <tr style=\"text-align: right;\">\n",
       "      <th></th>\n",
       "      <th>Year_of_Release</th>\n",
       "      <th>NA_sales</th>\n",
       "      <th>EU_sales</th>\n",
       "      <th>JP_sales</th>\n",
       "      <th>Other_sales</th>\n",
       "      <th>Critic_Score</th>\n",
       "    </tr>\n",
       "  </thead>\n",
       "  <tbody>\n",
       "    <tr>\n",
       "      <th>count</th>\n",
       "      <td>16446.000000</td>\n",
       "      <td>16715.000000</td>\n",
       "      <td>16715.000000</td>\n",
       "      <td>16715.000000</td>\n",
       "      <td>16715.000000</td>\n",
       "      <td>8137.000000</td>\n",
       "    </tr>\n",
       "    <tr>\n",
       "      <th>mean</th>\n",
       "      <td>2006.484616</td>\n",
       "      <td>0.263377</td>\n",
       "      <td>0.145060</td>\n",
       "      <td>0.077617</td>\n",
       "      <td>0.047342</td>\n",
       "      <td>68.967679</td>\n",
       "    </tr>\n",
       "    <tr>\n",
       "      <th>std</th>\n",
       "      <td>5.877050</td>\n",
       "      <td>0.813604</td>\n",
       "      <td>0.503339</td>\n",
       "      <td>0.308853</td>\n",
       "      <td>0.186731</td>\n",
       "      <td>13.938165</td>\n",
       "    </tr>\n",
       "    <tr>\n",
       "      <th>min</th>\n",
       "      <td>1980.000000</td>\n",
       "      <td>0.000000</td>\n",
       "      <td>0.000000</td>\n",
       "      <td>0.000000</td>\n",
       "      <td>0.000000</td>\n",
       "      <td>13.000000</td>\n",
       "    </tr>\n",
       "    <tr>\n",
       "      <th>25%</th>\n",
       "      <td>2003.000000</td>\n",
       "      <td>0.000000</td>\n",
       "      <td>0.000000</td>\n",
       "      <td>0.000000</td>\n",
       "      <td>0.000000</td>\n",
       "      <td>60.000000</td>\n",
       "    </tr>\n",
       "    <tr>\n",
       "      <th>50%</th>\n",
       "      <td>2007.000000</td>\n",
       "      <td>0.080000</td>\n",
       "      <td>0.020000</td>\n",
       "      <td>0.000000</td>\n",
       "      <td>0.010000</td>\n",
       "      <td>71.000000</td>\n",
       "    </tr>\n",
       "    <tr>\n",
       "      <th>75%</th>\n",
       "      <td>2010.000000</td>\n",
       "      <td>0.240000</td>\n",
       "      <td>0.110000</td>\n",
       "      <td>0.040000</td>\n",
       "      <td>0.030000</td>\n",
       "      <td>79.000000</td>\n",
       "    </tr>\n",
       "    <tr>\n",
       "      <th>max</th>\n",
       "      <td>2016.000000</td>\n",
       "      <td>41.360000</td>\n",
       "      <td>28.960000</td>\n",
       "      <td>10.220000</td>\n",
       "      <td>10.570000</td>\n",
       "      <td>98.000000</td>\n",
       "    </tr>\n",
       "  </tbody>\n",
       "</table>\n",
       "</div>"
      ],
      "text/plain": [
       "       Year_of_Release      NA_sales      EU_sales      JP_sales  \\\n",
       "count     16446.000000  16715.000000  16715.000000  16715.000000   \n",
       "mean       2006.484616      0.263377      0.145060      0.077617   \n",
       "std           5.877050      0.813604      0.503339      0.308853   \n",
       "min        1980.000000      0.000000      0.000000      0.000000   \n",
       "25%        2003.000000      0.000000      0.000000      0.000000   \n",
       "50%        2007.000000      0.080000      0.020000      0.000000   \n",
       "75%        2010.000000      0.240000      0.110000      0.040000   \n",
       "max        2016.000000     41.360000     28.960000     10.220000   \n",
       "\n",
       "        Other_sales  Critic_Score  \n",
       "count  16715.000000   8137.000000  \n",
       "mean       0.047342     68.967679  \n",
       "std        0.186731     13.938165  \n",
       "min        0.000000     13.000000  \n",
       "25%        0.000000     60.000000  \n",
       "50%        0.010000     71.000000  \n",
       "75%        0.030000     79.000000  \n",
       "max       10.570000     98.000000  "
      ]
     },
     "execution_count": 7,
     "metadata": {},
     "output_type": "execute_result"
    }
   ],
   "source": [
    "data.describe()"
   ]
  },
  {
   "cell_type": "markdown",
   "id": "ce924ac1",
   "metadata": {},
   "source": [
    "При первичном взгляде нам необходимо проработать с пропусками, наименованием столбцов, с типом данных. Явных дубликатов и аномальных числовых значений не выявленно. \n",
    "\n",
    "\n",
    "Согласно документации:\n",
    "- Name — название игры\n",
    "- Platform — платформа\n",
    "- Year_of_Release — год выпуска\n",
    "- Genre — жанр игры\n",
    "- NA_sales — продажи в Северной Америке (миллионы проданных копий)\n",
    "- EU_sales — продажи в Европе (миллионы проданных копий)\n",
    "- JP_sales — продажи в Японии (миллионы проданных копий)\n",
    "- Other_sales — продажи в других странах (миллионы проданных копий)\n",
    "- Critic_Score — оценка критиков (максимум 100)\n",
    "- User_Score — оценка пользователей (максимум 10)\n",
    "- Rating — рейтинг от организации ESRB (англ. Entertainment Software Rating Board). Эта ассоциация определяет рейтинг компьютерных игр и присваивает\n",
    "им подходящую возрастную категорию.\n",
    "\n",
    "**Данные за 2016 год могут быть неполными.**"
   ]
  },
  {
   "cell_type": "markdown",
   "id": "4a46bd0f",
   "metadata": {},
   "source": [
    "## Предобработка данных"
   ]
  },
  {
   "cell_type": "code",
   "execution_count": 8,
   "id": "e52d948d",
   "metadata": {},
   "outputs": [],
   "source": [
    "# Приведем названия столбцов к нижнему регистру\n",
    "data.columns = data.columns.str.lower()"
   ]
  },
  {
   "cell_type": "code",
   "execution_count": 9,
   "id": "eb73b42c",
   "metadata": {},
   "outputs": [
    {
     "data": {
      "text/plain": [
       "Index(['name', 'platform', 'year_of_release', 'genre', 'na_sales', 'eu_sales',\n",
       "       'jp_sales', 'other_sales', 'critic_score', 'user_score', 'rating'],\n",
       "      dtype='object')"
      ]
     },
     "execution_count": 9,
     "metadata": {},
     "output_type": "execute_result"
    }
   ],
   "source": [
    "# проверка \n",
    "data.columns"
   ]
  },
  {
   "cell_type": "code",
   "execution_count": 10,
   "id": "46c3760c",
   "metadata": {},
   "outputs": [
    {
     "data": {
      "text/html": [
       "<div>\n",
       "<style scoped>\n",
       "    .dataframe tbody tr th:only-of-type {\n",
       "        vertical-align: middle;\n",
       "    }\n",
       "\n",
       "    .dataframe tbody tr th {\n",
       "        vertical-align: top;\n",
       "    }\n",
       "\n",
       "    .dataframe thead th {\n",
       "        text-align: right;\n",
       "    }\n",
       "</style>\n",
       "<table border=\"1\" class=\"dataframe\">\n",
       "  <thead>\n",
       "    <tr style=\"text-align: right;\">\n",
       "      <th></th>\n",
       "      <th>name</th>\n",
       "      <th>platform</th>\n",
       "      <th>year_of_release</th>\n",
       "      <th>genre</th>\n",
       "      <th>na_sales</th>\n",
       "      <th>eu_sales</th>\n",
       "      <th>jp_sales</th>\n",
       "      <th>other_sales</th>\n",
       "      <th>critic_score</th>\n",
       "      <th>user_score</th>\n",
       "      <th>rating</th>\n",
       "    </tr>\n",
       "  </thead>\n",
       "  <tbody>\n",
       "    <tr>\n",
       "      <th>659</th>\n",
       "      <td>NaN</td>\n",
       "      <td>GEN</td>\n",
       "      <td>1993.0</td>\n",
       "      <td>NaN</td>\n",
       "      <td>1.78</td>\n",
       "      <td>0.53</td>\n",
       "      <td>0.00</td>\n",
       "      <td>0.08</td>\n",
       "      <td>NaN</td>\n",
       "      <td>NaN</td>\n",
       "      <td>NaN</td>\n",
       "    </tr>\n",
       "    <tr>\n",
       "      <th>14244</th>\n",
       "      <td>NaN</td>\n",
       "      <td>GEN</td>\n",
       "      <td>1993.0</td>\n",
       "      <td>NaN</td>\n",
       "      <td>0.00</td>\n",
       "      <td>0.00</td>\n",
       "      <td>0.03</td>\n",
       "      <td>0.00</td>\n",
       "      <td>NaN</td>\n",
       "      <td>NaN</td>\n",
       "      <td>NaN</td>\n",
       "    </tr>\n",
       "  </tbody>\n",
       "</table>\n",
       "</div>"
      ],
      "text/plain": [
       "      name platform  year_of_release genre  na_sales  eu_sales  jp_sales  \\\n",
       "659    NaN      GEN           1993.0   NaN      1.78      0.53      0.00   \n",
       "14244  NaN      GEN           1993.0   NaN      0.00      0.00      0.03   \n",
       "\n",
       "       other_sales  critic_score user_score rating  \n",
       "659           0.08           NaN        NaN    NaN  \n",
       "14244         0.00           NaN        NaN    NaN  "
      ]
     },
     "execution_count": 10,
     "metadata": {},
     "output_type": "execute_result"
    }
   ],
   "source": [
    "# Посмотрим на пропуски в столбце name\n",
    "data[data['name'].isnull()]"
   ]
  },
  {
   "cell_type": "markdown",
   "id": "56fb5636",
   "metadata": {},
   "source": [
    "Данные строки следует удалить, так как мы ничего толком не можем сказать об этих играх и тут всего 2 пропуска."
   ]
  },
  {
   "cell_type": "code",
   "execution_count": 11,
   "id": "f7a71c5b",
   "metadata": {},
   "outputs": [],
   "source": [
    "data = data.dropna(subset = ['name'])"
   ]
  },
  {
   "cell_type": "code",
   "execution_count": 12,
   "id": "c68ad505",
   "metadata": {},
   "outputs": [
    {
     "data": {
      "text/html": [
       "<div>\n",
       "<style scoped>\n",
       "    .dataframe tbody tr th:only-of-type {\n",
       "        vertical-align: middle;\n",
       "    }\n",
       "\n",
       "    .dataframe tbody tr th {\n",
       "        vertical-align: top;\n",
       "    }\n",
       "\n",
       "    .dataframe thead th {\n",
       "        text-align: right;\n",
       "    }\n",
       "</style>\n",
       "<table border=\"1\" class=\"dataframe\">\n",
       "  <thead>\n",
       "    <tr style=\"text-align: right;\">\n",
       "      <th></th>\n",
       "      <th>name</th>\n",
       "      <th>platform</th>\n",
       "      <th>year_of_release</th>\n",
       "      <th>genre</th>\n",
       "      <th>na_sales</th>\n",
       "      <th>eu_sales</th>\n",
       "      <th>jp_sales</th>\n",
       "      <th>other_sales</th>\n",
       "      <th>critic_score</th>\n",
       "      <th>user_score</th>\n",
       "      <th>rating</th>\n",
       "    </tr>\n",
       "  </thead>\n",
       "  <tbody>\n",
       "    <tr>\n",
       "      <th>183</th>\n",
       "      <td>Madden NFL 2004</td>\n",
       "      <td>PS2</td>\n",
       "      <td>NaN</td>\n",
       "      <td>Sports</td>\n",
       "      <td>4.26</td>\n",
       "      <td>0.26</td>\n",
       "      <td>0.01</td>\n",
       "      <td>0.71</td>\n",
       "      <td>94.0</td>\n",
       "      <td>8.5</td>\n",
       "      <td>E</td>\n",
       "    </tr>\n",
       "    <tr>\n",
       "      <th>377</th>\n",
       "      <td>FIFA Soccer 2004</td>\n",
       "      <td>PS2</td>\n",
       "      <td>NaN</td>\n",
       "      <td>Sports</td>\n",
       "      <td>0.59</td>\n",
       "      <td>2.36</td>\n",
       "      <td>0.04</td>\n",
       "      <td>0.51</td>\n",
       "      <td>84.0</td>\n",
       "      <td>6.4</td>\n",
       "      <td>E</td>\n",
       "    </tr>\n",
       "    <tr>\n",
       "      <th>456</th>\n",
       "      <td>LEGO Batman: The Videogame</td>\n",
       "      <td>Wii</td>\n",
       "      <td>NaN</td>\n",
       "      <td>Action</td>\n",
       "      <td>1.80</td>\n",
       "      <td>0.97</td>\n",
       "      <td>0.00</td>\n",
       "      <td>0.29</td>\n",
       "      <td>74.0</td>\n",
       "      <td>7.9</td>\n",
       "      <td>E10+</td>\n",
       "    </tr>\n",
       "    <tr>\n",
       "      <th>475</th>\n",
       "      <td>wwe Smackdown vs. Raw 2006</td>\n",
       "      <td>PS2</td>\n",
       "      <td>NaN</td>\n",
       "      <td>Fighting</td>\n",
       "      <td>1.57</td>\n",
       "      <td>1.02</td>\n",
       "      <td>0.00</td>\n",
       "      <td>0.41</td>\n",
       "      <td>NaN</td>\n",
       "      <td>NaN</td>\n",
       "      <td>NaN</td>\n",
       "    </tr>\n",
       "    <tr>\n",
       "      <th>609</th>\n",
       "      <td>Space Invaders</td>\n",
       "      <td>2600</td>\n",
       "      <td>NaN</td>\n",
       "      <td>Shooter</td>\n",
       "      <td>2.36</td>\n",
       "      <td>0.14</td>\n",
       "      <td>0.00</td>\n",
       "      <td>0.03</td>\n",
       "      <td>NaN</td>\n",
       "      <td>NaN</td>\n",
       "      <td>NaN</td>\n",
       "    </tr>\n",
       "  </tbody>\n",
       "</table>\n",
       "</div>"
      ],
      "text/plain": [
       "                           name platform  year_of_release     genre  na_sales  \\\n",
       "183             Madden NFL 2004      PS2              NaN    Sports      4.26   \n",
       "377            FIFA Soccer 2004      PS2              NaN    Sports      0.59   \n",
       "456  LEGO Batman: The Videogame      Wii              NaN    Action      1.80   \n",
       "475  wwe Smackdown vs. Raw 2006      PS2              NaN  Fighting      1.57   \n",
       "609              Space Invaders     2600              NaN   Shooter      2.36   \n",
       "\n",
       "     eu_sales  jp_sales  other_sales  critic_score user_score rating  \n",
       "183      0.26      0.01         0.71          94.0        8.5      E  \n",
       "377      2.36      0.04         0.51          84.0        6.4      E  \n",
       "456      0.97      0.00         0.29          74.0        7.9   E10+  \n",
       "475      1.02      0.00         0.41           NaN        NaN    NaN  \n",
       "609      0.14      0.00         0.03           NaN        NaN    NaN  "
      ]
     },
     "execution_count": 12,
     "metadata": {},
     "output_type": "execute_result"
    }
   ],
   "source": [
    "# Посмотрим на пропуски в столбце year_of_release\n",
    "data[data['year_of_release'].isnull()].head()"
   ]
  },
  {
   "cell_type": "code",
   "execution_count": 13,
   "id": "d005fc02",
   "metadata": {},
   "outputs": [
    {
     "data": {
      "text/plain": [
       "0.016095255190570215"
      ]
     },
     "execution_count": 13,
     "metadata": {},
     "output_type": "execute_result"
    }
   ],
   "source": [
    "# проценти пропусков в столбце year_of_release\n",
    "len(data[data['year_of_release'].isnull()]) / len(data)"
   ]
  },
  {
   "cell_type": "markdown",
   "id": "3fd7a597",
   "metadata": {},
   "source": [
    "Так как данные пропуски менее 2% от всего датасета и эти пропуски значительно не повлияют на ход исследования, их так же можно удалить."
   ]
  },
  {
   "cell_type": "code",
   "execution_count": 14,
   "id": "353609de",
   "metadata": {},
   "outputs": [],
   "source": [
    "data = data.dropna(subset = ['year_of_release'])"
   ]
  },
  {
   "cell_type": "code",
   "execution_count": 15,
   "id": "ee310bcf",
   "metadata": {},
   "outputs": [
    {
     "data": {
      "text/html": [
       "<div>\n",
       "<style scoped>\n",
       "    .dataframe tbody tr th:only-of-type {\n",
       "        vertical-align: middle;\n",
       "    }\n",
       "\n",
       "    .dataframe tbody tr th {\n",
       "        vertical-align: top;\n",
       "    }\n",
       "\n",
       "    .dataframe thead th {\n",
       "        text-align: right;\n",
       "    }\n",
       "</style>\n",
       "<table border=\"1\" class=\"dataframe\">\n",
       "  <thead>\n",
       "    <tr style=\"text-align: right;\">\n",
       "      <th></th>\n",
       "      <th>name</th>\n",
       "      <th>platform</th>\n",
       "      <th>year_of_release</th>\n",
       "      <th>genre</th>\n",
       "      <th>na_sales</th>\n",
       "      <th>eu_sales</th>\n",
       "      <th>jp_sales</th>\n",
       "      <th>other_sales</th>\n",
       "      <th>critic_score</th>\n",
       "      <th>user_score</th>\n",
       "      <th>rating</th>\n",
       "    </tr>\n",
       "  </thead>\n",
       "  <tbody>\n",
       "    <tr>\n",
       "      <th>1</th>\n",
       "      <td>Super Mario Bros.</td>\n",
       "      <td>NES</td>\n",
       "      <td>1985.0</td>\n",
       "      <td>Platform</td>\n",
       "      <td>29.08</td>\n",
       "      <td>3.58</td>\n",
       "      <td>6.81</td>\n",
       "      <td>0.77</td>\n",
       "      <td>NaN</td>\n",
       "      <td>NaN</td>\n",
       "      <td>NaN</td>\n",
       "    </tr>\n",
       "    <tr>\n",
       "      <th>4</th>\n",
       "      <td>Pokemon Red/Pokemon Blue</td>\n",
       "      <td>GB</td>\n",
       "      <td>1996.0</td>\n",
       "      <td>Role-Playing</td>\n",
       "      <td>11.27</td>\n",
       "      <td>8.89</td>\n",
       "      <td>10.22</td>\n",
       "      <td>1.00</td>\n",
       "      <td>NaN</td>\n",
       "      <td>NaN</td>\n",
       "      <td>NaN</td>\n",
       "    </tr>\n",
       "    <tr>\n",
       "      <th>5</th>\n",
       "      <td>Tetris</td>\n",
       "      <td>GB</td>\n",
       "      <td>1989.0</td>\n",
       "      <td>Puzzle</td>\n",
       "      <td>23.20</td>\n",
       "      <td>2.26</td>\n",
       "      <td>4.22</td>\n",
       "      <td>0.58</td>\n",
       "      <td>NaN</td>\n",
       "      <td>NaN</td>\n",
       "      <td>NaN</td>\n",
       "    </tr>\n",
       "    <tr>\n",
       "      <th>9</th>\n",
       "      <td>Duck Hunt</td>\n",
       "      <td>NES</td>\n",
       "      <td>1984.0</td>\n",
       "      <td>Shooter</td>\n",
       "      <td>26.93</td>\n",
       "      <td>0.63</td>\n",
       "      <td>0.28</td>\n",
       "      <td>0.47</td>\n",
       "      <td>NaN</td>\n",
       "      <td>NaN</td>\n",
       "      <td>NaN</td>\n",
       "    </tr>\n",
       "    <tr>\n",
       "      <th>10</th>\n",
       "      <td>Nintendogs</td>\n",
       "      <td>DS</td>\n",
       "      <td>2005.0</td>\n",
       "      <td>Simulation</td>\n",
       "      <td>9.05</td>\n",
       "      <td>10.95</td>\n",
       "      <td>1.93</td>\n",
       "      <td>2.74</td>\n",
       "      <td>NaN</td>\n",
       "      <td>NaN</td>\n",
       "      <td>NaN</td>\n",
       "    </tr>\n",
       "  </tbody>\n",
       "</table>\n",
       "</div>"
      ],
      "text/plain": [
       "                        name platform  year_of_release         genre  \\\n",
       "1          Super Mario Bros.      NES           1985.0      Platform   \n",
       "4   Pokemon Red/Pokemon Blue       GB           1996.0  Role-Playing   \n",
       "5                     Tetris       GB           1989.0        Puzzle   \n",
       "9                  Duck Hunt      NES           1984.0       Shooter   \n",
       "10                Nintendogs       DS           2005.0    Simulation   \n",
       "\n",
       "    na_sales  eu_sales  jp_sales  other_sales  critic_score user_score rating  \n",
       "1      29.08      3.58      6.81         0.77           NaN        NaN    NaN  \n",
       "4      11.27      8.89     10.22         1.00           NaN        NaN    NaN  \n",
       "5      23.20      2.26      4.22         0.58           NaN        NaN    NaN  \n",
       "9      26.93      0.63      0.28         0.47           NaN        NaN    NaN  \n",
       "10      9.05     10.95      1.93         2.74           NaN        NaN    NaN  "
      ]
     },
     "execution_count": 15,
     "metadata": {},
     "output_type": "execute_result"
    }
   ],
   "source": [
    "# Посмотрим на пропуски в столбце rating\n",
    "data[data['rating'].isnull()].head()"
   ]
  },
  {
   "cell_type": "markdown",
   "id": "36461adb",
   "metadata": {},
   "source": [
    "Чаще всего пропуски одновремено и в рейтинге, и в оценках пользователей и критиков. Так как данных пропусков очень много удалить мы их не можем. Заменять средней или медианной в данном случае будет некорректным, то следует поставить заглушку для дальнейшего удобства."
   ]
  },
  {
   "cell_type": "code",
   "execution_count": 16,
   "id": "b95c5d88",
   "metadata": {},
   "outputs": [
    {
     "data": {
      "text/plain": [
       "Unknown    6676\n",
       "E          3921\n",
       "T          2905\n",
       "M          1536\n",
       "E10+       1393\n",
       "EC            8\n",
       "K-A           3\n",
       "RP            1\n",
       "AO            1\n",
       "Name: rating, dtype: int64"
      ]
     },
     "execution_count": 16,
     "metadata": {},
     "output_type": "execute_result"
    }
   ],
   "source": [
    "# Заменим пропуски на Unknown, и посмотри уникальные значения.\n",
    "data['rating'] = data['rating'].fillna('Unknown')\n",
    "data['rating'].value_counts()"
   ]
  },
  {
   "cell_type": "markdown",
   "id": "982e5ee8",
   "metadata": {},
   "source": [
    "4 вида рейтинга встречаются часто: Е, Т, М и Е10+. Еще 4 почти не встречаются. Их можно заменить:\n",
    "\n",
    "* АО - на М;\n",
    "* RP - фактически, рейтинг не известен. Можно заменить на Unknown;\n",
    "* ЕС - на Е;\n",
    "* К-А - на Е."
   ]
  },
  {
   "cell_type": "code",
   "execution_count": 17,
   "id": "91f944d8",
   "metadata": {},
   "outputs": [],
   "source": [
    "# заменяем рейтинг\n",
    "data.loc[data['rating'] == 'AO', 'rating'] = 'M'\n",
    "data.loc[data['rating'] == 'RP', 'rating'] = 'Unknown'\n",
    "data.loc[data['rating'].isin(['EC', 'K-A']), 'rating'] = 'E'"
   ]
  },
  {
   "cell_type": "code",
   "execution_count": 18,
   "id": "0053a603",
   "metadata": {},
   "outputs": [
    {
     "data": {
      "text/plain": [
       "Unknown    6677\n",
       "E          3932\n",
       "T          2905\n",
       "M          1537\n",
       "E10+       1393\n",
       "Name: rating, dtype: int64"
      ]
     },
     "execution_count": 18,
     "metadata": {},
     "output_type": "execute_result"
    }
   ],
   "source": [
    "# проверка\n",
    "data['rating'].value_counts()"
   ]
  },
  {
   "cell_type": "code",
   "execution_count": 19,
   "id": "78a566e1",
   "metadata": {},
   "outputs": [
    {
     "data": {
      "text/html": [
       "<div>\n",
       "<style scoped>\n",
       "    .dataframe tbody tr th:only-of-type {\n",
       "        vertical-align: middle;\n",
       "    }\n",
       "\n",
       "    .dataframe tbody tr th {\n",
       "        vertical-align: top;\n",
       "    }\n",
       "\n",
       "    .dataframe thead th {\n",
       "        text-align: right;\n",
       "    }\n",
       "</style>\n",
       "<table border=\"1\" class=\"dataframe\">\n",
       "  <thead>\n",
       "    <tr style=\"text-align: right;\">\n",
       "      <th></th>\n",
       "      <th>name</th>\n",
       "      <th>platform</th>\n",
       "      <th>year_of_release</th>\n",
       "      <th>genre</th>\n",
       "      <th>na_sales</th>\n",
       "      <th>eu_sales</th>\n",
       "      <th>jp_sales</th>\n",
       "      <th>other_sales</th>\n",
       "      <th>critic_score</th>\n",
       "      <th>user_score</th>\n",
       "      <th>rating</th>\n",
       "    </tr>\n",
       "  </thead>\n",
       "  <tbody>\n",
       "    <tr>\n",
       "      <th>1</th>\n",
       "      <td>Super Mario Bros.</td>\n",
       "      <td>NES</td>\n",
       "      <td>1985.0</td>\n",
       "      <td>Platform</td>\n",
       "      <td>29.08</td>\n",
       "      <td>3.58</td>\n",
       "      <td>6.81</td>\n",
       "      <td>0.77</td>\n",
       "      <td>NaN</td>\n",
       "      <td>NaN</td>\n",
       "      <td>Unknown</td>\n",
       "    </tr>\n",
       "    <tr>\n",
       "      <th>4</th>\n",
       "      <td>Pokemon Red/Pokemon Blue</td>\n",
       "      <td>GB</td>\n",
       "      <td>1996.0</td>\n",
       "      <td>Role-Playing</td>\n",
       "      <td>11.27</td>\n",
       "      <td>8.89</td>\n",
       "      <td>10.22</td>\n",
       "      <td>1.00</td>\n",
       "      <td>NaN</td>\n",
       "      <td>NaN</td>\n",
       "      <td>Unknown</td>\n",
       "    </tr>\n",
       "    <tr>\n",
       "      <th>5</th>\n",
       "      <td>Tetris</td>\n",
       "      <td>GB</td>\n",
       "      <td>1989.0</td>\n",
       "      <td>Puzzle</td>\n",
       "      <td>23.20</td>\n",
       "      <td>2.26</td>\n",
       "      <td>4.22</td>\n",
       "      <td>0.58</td>\n",
       "      <td>NaN</td>\n",
       "      <td>NaN</td>\n",
       "      <td>Unknown</td>\n",
       "    </tr>\n",
       "    <tr>\n",
       "      <th>9</th>\n",
       "      <td>Duck Hunt</td>\n",
       "      <td>NES</td>\n",
       "      <td>1984.0</td>\n",
       "      <td>Shooter</td>\n",
       "      <td>26.93</td>\n",
       "      <td>0.63</td>\n",
       "      <td>0.28</td>\n",
       "      <td>0.47</td>\n",
       "      <td>NaN</td>\n",
       "      <td>NaN</td>\n",
       "      <td>Unknown</td>\n",
       "    </tr>\n",
       "    <tr>\n",
       "      <th>10</th>\n",
       "      <td>Nintendogs</td>\n",
       "      <td>DS</td>\n",
       "      <td>2005.0</td>\n",
       "      <td>Simulation</td>\n",
       "      <td>9.05</td>\n",
       "      <td>10.95</td>\n",
       "      <td>1.93</td>\n",
       "      <td>2.74</td>\n",
       "      <td>NaN</td>\n",
       "      <td>NaN</td>\n",
       "      <td>Unknown</td>\n",
       "    </tr>\n",
       "  </tbody>\n",
       "</table>\n",
       "</div>"
      ],
      "text/plain": [
       "                        name platform  year_of_release         genre  \\\n",
       "1          Super Mario Bros.      NES           1985.0      Platform   \n",
       "4   Pokemon Red/Pokemon Blue       GB           1996.0  Role-Playing   \n",
       "5                     Tetris       GB           1989.0        Puzzle   \n",
       "9                  Duck Hunt      NES           1984.0       Shooter   \n",
       "10                Nintendogs       DS           2005.0    Simulation   \n",
       "\n",
       "    na_sales  eu_sales  jp_sales  other_sales  critic_score user_score  \\\n",
       "1      29.08      3.58      6.81         0.77           NaN        NaN   \n",
       "4      11.27      8.89     10.22         1.00           NaN        NaN   \n",
       "5      23.20      2.26      4.22         0.58           NaN        NaN   \n",
       "9      26.93      0.63      0.28         0.47           NaN        NaN   \n",
       "10      9.05     10.95      1.93         2.74           NaN        NaN   \n",
       "\n",
       "     rating  \n",
       "1   Unknown  \n",
       "4   Unknown  \n",
       "5   Unknown  \n",
       "9   Unknown  \n",
       "10  Unknown  "
      ]
     },
     "execution_count": 19,
     "metadata": {},
     "output_type": "execute_result"
    }
   ],
   "source": [
    "# Посмотрим на пропуски в столбце critic_score\n",
    "data[data['critic_score'].isnull()].head()"
   ]
  },
  {
   "cell_type": "markdown",
   "id": "f47e9250",
   "metadata": {},
   "source": [
    "Так как пропусков очень много, то удалять и восстонавливать мы их не можем. Заменять средней или медианной в данном случае будет некорректным. Предлагаю оставить пропуски не тронутыми и не заставить заглушку, так как у нас числовой тип."
   ]
  },
  {
   "cell_type": "code",
   "execution_count": 20,
   "id": "7c1a3ef3",
   "metadata": {},
   "outputs": [
    {
     "data": {
      "text/html": [
       "<div>\n",
       "<style scoped>\n",
       "    .dataframe tbody tr th:only-of-type {\n",
       "        vertical-align: middle;\n",
       "    }\n",
       "\n",
       "    .dataframe tbody tr th {\n",
       "        vertical-align: top;\n",
       "    }\n",
       "\n",
       "    .dataframe thead th {\n",
       "        text-align: right;\n",
       "    }\n",
       "</style>\n",
       "<table border=\"1\" class=\"dataframe\">\n",
       "  <thead>\n",
       "    <tr style=\"text-align: right;\">\n",
       "      <th></th>\n",
       "      <th>name</th>\n",
       "      <th>platform</th>\n",
       "      <th>year_of_release</th>\n",
       "      <th>genre</th>\n",
       "      <th>na_sales</th>\n",
       "      <th>eu_sales</th>\n",
       "      <th>jp_sales</th>\n",
       "      <th>other_sales</th>\n",
       "      <th>critic_score</th>\n",
       "      <th>user_score</th>\n",
       "      <th>rating</th>\n",
       "    </tr>\n",
       "  </thead>\n",
       "  <tbody>\n",
       "    <tr>\n",
       "      <th>1</th>\n",
       "      <td>Super Mario Bros.</td>\n",
       "      <td>NES</td>\n",
       "      <td>1985.0</td>\n",
       "      <td>Platform</td>\n",
       "      <td>29.08</td>\n",
       "      <td>3.58</td>\n",
       "      <td>6.81</td>\n",
       "      <td>0.77</td>\n",
       "      <td>NaN</td>\n",
       "      <td>NaN</td>\n",
       "      <td>Unknown</td>\n",
       "    </tr>\n",
       "    <tr>\n",
       "      <th>4</th>\n",
       "      <td>Pokemon Red/Pokemon Blue</td>\n",
       "      <td>GB</td>\n",
       "      <td>1996.0</td>\n",
       "      <td>Role-Playing</td>\n",
       "      <td>11.27</td>\n",
       "      <td>8.89</td>\n",
       "      <td>10.22</td>\n",
       "      <td>1.00</td>\n",
       "      <td>NaN</td>\n",
       "      <td>NaN</td>\n",
       "      <td>Unknown</td>\n",
       "    </tr>\n",
       "    <tr>\n",
       "      <th>5</th>\n",
       "      <td>Tetris</td>\n",
       "      <td>GB</td>\n",
       "      <td>1989.0</td>\n",
       "      <td>Puzzle</td>\n",
       "      <td>23.20</td>\n",
       "      <td>2.26</td>\n",
       "      <td>4.22</td>\n",
       "      <td>0.58</td>\n",
       "      <td>NaN</td>\n",
       "      <td>NaN</td>\n",
       "      <td>Unknown</td>\n",
       "    </tr>\n",
       "    <tr>\n",
       "      <th>9</th>\n",
       "      <td>Duck Hunt</td>\n",
       "      <td>NES</td>\n",
       "      <td>1984.0</td>\n",
       "      <td>Shooter</td>\n",
       "      <td>26.93</td>\n",
       "      <td>0.63</td>\n",
       "      <td>0.28</td>\n",
       "      <td>0.47</td>\n",
       "      <td>NaN</td>\n",
       "      <td>NaN</td>\n",
       "      <td>Unknown</td>\n",
       "    </tr>\n",
       "    <tr>\n",
       "      <th>10</th>\n",
       "      <td>Nintendogs</td>\n",
       "      <td>DS</td>\n",
       "      <td>2005.0</td>\n",
       "      <td>Simulation</td>\n",
       "      <td>9.05</td>\n",
       "      <td>10.95</td>\n",
       "      <td>1.93</td>\n",
       "      <td>2.74</td>\n",
       "      <td>NaN</td>\n",
       "      <td>NaN</td>\n",
       "      <td>Unknown</td>\n",
       "    </tr>\n",
       "  </tbody>\n",
       "</table>\n",
       "</div>"
      ],
      "text/plain": [
       "                        name platform  year_of_release         genre  \\\n",
       "1          Super Mario Bros.      NES           1985.0      Platform   \n",
       "4   Pokemon Red/Pokemon Blue       GB           1996.0  Role-Playing   \n",
       "5                     Tetris       GB           1989.0        Puzzle   \n",
       "9                  Duck Hunt      NES           1984.0       Shooter   \n",
       "10                Nintendogs       DS           2005.0    Simulation   \n",
       "\n",
       "    na_sales  eu_sales  jp_sales  other_sales  critic_score user_score  \\\n",
       "1      29.08      3.58      6.81         0.77           NaN        NaN   \n",
       "4      11.27      8.89     10.22         1.00           NaN        NaN   \n",
       "5      23.20      2.26      4.22         0.58           NaN        NaN   \n",
       "9      26.93      0.63      0.28         0.47           NaN        NaN   \n",
       "10      9.05     10.95      1.93         2.74           NaN        NaN   \n",
       "\n",
       "     rating  \n",
       "1   Unknown  \n",
       "4   Unknown  \n",
       "5   Unknown  \n",
       "9   Unknown  \n",
       "10  Unknown  "
      ]
     },
     "execution_count": 20,
     "metadata": {},
     "output_type": "execute_result"
    }
   ],
   "source": [
    "# Посмотрим на пропуски в столбце user_score\n",
    "data[data['user_score'].isnull()].head()"
   ]
  },
  {
   "cell_type": "markdown",
   "id": "ebd85c88",
   "metadata": {},
   "source": [
    "Так как пропусков очень много, то удалять и восстонавливать мы их не можем. Заменять средней или медианной в данном случае будет некорректным. Предлагаю оставить пропуски не тронутыми и не заставить заглушку, так как у нас числовой тип."
   ]
  },
  {
   "cell_type": "code",
   "execution_count": 21,
   "id": "cbbcf912",
   "metadata": {},
   "outputs": [
    {
     "data": {
      "text/html": [
       "<div>\n",
       "<style scoped>\n",
       "    .dataframe tbody tr th:only-of-type {\n",
       "        vertical-align: middle;\n",
       "    }\n",
       "\n",
       "    .dataframe tbody tr th {\n",
       "        vertical-align: top;\n",
       "    }\n",
       "\n",
       "    .dataframe thead th {\n",
       "        text-align: right;\n",
       "    }\n",
       "</style>\n",
       "<table border=\"1\" class=\"dataframe\">\n",
       "  <thead>\n",
       "    <tr style=\"text-align: right;\">\n",
       "      <th></th>\n",
       "      <th>name</th>\n",
       "      <th>platform</th>\n",
       "      <th>year_of_release</th>\n",
       "      <th>genre</th>\n",
       "      <th>na_sales</th>\n",
       "      <th>eu_sales</th>\n",
       "      <th>jp_sales</th>\n",
       "      <th>other_sales</th>\n",
       "      <th>critic_score</th>\n",
       "      <th>user_score</th>\n",
       "      <th>rating</th>\n",
       "    </tr>\n",
       "  </thead>\n",
       "  <tbody>\n",
       "    <tr>\n",
       "      <th>119</th>\n",
       "      <td>Zumba Fitness</td>\n",
       "      <td>Wii</td>\n",
       "      <td>2010.0</td>\n",
       "      <td>Sports</td>\n",
       "      <td>3.45</td>\n",
       "      <td>2.59</td>\n",
       "      <td>0.0</td>\n",
       "      <td>0.66</td>\n",
       "      <td>NaN</td>\n",
       "      <td>tbd</td>\n",
       "      <td>E</td>\n",
       "    </tr>\n",
       "    <tr>\n",
       "      <th>301</th>\n",
       "      <td>Namco Museum: 50th Anniversary</td>\n",
       "      <td>PS2</td>\n",
       "      <td>2005.0</td>\n",
       "      <td>Misc</td>\n",
       "      <td>2.08</td>\n",
       "      <td>1.35</td>\n",
       "      <td>0.0</td>\n",
       "      <td>0.54</td>\n",
       "      <td>61.0</td>\n",
       "      <td>tbd</td>\n",
       "      <td>E10+</td>\n",
       "    </tr>\n",
       "    <tr>\n",
       "      <th>520</th>\n",
       "      <td>Zumba Fitness 2</td>\n",
       "      <td>Wii</td>\n",
       "      <td>2011.0</td>\n",
       "      <td>Sports</td>\n",
       "      <td>1.51</td>\n",
       "      <td>1.03</td>\n",
       "      <td>0.0</td>\n",
       "      <td>0.27</td>\n",
       "      <td>NaN</td>\n",
       "      <td>tbd</td>\n",
       "      <td>T</td>\n",
       "    </tr>\n",
       "    <tr>\n",
       "      <th>645</th>\n",
       "      <td>uDraw Studio</td>\n",
       "      <td>Wii</td>\n",
       "      <td>2010.0</td>\n",
       "      <td>Misc</td>\n",
       "      <td>1.65</td>\n",
       "      <td>0.57</td>\n",
       "      <td>0.0</td>\n",
       "      <td>0.20</td>\n",
       "      <td>71.0</td>\n",
       "      <td>tbd</td>\n",
       "      <td>E</td>\n",
       "    </tr>\n",
       "    <tr>\n",
       "      <th>718</th>\n",
       "      <td>Just Dance Kids</td>\n",
       "      <td>Wii</td>\n",
       "      <td>2010.0</td>\n",
       "      <td>Misc</td>\n",
       "      <td>1.52</td>\n",
       "      <td>0.54</td>\n",
       "      <td>0.0</td>\n",
       "      <td>0.18</td>\n",
       "      <td>NaN</td>\n",
       "      <td>tbd</td>\n",
       "      <td>E</td>\n",
       "    </tr>\n",
       "  </tbody>\n",
       "</table>\n",
       "</div>"
      ],
      "text/plain": [
       "                               name platform  year_of_release   genre  \\\n",
       "119                   Zumba Fitness      Wii           2010.0  Sports   \n",
       "301  Namco Museum: 50th Anniversary      PS2           2005.0    Misc   \n",
       "520                 Zumba Fitness 2      Wii           2011.0  Sports   \n",
       "645                    uDraw Studio      Wii           2010.0    Misc   \n",
       "718                 Just Dance Kids      Wii           2010.0    Misc   \n",
       "\n",
       "     na_sales  eu_sales  jp_sales  other_sales  critic_score user_score rating  \n",
       "119      3.45      2.59       0.0         0.66           NaN        tbd      E  \n",
       "301      2.08      1.35       0.0         0.54          61.0        tbd   E10+  \n",
       "520      1.51      1.03       0.0         0.27           NaN        tbd      T  \n",
       "645      1.65      0.57       0.0         0.20          71.0        tbd      E  \n",
       "718      1.52      0.54       0.0         0.18           NaN        tbd      E  "
      ]
     },
     "execution_count": 21,
     "metadata": {},
     "output_type": "execute_result"
    }
   ],
   "source": [
    "data[data['user_score'] == 'tbd'].head()"
   ]
  },
  {
   "cell_type": "code",
   "execution_count": 22,
   "id": "6d01afd7",
   "metadata": {},
   "outputs": [
    {
     "data": {
      "text/plain": [
       "0.14449039163220628"
      ]
     },
     "execution_count": 22,
     "metadata": {},
     "output_type": "execute_result"
    }
   ],
   "source": [
    "# процент tbd в столбце user_score\n",
    "len(data[data['user_score'] == 'tbd'])/len(data)"
   ]
  },
  {
   "cell_type": "markdown",
   "id": "c55c6483",
   "metadata": {},
   "source": [
    "tbd означает \"To Be Determined\" - т.е., оценка будет определена позже. По смыслу это ничем не отличается от пропуска. При этом таких значений - 14,5%. Мы не можем их ни удалить, ни восстановить, поэтому заменяем на NaN и оставляем не тронутым."
   ]
  },
  {
   "cell_type": "code",
   "execution_count": 23,
   "id": "03e51434",
   "metadata": {},
   "outputs": [
    {
     "data": {
      "text/plain": [
       "array(['8', nan, '8.3', '8.5', '6.6', '8.4', '8.6', '7.7', '6.3', '7.4',\n",
       "       '8.2', '9', '7.9', '8.1', '8.7', '7.1', '3.4', '5.3', '4.8', '3.2',\n",
       "       '8.9', '6.4', '7.8', '7.5', '2.6', '7.2', '9.2', '7', '7.3', '4.3',\n",
       "       '7.6', '5.7', '5', '9.1', '6.5', '8.8', '6.9', '9.4', '6.8', '6.1',\n",
       "       '6.7', '5.4', '4', '4.9', '4.5', '9.3', '6.2', '4.2', '6', '3.7',\n",
       "       '4.1', '5.8', '5.6', '5.5', '4.4', '4.6', '5.9', '3.9', '3.1',\n",
       "       '2.9', '5.2', '3.3', '4.7', '5.1', '3.5', '2.5', '1.9', '3', '2.7',\n",
       "       '2.2', '2', '9.5', '2.1', '3.6', '2.8', '1.8', '3.8', '0', '1.6',\n",
       "       '9.6', '2.4', '1.7', '1.1', '0.3', '1.5', '0.7', '1.2', '2.3',\n",
       "       '0.5', '1.3', '0.2', '0.6', '1.4', '0.9', '1', '9.7'], dtype=object)"
      ]
     },
     "execution_count": 23,
     "metadata": {},
     "output_type": "execute_result"
    }
   ],
   "source": [
    "# заменяем значения tbd на NaN и выведем уникальные значения \n",
    "data['user_score'] = data['user_score'].replace('tbd', np.NaN)\n",
    "data['user_score'].unique()"
   ]
  },
  {
   "cell_type": "code",
   "execution_count": 24,
   "id": "f9243617",
   "metadata": {},
   "outputs": [],
   "source": [
    "# приведем типы данных\n",
    "data['year_of_release'] = data['year_of_release'].astype('int')\n",
    "data['critic_score'] = data['critic_score'].astype('float')\n",
    "data['user_score'] = data['user_score'].astype('float')"
   ]
  },
  {
   "cell_type": "code",
   "execution_count": 25,
   "id": "8bd5abea",
   "metadata": {},
   "outputs": [],
   "source": [
    "# Найдем общие продажи по регионам\n",
    "data['total_sales'] = data[['na_sales','eu_sales','jp_sales', 'other_sales']].sum(axis = 1)"
   ]
  },
  {
   "cell_type": "code",
   "execution_count": 26,
   "id": "169357bd",
   "metadata": {},
   "outputs": [
    {
     "name": "stdout",
     "output_type": "stream",
     "text": [
      "<class 'pandas.core.frame.DataFrame'>\n",
      "Int64Index: 16444 entries, 0 to 16714\n",
      "Data columns (total 12 columns):\n",
      " #   Column           Non-Null Count  Dtype  \n",
      "---  ------           --------------  -----  \n",
      " 0   name             16444 non-null  object \n",
      " 1   platform         16444 non-null  object \n",
      " 2   year_of_release  16444 non-null  int64  \n",
      " 3   genre            16444 non-null  object \n",
      " 4   na_sales         16444 non-null  float64\n",
      " 5   eu_sales         16444 non-null  float64\n",
      " 6   jp_sales         16444 non-null  float64\n",
      " 7   other_sales      16444 non-null  float64\n",
      " 8   critic_score     7983 non-null   float64\n",
      " 9   user_score       7463 non-null   float64\n",
      " 10  rating           16444 non-null  object \n",
      " 11  total_sales      16444 non-null  float64\n",
      "dtypes: float64(7), int64(1), object(4)\n",
      "memory usage: 1.6+ MB\n"
     ]
    }
   ],
   "source": [
    "data.info()"
   ]
  },
  {
   "cell_type": "markdown",
   "id": "b92418e8",
   "metadata": {},
   "source": [
    "### Вывод"
   ]
  },
  {
   "cell_type": "markdown",
   "id": "f27f6003",
   "metadata": {},
   "source": [
    "На этапе предообработке данных, мы:\n",
    "\n",
    "- привели название стобцов к нижнему регистру; \n",
    "- поработали с пропусками, где это было возможным и логичным; \n",
    "- проработали со значением \"tbd\";\n",
    "- преобразовали в необходимые типы данных;\n",
    "- добавили столбец с общими продожами по всем регионам."
   ]
  },
  {
   "cell_type": "markdown",
   "id": "15048228",
   "metadata": {},
   "source": [
    "## Исследовательский анализ данных"
   ]
  },
  {
   "cell_type": "markdown",
   "id": "32b06630",
   "metadata": {},
   "source": [
    "### Количество выпускаемых игр по годам."
   ]
  },
  {
   "cell_type": "code",
   "execution_count": 27,
   "id": "c24a9626",
   "metadata": {},
   "outputs": [
    {
     "data": {
      "application/vnd.plotly.v1+json": {
       "config": {
        "linkText": "Export to plot.ly",
        "plotlyServerURL": "https://plot.ly",
        "showLink": false
       },
       "data": [
        {
         "name": "Количество проданных копий, млн.",
         "type": "scatter",
         "x": [
          1980,
          1981,
          1982,
          1983,
          1984,
          1985,
          1986,
          1987,
          1988,
          1989,
          1990,
          1991,
          1992,
          1993,
          1994,
          1995,
          1996,
          1997,
          1998,
          1999,
          2000,
          2001,
          2002,
          2003,
          2004,
          2005,
          2006,
          2007,
          2008,
          2009,
          2010,
          2011,
          2012,
          2013,
          2014,
          2015,
          2016
         ],
         "y": [
          11.379999999999999,
          35.68,
          28.880000000000003,
          16.799999999999997,
          50.350000000000016,
          53.95,
          37.07999999999999,
          21.7,
          47.21,
          73.44999999999999,
          49.36999999999999,
          32.230000000000004,
          76.15999999999998,
          45.99,
          79.23000000000008,
          88.1199999999999,
          199.15000000000006,
          201.07000000000008,
          256.30999999999983,
          251.11000000000038,
          201.66000000000014,
          331.4599999999994,
          394.96999999999866,
          357.5399999999995,
          418.6799999999991,
          457.81999999999806,
          517.7099999999965,
          604.7499999999928,
          671.4999999999934,
          658.8199999999947,
          590.1299999999939,
          507.579999999997,
          355.8399999999985,
          361.23999999999876,
          331.5299999999987,
          267.97999999999683,
          129.94000000000005
         ]
        },
        {
         "name": "Количество выпущенных игр",
         "type": "scatter",
         "x": [
          1980,
          1981,
          1982,
          1983,
          1984,
          1985,
          1986,
          1987,
          1988,
          1989,
          1990,
          1991,
          1992,
          1993,
          1994,
          1995,
          1996,
          1997,
          1998,
          1999,
          2000,
          2001,
          2002,
          2003,
          2004,
          2005,
          2006,
          2007,
          2008,
          2009,
          2010,
          2011,
          2012,
          2013,
          2014,
          2015,
          2016
         ],
         "y": [
          9,
          46,
          36,
          17,
          14,
          14,
          21,
          16,
          15,
          17,
          16,
          41,
          43,
          60,
          121,
          219,
          263,
          289,
          379,
          338,
          350,
          482,
          829,
          775,
          762,
          939,
          1006,
          1197,
          1427,
          1426,
          1255,
          1136,
          653,
          544,
          581,
          606,
          502
         ]
        }
       ],
       "layout": {
        "template": {
         "data": {
          "bar": [
           {
            "error_x": {
             "color": "#2a3f5f"
            },
            "error_y": {
             "color": "#2a3f5f"
            },
            "marker": {
             "line": {
              "color": "#E5ECF6",
              "width": 0.5
             },
             "pattern": {
              "fillmode": "overlay",
              "size": 10,
              "solidity": 0.2
             }
            },
            "type": "bar"
           }
          ],
          "barpolar": [
           {
            "marker": {
             "line": {
              "color": "#E5ECF6",
              "width": 0.5
             },
             "pattern": {
              "fillmode": "overlay",
              "size": 10,
              "solidity": 0.2
             }
            },
            "type": "barpolar"
           }
          ],
          "carpet": [
           {
            "aaxis": {
             "endlinecolor": "#2a3f5f",
             "gridcolor": "white",
             "linecolor": "white",
             "minorgridcolor": "white",
             "startlinecolor": "#2a3f5f"
            },
            "baxis": {
             "endlinecolor": "#2a3f5f",
             "gridcolor": "white",
             "linecolor": "white",
             "minorgridcolor": "white",
             "startlinecolor": "#2a3f5f"
            },
            "type": "carpet"
           }
          ],
          "choropleth": [
           {
            "colorbar": {
             "outlinewidth": 0,
             "ticks": ""
            },
            "type": "choropleth"
           }
          ],
          "contour": [
           {
            "colorbar": {
             "outlinewidth": 0,
             "ticks": ""
            },
            "colorscale": [
             [
              0,
              "#0d0887"
             ],
             [
              0.1111111111111111,
              "#46039f"
             ],
             [
              0.2222222222222222,
              "#7201a8"
             ],
             [
              0.3333333333333333,
              "#9c179e"
             ],
             [
              0.4444444444444444,
              "#bd3786"
             ],
             [
              0.5555555555555556,
              "#d8576b"
             ],
             [
              0.6666666666666666,
              "#ed7953"
             ],
             [
              0.7777777777777778,
              "#fb9f3a"
             ],
             [
              0.8888888888888888,
              "#fdca26"
             ],
             [
              1,
              "#f0f921"
             ]
            ],
            "type": "contour"
           }
          ],
          "contourcarpet": [
           {
            "colorbar": {
             "outlinewidth": 0,
             "ticks": ""
            },
            "type": "contourcarpet"
           }
          ],
          "heatmap": [
           {
            "colorbar": {
             "outlinewidth": 0,
             "ticks": ""
            },
            "colorscale": [
             [
              0,
              "#0d0887"
             ],
             [
              0.1111111111111111,
              "#46039f"
             ],
             [
              0.2222222222222222,
              "#7201a8"
             ],
             [
              0.3333333333333333,
              "#9c179e"
             ],
             [
              0.4444444444444444,
              "#bd3786"
             ],
             [
              0.5555555555555556,
              "#d8576b"
             ],
             [
              0.6666666666666666,
              "#ed7953"
             ],
             [
              0.7777777777777778,
              "#fb9f3a"
             ],
             [
              0.8888888888888888,
              "#fdca26"
             ],
             [
              1,
              "#f0f921"
             ]
            ],
            "type": "heatmap"
           }
          ],
          "heatmapgl": [
           {
            "colorbar": {
             "outlinewidth": 0,
             "ticks": ""
            },
            "colorscale": [
             [
              0,
              "#0d0887"
             ],
             [
              0.1111111111111111,
              "#46039f"
             ],
             [
              0.2222222222222222,
              "#7201a8"
             ],
             [
              0.3333333333333333,
              "#9c179e"
             ],
             [
              0.4444444444444444,
              "#bd3786"
             ],
             [
              0.5555555555555556,
              "#d8576b"
             ],
             [
              0.6666666666666666,
              "#ed7953"
             ],
             [
              0.7777777777777778,
              "#fb9f3a"
             ],
             [
              0.8888888888888888,
              "#fdca26"
             ],
             [
              1,
              "#f0f921"
             ]
            ],
            "type": "heatmapgl"
           }
          ],
          "histogram": [
           {
            "marker": {
             "pattern": {
              "fillmode": "overlay",
              "size": 10,
              "solidity": 0.2
             }
            },
            "type": "histogram"
           }
          ],
          "histogram2d": [
           {
            "colorbar": {
             "outlinewidth": 0,
             "ticks": ""
            },
            "colorscale": [
             [
              0,
              "#0d0887"
             ],
             [
              0.1111111111111111,
              "#46039f"
             ],
             [
              0.2222222222222222,
              "#7201a8"
             ],
             [
              0.3333333333333333,
              "#9c179e"
             ],
             [
              0.4444444444444444,
              "#bd3786"
             ],
             [
              0.5555555555555556,
              "#d8576b"
             ],
             [
              0.6666666666666666,
              "#ed7953"
             ],
             [
              0.7777777777777778,
              "#fb9f3a"
             ],
             [
              0.8888888888888888,
              "#fdca26"
             ],
             [
              1,
              "#f0f921"
             ]
            ],
            "type": "histogram2d"
           }
          ],
          "histogram2dcontour": [
           {
            "colorbar": {
             "outlinewidth": 0,
             "ticks": ""
            },
            "colorscale": [
             [
              0,
              "#0d0887"
             ],
             [
              0.1111111111111111,
              "#46039f"
             ],
             [
              0.2222222222222222,
              "#7201a8"
             ],
             [
              0.3333333333333333,
              "#9c179e"
             ],
             [
              0.4444444444444444,
              "#bd3786"
             ],
             [
              0.5555555555555556,
              "#d8576b"
             ],
             [
              0.6666666666666666,
              "#ed7953"
             ],
             [
              0.7777777777777778,
              "#fb9f3a"
             ],
             [
              0.8888888888888888,
              "#fdca26"
             ],
             [
              1,
              "#f0f921"
             ]
            ],
            "type": "histogram2dcontour"
           }
          ],
          "mesh3d": [
           {
            "colorbar": {
             "outlinewidth": 0,
             "ticks": ""
            },
            "type": "mesh3d"
           }
          ],
          "parcoords": [
           {
            "line": {
             "colorbar": {
              "outlinewidth": 0,
              "ticks": ""
             }
            },
            "type": "parcoords"
           }
          ],
          "pie": [
           {
            "automargin": true,
            "type": "pie"
           }
          ],
          "scatter": [
           {
            "marker": {
             "colorbar": {
              "outlinewidth": 0,
              "ticks": ""
             }
            },
            "type": "scatter"
           }
          ],
          "scatter3d": [
           {
            "line": {
             "colorbar": {
              "outlinewidth": 0,
              "ticks": ""
             }
            },
            "marker": {
             "colorbar": {
              "outlinewidth": 0,
              "ticks": ""
             }
            },
            "type": "scatter3d"
           }
          ],
          "scattercarpet": [
           {
            "marker": {
             "colorbar": {
              "outlinewidth": 0,
              "ticks": ""
             }
            },
            "type": "scattercarpet"
           }
          ],
          "scattergeo": [
           {
            "marker": {
             "colorbar": {
              "outlinewidth": 0,
              "ticks": ""
             }
            },
            "type": "scattergeo"
           }
          ],
          "scattergl": [
           {
            "marker": {
             "colorbar": {
              "outlinewidth": 0,
              "ticks": ""
             }
            },
            "type": "scattergl"
           }
          ],
          "scattermapbox": [
           {
            "marker": {
             "colorbar": {
              "outlinewidth": 0,
              "ticks": ""
             }
            },
            "type": "scattermapbox"
           }
          ],
          "scatterpolar": [
           {
            "marker": {
             "colorbar": {
              "outlinewidth": 0,
              "ticks": ""
             }
            },
            "type": "scatterpolar"
           }
          ],
          "scatterpolargl": [
           {
            "marker": {
             "colorbar": {
              "outlinewidth": 0,
              "ticks": ""
             }
            },
            "type": "scatterpolargl"
           }
          ],
          "scatterternary": [
           {
            "marker": {
             "colorbar": {
              "outlinewidth": 0,
              "ticks": ""
             }
            },
            "type": "scatterternary"
           }
          ],
          "surface": [
           {
            "colorbar": {
             "outlinewidth": 0,
             "ticks": ""
            },
            "colorscale": [
             [
              0,
              "#0d0887"
             ],
             [
              0.1111111111111111,
              "#46039f"
             ],
             [
              0.2222222222222222,
              "#7201a8"
             ],
             [
              0.3333333333333333,
              "#9c179e"
             ],
             [
              0.4444444444444444,
              "#bd3786"
             ],
             [
              0.5555555555555556,
              "#d8576b"
             ],
             [
              0.6666666666666666,
              "#ed7953"
             ],
             [
              0.7777777777777778,
              "#fb9f3a"
             ],
             [
              0.8888888888888888,
              "#fdca26"
             ],
             [
              1,
              "#f0f921"
             ]
            ],
            "type": "surface"
           }
          ],
          "table": [
           {
            "cells": {
             "fill": {
              "color": "#EBF0F8"
             },
             "line": {
              "color": "white"
             }
            },
            "header": {
             "fill": {
              "color": "#C8D4E3"
             },
             "line": {
              "color": "white"
             }
            },
            "type": "table"
           }
          ]
         },
         "layout": {
          "annotationdefaults": {
           "arrowcolor": "#2a3f5f",
           "arrowhead": 0,
           "arrowwidth": 1
          },
          "autotypenumbers": "strict",
          "coloraxis": {
           "colorbar": {
            "outlinewidth": 0,
            "ticks": ""
           }
          },
          "colorscale": {
           "diverging": [
            [
             0,
             "#8e0152"
            ],
            [
             0.1,
             "#c51b7d"
            ],
            [
             0.2,
             "#de77ae"
            ],
            [
             0.3,
             "#f1b6da"
            ],
            [
             0.4,
             "#fde0ef"
            ],
            [
             0.5,
             "#f7f7f7"
            ],
            [
             0.6,
             "#e6f5d0"
            ],
            [
             0.7,
             "#b8e186"
            ],
            [
             0.8,
             "#7fbc41"
            ],
            [
             0.9,
             "#4d9221"
            ],
            [
             1,
             "#276419"
            ]
           ],
           "sequential": [
            [
             0,
             "#0d0887"
            ],
            [
             0.1111111111111111,
             "#46039f"
            ],
            [
             0.2222222222222222,
             "#7201a8"
            ],
            [
             0.3333333333333333,
             "#9c179e"
            ],
            [
             0.4444444444444444,
             "#bd3786"
            ],
            [
             0.5555555555555556,
             "#d8576b"
            ],
            [
             0.6666666666666666,
             "#ed7953"
            ],
            [
             0.7777777777777778,
             "#fb9f3a"
            ],
            [
             0.8888888888888888,
             "#fdca26"
            ],
            [
             1,
             "#f0f921"
            ]
           ],
           "sequentialminus": [
            [
             0,
             "#0d0887"
            ],
            [
             0.1111111111111111,
             "#46039f"
            ],
            [
             0.2222222222222222,
             "#7201a8"
            ],
            [
             0.3333333333333333,
             "#9c179e"
            ],
            [
             0.4444444444444444,
             "#bd3786"
            ],
            [
             0.5555555555555556,
             "#d8576b"
            ],
            [
             0.6666666666666666,
             "#ed7953"
            ],
            [
             0.7777777777777778,
             "#fb9f3a"
            ],
            [
             0.8888888888888888,
             "#fdca26"
            ],
            [
             1,
             "#f0f921"
            ]
           ]
          },
          "colorway": [
           "#636efa",
           "#EF553B",
           "#00cc96",
           "#ab63fa",
           "#FFA15A",
           "#19d3f3",
           "#FF6692",
           "#B6E880",
           "#FF97FF",
           "#FECB52"
          ],
          "font": {
           "color": "#2a3f5f"
          },
          "geo": {
           "bgcolor": "white",
           "lakecolor": "white",
           "landcolor": "#E5ECF6",
           "showlakes": true,
           "showland": true,
           "subunitcolor": "white"
          },
          "hoverlabel": {
           "align": "left"
          },
          "hovermode": "closest",
          "mapbox": {
           "style": "light"
          },
          "paper_bgcolor": "white",
          "plot_bgcolor": "#E5ECF6",
          "polar": {
           "angularaxis": {
            "gridcolor": "white",
            "linecolor": "white",
            "ticks": ""
           },
           "bgcolor": "#E5ECF6",
           "radialaxis": {
            "gridcolor": "white",
            "linecolor": "white",
            "ticks": ""
           }
          },
          "scene": {
           "xaxis": {
            "backgroundcolor": "#E5ECF6",
            "gridcolor": "white",
            "gridwidth": 2,
            "linecolor": "white",
            "showbackground": true,
            "ticks": "",
            "zerolinecolor": "white"
           },
           "yaxis": {
            "backgroundcolor": "#E5ECF6",
            "gridcolor": "white",
            "gridwidth": 2,
            "linecolor": "white",
            "showbackground": true,
            "ticks": "",
            "zerolinecolor": "white"
           },
           "zaxis": {
            "backgroundcolor": "#E5ECF6",
            "gridcolor": "white",
            "gridwidth": 2,
            "linecolor": "white",
            "showbackground": true,
            "ticks": "",
            "zerolinecolor": "white"
           }
          },
          "shapedefaults": {
           "line": {
            "color": "#2a3f5f"
           }
          },
          "ternary": {
           "aaxis": {
            "gridcolor": "white",
            "linecolor": "white",
            "ticks": ""
           },
           "baxis": {
            "gridcolor": "white",
            "linecolor": "white",
            "ticks": ""
           },
           "bgcolor": "#E5ECF6",
           "caxis": {
            "gridcolor": "white",
            "linecolor": "white",
            "ticks": ""
           }
          },
          "title": {
           "x": 0.05
          },
          "xaxis": {
           "automargin": true,
           "gridcolor": "white",
           "linecolor": "white",
           "ticks": "",
           "title": {
            "standoff": 15
           },
           "zerolinecolor": "white",
           "zerolinewidth": 2
          },
          "yaxis": {
           "automargin": true,
           "gridcolor": "white",
           "linecolor": "white",
           "ticks": "",
           "title": {
            "standoff": 15
           },
           "zerolinecolor": "white",
           "zerolinewidth": 2
          }
         }
        },
        "title": {
         "text": "Динамика выпуска игр по годам"
        }
       }
      },
      "text/html": [
       "<div>                            <div id=\"b42de105-c0d2-4333-a646-0002b0b5aced\" class=\"plotly-graph-div\" style=\"height:525px; width:100%;\"></div>            <script type=\"text/javascript\">                require([\"plotly\"], function(Plotly) {                    window.PLOTLYENV=window.PLOTLYENV || {};                                    if (document.getElementById(\"b42de105-c0d2-4333-a646-0002b0b5aced\")) {                    Plotly.newPlot(                        \"b42de105-c0d2-4333-a646-0002b0b5aced\",                        [{\"name\":\"\\u041a\\u043e\\u043b\\u0438\\u0447\\u0435\\u0441\\u0442\\u0432\\u043e \\u043f\\u0440\\u043e\\u0434\\u0430\\u043d\\u043d\\u044b\\u0445 \\u043a\\u043e\\u043f\\u0438\\u0439, \\u043c\\u043b\\u043d.\",\"x\":[1980,1981,1982,1983,1984,1985,1986,1987,1988,1989,1990,1991,1992,1993,1994,1995,1996,1997,1998,1999,2000,2001,2002,2003,2004,2005,2006,2007,2008,2009,2010,2011,2012,2013,2014,2015,2016],\"y\":[11.379999999999999,35.68,28.880000000000003,16.799999999999997,50.350000000000016,53.95,37.07999999999999,21.7,47.21,73.44999999999999,49.36999999999999,32.230000000000004,76.15999999999998,45.99,79.23000000000008,88.1199999999999,199.15000000000006,201.07000000000008,256.30999999999983,251.11000000000038,201.66000000000014,331.4599999999994,394.96999999999866,357.5399999999995,418.6799999999991,457.81999999999806,517.7099999999965,604.7499999999928,671.4999999999934,658.8199999999947,590.1299999999939,507.579999999997,355.8399999999985,361.23999999999876,331.5299999999987,267.97999999999683,129.94000000000005],\"type\":\"scatter\"},{\"name\":\"\\u041a\\u043e\\u043b\\u0438\\u0447\\u0435\\u0441\\u0442\\u0432\\u043e \\u0432\\u044b\\u043f\\u0443\\u0449\\u0435\\u043d\\u043d\\u044b\\u0445 \\u0438\\u0433\\u0440\",\"x\":[1980,1981,1982,1983,1984,1985,1986,1987,1988,1989,1990,1991,1992,1993,1994,1995,1996,1997,1998,1999,2000,2001,2002,2003,2004,2005,2006,2007,2008,2009,2010,2011,2012,2013,2014,2015,2016],\"y\":[9,46,36,17,14,14,21,16,15,17,16,41,43,60,121,219,263,289,379,338,350,482,829,775,762,939,1006,1197,1427,1426,1255,1136,653,544,581,606,502],\"type\":\"scatter\"}],                        {\"template\":{\"data\":{\"barpolar\":[{\"marker\":{\"line\":{\"color\":\"#E5ECF6\",\"width\":0.5},\"pattern\":{\"fillmode\":\"overlay\",\"size\":10,\"solidity\":0.2}},\"type\":\"barpolar\"}],\"bar\":[{\"error_x\":{\"color\":\"#2a3f5f\"},\"error_y\":{\"color\":\"#2a3f5f\"},\"marker\":{\"line\":{\"color\":\"#E5ECF6\",\"width\":0.5},\"pattern\":{\"fillmode\":\"overlay\",\"size\":10,\"solidity\":0.2}},\"type\":\"bar\"}],\"carpet\":[{\"aaxis\":{\"endlinecolor\":\"#2a3f5f\",\"gridcolor\":\"white\",\"linecolor\":\"white\",\"minorgridcolor\":\"white\",\"startlinecolor\":\"#2a3f5f\"},\"baxis\":{\"endlinecolor\":\"#2a3f5f\",\"gridcolor\":\"white\",\"linecolor\":\"white\",\"minorgridcolor\":\"white\",\"startlinecolor\":\"#2a3f5f\"},\"type\":\"carpet\"}],\"choropleth\":[{\"colorbar\":{\"outlinewidth\":0,\"ticks\":\"\"},\"type\":\"choropleth\"}],\"contourcarpet\":[{\"colorbar\":{\"outlinewidth\":0,\"ticks\":\"\"},\"type\":\"contourcarpet\"}],\"contour\":[{\"colorbar\":{\"outlinewidth\":0,\"ticks\":\"\"},\"colorscale\":[[0.0,\"#0d0887\"],[0.1111111111111111,\"#46039f\"],[0.2222222222222222,\"#7201a8\"],[0.3333333333333333,\"#9c179e\"],[0.4444444444444444,\"#bd3786\"],[0.5555555555555556,\"#d8576b\"],[0.6666666666666666,\"#ed7953\"],[0.7777777777777778,\"#fb9f3a\"],[0.8888888888888888,\"#fdca26\"],[1.0,\"#f0f921\"]],\"type\":\"contour\"}],\"heatmapgl\":[{\"colorbar\":{\"outlinewidth\":0,\"ticks\":\"\"},\"colorscale\":[[0.0,\"#0d0887\"],[0.1111111111111111,\"#46039f\"],[0.2222222222222222,\"#7201a8\"],[0.3333333333333333,\"#9c179e\"],[0.4444444444444444,\"#bd3786\"],[0.5555555555555556,\"#d8576b\"],[0.6666666666666666,\"#ed7953\"],[0.7777777777777778,\"#fb9f3a\"],[0.8888888888888888,\"#fdca26\"],[1.0,\"#f0f921\"]],\"type\":\"heatmapgl\"}],\"heatmap\":[{\"colorbar\":{\"outlinewidth\":0,\"ticks\":\"\"},\"colorscale\":[[0.0,\"#0d0887\"],[0.1111111111111111,\"#46039f\"],[0.2222222222222222,\"#7201a8\"],[0.3333333333333333,\"#9c179e\"],[0.4444444444444444,\"#bd3786\"],[0.5555555555555556,\"#d8576b\"],[0.6666666666666666,\"#ed7953\"],[0.7777777777777778,\"#fb9f3a\"],[0.8888888888888888,\"#fdca26\"],[1.0,\"#f0f921\"]],\"type\":\"heatmap\"}],\"histogram2dcontour\":[{\"colorbar\":{\"outlinewidth\":0,\"ticks\":\"\"},\"colorscale\":[[0.0,\"#0d0887\"],[0.1111111111111111,\"#46039f\"],[0.2222222222222222,\"#7201a8\"],[0.3333333333333333,\"#9c179e\"],[0.4444444444444444,\"#bd3786\"],[0.5555555555555556,\"#d8576b\"],[0.6666666666666666,\"#ed7953\"],[0.7777777777777778,\"#fb9f3a\"],[0.8888888888888888,\"#fdca26\"],[1.0,\"#f0f921\"]],\"type\":\"histogram2dcontour\"}],\"histogram2d\":[{\"colorbar\":{\"outlinewidth\":0,\"ticks\":\"\"},\"colorscale\":[[0.0,\"#0d0887\"],[0.1111111111111111,\"#46039f\"],[0.2222222222222222,\"#7201a8\"],[0.3333333333333333,\"#9c179e\"],[0.4444444444444444,\"#bd3786\"],[0.5555555555555556,\"#d8576b\"],[0.6666666666666666,\"#ed7953\"],[0.7777777777777778,\"#fb9f3a\"],[0.8888888888888888,\"#fdca26\"],[1.0,\"#f0f921\"]],\"type\":\"histogram2d\"}],\"histogram\":[{\"marker\":{\"pattern\":{\"fillmode\":\"overlay\",\"size\":10,\"solidity\":0.2}},\"type\":\"histogram\"}],\"mesh3d\":[{\"colorbar\":{\"outlinewidth\":0,\"ticks\":\"\"},\"type\":\"mesh3d\"}],\"parcoords\":[{\"line\":{\"colorbar\":{\"outlinewidth\":0,\"ticks\":\"\"}},\"type\":\"parcoords\"}],\"pie\":[{\"automargin\":true,\"type\":\"pie\"}],\"scatter3d\":[{\"line\":{\"colorbar\":{\"outlinewidth\":0,\"ticks\":\"\"}},\"marker\":{\"colorbar\":{\"outlinewidth\":0,\"ticks\":\"\"}},\"type\":\"scatter3d\"}],\"scattercarpet\":[{\"marker\":{\"colorbar\":{\"outlinewidth\":0,\"ticks\":\"\"}},\"type\":\"scattercarpet\"}],\"scattergeo\":[{\"marker\":{\"colorbar\":{\"outlinewidth\":0,\"ticks\":\"\"}},\"type\":\"scattergeo\"}],\"scattergl\":[{\"marker\":{\"colorbar\":{\"outlinewidth\":0,\"ticks\":\"\"}},\"type\":\"scattergl\"}],\"scattermapbox\":[{\"marker\":{\"colorbar\":{\"outlinewidth\":0,\"ticks\":\"\"}},\"type\":\"scattermapbox\"}],\"scatterpolargl\":[{\"marker\":{\"colorbar\":{\"outlinewidth\":0,\"ticks\":\"\"}},\"type\":\"scatterpolargl\"}],\"scatterpolar\":[{\"marker\":{\"colorbar\":{\"outlinewidth\":0,\"ticks\":\"\"}},\"type\":\"scatterpolar\"}],\"scatter\":[{\"marker\":{\"colorbar\":{\"outlinewidth\":0,\"ticks\":\"\"}},\"type\":\"scatter\"}],\"scatterternary\":[{\"marker\":{\"colorbar\":{\"outlinewidth\":0,\"ticks\":\"\"}},\"type\":\"scatterternary\"}],\"surface\":[{\"colorbar\":{\"outlinewidth\":0,\"ticks\":\"\"},\"colorscale\":[[0.0,\"#0d0887\"],[0.1111111111111111,\"#46039f\"],[0.2222222222222222,\"#7201a8\"],[0.3333333333333333,\"#9c179e\"],[0.4444444444444444,\"#bd3786\"],[0.5555555555555556,\"#d8576b\"],[0.6666666666666666,\"#ed7953\"],[0.7777777777777778,\"#fb9f3a\"],[0.8888888888888888,\"#fdca26\"],[1.0,\"#f0f921\"]],\"type\":\"surface\"}],\"table\":[{\"cells\":{\"fill\":{\"color\":\"#EBF0F8\"},\"line\":{\"color\":\"white\"}},\"header\":{\"fill\":{\"color\":\"#C8D4E3\"},\"line\":{\"color\":\"white\"}},\"type\":\"table\"}]},\"layout\":{\"annotationdefaults\":{\"arrowcolor\":\"#2a3f5f\",\"arrowhead\":0,\"arrowwidth\":1},\"autotypenumbers\":\"strict\",\"coloraxis\":{\"colorbar\":{\"outlinewidth\":0,\"ticks\":\"\"}},\"colorscale\":{\"diverging\":[[0,\"#8e0152\"],[0.1,\"#c51b7d\"],[0.2,\"#de77ae\"],[0.3,\"#f1b6da\"],[0.4,\"#fde0ef\"],[0.5,\"#f7f7f7\"],[0.6,\"#e6f5d0\"],[0.7,\"#b8e186\"],[0.8,\"#7fbc41\"],[0.9,\"#4d9221\"],[1,\"#276419\"]],\"sequential\":[[0.0,\"#0d0887\"],[0.1111111111111111,\"#46039f\"],[0.2222222222222222,\"#7201a8\"],[0.3333333333333333,\"#9c179e\"],[0.4444444444444444,\"#bd3786\"],[0.5555555555555556,\"#d8576b\"],[0.6666666666666666,\"#ed7953\"],[0.7777777777777778,\"#fb9f3a\"],[0.8888888888888888,\"#fdca26\"],[1.0,\"#f0f921\"]],\"sequentialminus\":[[0.0,\"#0d0887\"],[0.1111111111111111,\"#46039f\"],[0.2222222222222222,\"#7201a8\"],[0.3333333333333333,\"#9c179e\"],[0.4444444444444444,\"#bd3786\"],[0.5555555555555556,\"#d8576b\"],[0.6666666666666666,\"#ed7953\"],[0.7777777777777778,\"#fb9f3a\"],[0.8888888888888888,\"#fdca26\"],[1.0,\"#f0f921\"]]},\"colorway\":[\"#636efa\",\"#EF553B\",\"#00cc96\",\"#ab63fa\",\"#FFA15A\",\"#19d3f3\",\"#FF6692\",\"#B6E880\",\"#FF97FF\",\"#FECB52\"],\"font\":{\"color\":\"#2a3f5f\"},\"geo\":{\"bgcolor\":\"white\",\"lakecolor\":\"white\",\"landcolor\":\"#E5ECF6\",\"showlakes\":true,\"showland\":true,\"subunitcolor\":\"white\"},\"hoverlabel\":{\"align\":\"left\"},\"hovermode\":\"closest\",\"mapbox\":{\"style\":\"light\"},\"paper_bgcolor\":\"white\",\"plot_bgcolor\":\"#E5ECF6\",\"polar\":{\"angularaxis\":{\"gridcolor\":\"white\",\"linecolor\":\"white\",\"ticks\":\"\"},\"bgcolor\":\"#E5ECF6\",\"radialaxis\":{\"gridcolor\":\"white\",\"linecolor\":\"white\",\"ticks\":\"\"}},\"scene\":{\"xaxis\":{\"backgroundcolor\":\"#E5ECF6\",\"gridcolor\":\"white\",\"gridwidth\":2,\"linecolor\":\"white\",\"showbackground\":true,\"ticks\":\"\",\"zerolinecolor\":\"white\"},\"yaxis\":{\"backgroundcolor\":\"#E5ECF6\",\"gridcolor\":\"white\",\"gridwidth\":2,\"linecolor\":\"white\",\"showbackground\":true,\"ticks\":\"\",\"zerolinecolor\":\"white\"},\"zaxis\":{\"backgroundcolor\":\"#E5ECF6\",\"gridcolor\":\"white\",\"gridwidth\":2,\"linecolor\":\"white\",\"showbackground\":true,\"ticks\":\"\",\"zerolinecolor\":\"white\"}},\"shapedefaults\":{\"line\":{\"color\":\"#2a3f5f\"}},\"ternary\":{\"aaxis\":{\"gridcolor\":\"white\",\"linecolor\":\"white\",\"ticks\":\"\"},\"baxis\":{\"gridcolor\":\"white\",\"linecolor\":\"white\",\"ticks\":\"\"},\"bgcolor\":\"#E5ECF6\",\"caxis\":{\"gridcolor\":\"white\",\"linecolor\":\"white\",\"ticks\":\"\"}},\"title\":{\"x\":0.05},\"xaxis\":{\"automargin\":true,\"gridcolor\":\"white\",\"linecolor\":\"white\",\"ticks\":\"\",\"title\":{\"standoff\":15},\"zerolinecolor\":\"white\",\"zerolinewidth\":2},\"yaxis\":{\"automargin\":true,\"gridcolor\":\"white\",\"linecolor\":\"white\",\"ticks\":\"\",\"title\":{\"standoff\":15},\"zerolinecolor\":\"white\",\"zerolinewidth\":2}}},\"title\":{\"text\":\"\\u0414\\u0438\\u043d\\u0430\\u043c\\u0438\\u043a\\u0430 \\u0432\\u044b\\u043f\\u0443\\u0441\\u043a\\u0430 \\u0438\\u0433\\u0440 \\u043f\\u043e \\u0433\\u043e\\u0434\\u0430\\u043c\"}},                        {\"responsive\": true}                    ).then(function(){\n",
       "                            \n",
       "var gd = document.getElementById('b42de105-c0d2-4333-a646-0002b0b5aced');\n",
       "var x = new MutationObserver(function (mutations, observer) {{\n",
       "        var display = window.getComputedStyle(gd).display;\n",
       "        if (!display || display === 'none') {{\n",
       "            console.log([gd, 'removed!']);\n",
       "            Plotly.purge(gd);\n",
       "            observer.disconnect();\n",
       "        }}\n",
       "}});\n",
       "\n",
       "// Listen for the removal of the full notebook cells\n",
       "var notebookContainer = gd.closest('#notebook-container');\n",
       "if (notebookContainer) {{\n",
       "    x.observe(notebookContainer, {childList: true});\n",
       "}}\n",
       "\n",
       "// Listen for the clearing of the current output cell\n",
       "var outputEl = gd.closest('.output');\n",
       "if (outputEl) {{\n",
       "    x.observe(outputEl, {childList: true});\n",
       "}}\n",
       "\n",
       "                        })                };                });            </script>        </div>"
      ]
     },
     "metadata": {},
     "output_type": "display_data"
    }
   ],
   "source": [
    "# посчитаем число вышедших игр и проданных копий по годам\n",
    "years_df = data.groupby('year_of_release')[['total_sales']].sum().join(\n",
    "    data.groupby('year_of_release')[['name']].count()\n",
    ")\n",
    "years_df.columns = ['total_sales', 'number_of_games']\n",
    "\n",
    "line0 = go.Scatter(\n",
    "    x=years_df.index,\n",
    "    y=years_df.total_sales,\n",
    "    name='Количество проданных копий, млн.'\n",
    ")\n",
    "\n",
    "line1 = go.Scatter(\n",
    "    x=years_df.index,\n",
    "    y=years_df.number_of_games,\n",
    "    name='Количество выпущенных игр'\n",
    ")\n",
    "\n",
    "lines = [line0, line1]\n",
    "layout = {'title': 'Динамика выпуска игр по годам'}\n",
    "# cоздаем объект Figure и визуализируем его\n",
    "fig = go.Figure(data=lines, layout=layout)\n",
    "iplot(fig, show_link=False)"
   ]
  },
  {
   "cell_type": "markdown",
   "id": "638494cd",
   "metadata": {},
   "source": [
    "Судя по графику мы можем увидеть как начали расти количество выпушенных игр и проданных копий с 80-ых до 2008 г. достигнув плато и далее все пошло на спад. Скорей всего это объяснимо тем, что с 2008 года стали развиваться мобильная разработка и браузерные игры.\n",
    "\n",
    "Для прогноза на 2017 год нам необходимы будут не все года, а только небольшой период после 2013 г., так как мы можем наблюдать рост и далее спад, то более старые года будут не актуальны для проноза."
   ]
  },
  {
   "cell_type": "markdown",
   "id": "c55db129",
   "metadata": {},
   "source": [
    "### Анализ продаж по платформам"
   ]
  },
  {
   "cell_type": "code",
   "execution_count": 28,
   "id": "2c58a026",
   "metadata": {},
   "outputs": [
    {
     "data": {
      "text/plain": [
       "Text(0, 0.5, 'Количество продаж')"
      ]
     },
     "execution_count": 28,
     "metadata": {},
     "output_type": "execute_result"
    },
    {
     "data": {
      "image/png": "[encoded data removed]",
      "text/plain": [
       "<Figure size 936x432 with 1 Axes>"
      ]
     },
     "metadata": {
      "needs_background": "light"
     },
     "output_type": "display_data"
    }
   ],
   "source": [
    "platform_on_sales = (\n",
    "    data\n",
    "    .pivot_table(index='platform', values='total_sales', aggfunc='sum')\n",
    "    .sort_values('total_sales', ascending=False)\n",
    ")\n",
    "plt.figure(figsize=(13,6))\n",
    "sns.barplot(x=platform_on_sales.index,y=platform_on_sales['total_sales'])\n",
    "plt.title(\"Продажи по платформам за весь период\")\n",
    "plt.xlabel(\"Название платформы\")\n",
    "plt.ylabel(\"Количество продаж\")"
   ]
  },
  {
   "cell_type": "markdown",
   "id": "29dbf5bd",
   "metadata": {},
   "source": [
    "На графике по анализу продаж по платформам за весь период мы можем видеть, что больше всего продано копий было на  PS2, X360, PS3, WII, DS, PS, но не понятно на какие года приходится большая часть продаж, так как за интересующие нас года продажи падали и менялись платформы. "
   ]
  },
  {
   "cell_type": "code",
   "execution_count": 29,
   "id": "94d3650e",
   "metadata": {
    "scrolled": false
   },
   "outputs": [
    {
     "name": "stdout",
     "output_type": "stream",
     "text": [
      "PS2\n"
     ]
    },
    {
     "data": {
      "image/png": "[encoded data removed]",
      "text/plain": [
       "<Figure size 432x288 with 1 Axes>"
      ]
     },
     "metadata": {
      "needs_background": "light"
     },
     "output_type": "display_data"
    },
    {
     "name": "stdout",
     "output_type": "stream",
     "text": [
      "X360\n"
     ]
    },
    {
     "data": {
      "image/png": "[encoded data removed]",
      "text/plain": [
       "<Figure size 432x288 with 1 Axes>"
      ]
     },
     "metadata": {
      "needs_background": "light"
     },
     "output_type": "display_data"
    },
    {
     "name": "stdout",
     "output_type": "stream",
     "text": [
      "PS3\n"
     ]
    },
    {
     "data": {
      "image/png": "[encoded data removed]",
      "text/plain": [
       "<Figure size 432x288 with 1 Axes>"
      ]
     },
     "metadata": {
      "needs_background": "light"
     },
     "output_type": "display_data"
    },
    {
     "name": "stdout",
     "output_type": "stream",
     "text": [
      "Wii\n"
     ]
    },
    {
     "data": {
      "image/png": "[encoded data removed]",
      "text/plain": [
       "<Figure size 432x288 with 1 Axes>"
      ]
     },
     "metadata": {
      "needs_background": "light"
     },
     "output_type": "display_data"
    },
    {
     "name": "stdout",
     "output_type": "stream",
     "text": [
      "DS\n"
     ]
    },
    {
     "data": {
      "image/png": "[encoded data removed]",
      "text/plain": [
       "<Figure size 432x288 with 1 Axes>"
      ]
     },
     "metadata": {
      "needs_background": "light"
     },
     "output_type": "display_data"
    },
    {
     "name": "stdout",
     "output_type": "stream",
     "text": [
      "PS\n"
     ]
    },
    {
     "data": {
      "image/png": "[encoded data removed]",
      "text/plain": [
       "<Figure size 432x288 with 1 Axes>"
      ]
     },
     "metadata": {
      "needs_background": "light"
     },
     "output_type": "display_data"
    }
   ],
   "source": [
    "# построим график по распределению по годам продаж первых 6-ти популярных платформ\n",
    "for platform in platform_on_sales.index[:6]:\n",
    "    print(platform)\n",
    "    (data\n",
    "     .query('platform == @platform')\n",
    "     .pivot_table(index='year_of_release', values='total_sales', aggfunc='sum')\n",
    "     .plot(kind='bar')\n",
    "    )\n",
    "    plt.show()"
   ]
  },
  {
   "cell_type": "markdown",
   "id": "f282f5b7",
   "metadata": {},
   "source": [
    "По данным графикам можно сказать: \n",
    "- почти все графики имеют нормальное распределение;\n",
    "- платформы существуют не менее 10 лет, за исключением DS это скорей всего ошибка в данных, так как из внешних источников она вышла в 2004 г.; \n",
    "- самый пик продаж приходится примерно через 4-5 лет после выхода приставки и далее идет на спад; \n",
    "- в 2016 г. из самых популярных платформ за все время совсем мало, но продаются только: X360, PS3, WII. "
   ]
  },
  {
   "cell_type": "markdown",
   "id": "96e40b30",
   "metadata": {},
   "source": [
    "### Определение актуального периода и лидирующих платформ по продажам"
   ]
  },
  {
   "cell_type": "markdown",
   "id": "27d1d086",
   "metadata": {},
   "source": [
    "Как говорилось в п. 3.1, более информативный период за последние года перед годом на который мы прогнозируем. Предагаю взять анализ за период в 4 года с 2013-2016 г.г., так как самый расцвет приходится на 4-5 год после выхода платформы."
   ]
  },
  {
   "cell_type": "code",
   "execution_count": 30,
   "id": "3537b11e",
   "metadata": {},
   "outputs": [],
   "source": [
    "# отрезаем старые данные\n",
    "new_data = data.query('year_of_release >= 2013').copy()"
   ]
  },
  {
   "cell_type": "code",
   "execution_count": 31,
   "id": "1566e5bb",
   "metadata": {},
   "outputs": [
    {
     "data": {
      "text/plain": [
       "Text(0, 0.5, 'Количество продаж')"
      ]
     },
     "execution_count": 31,
     "metadata": {},
     "output_type": "execute_result"
    },
    {
     "data": {
      "image/png": "[encoded data removed]",
      "text/plain": [
       "<Figure size 936x432 with 1 Axes>"
      ]
     },
     "metadata": {
      "needs_background": "light"
     },
     "output_type": "display_data"
    }
   ],
   "source": [
    "# по срезу формируем сводную таблицу и строим столбчатую диаграмму\n",
    "platform_on_sales_new = (\n",
    "    new_data\n",
    "    .pivot_table(index='platform', values='total_sales', aggfunc='sum')\n",
    "    .sort_values('total_sales', ascending=False)\n",
    ")\n",
    "plt.figure(figsize=(13,6))\n",
    "sns.barplot(x=platform_on_sales_new.index,y=platform_on_sales_new['total_sales'])\n",
    "plt.title(\"Продажи по платформам за 2013-2016 г.г.\")\n",
    "plt.xlabel(\"Название платформы\")\n",
    "plt.ylabel(\"Количество продаж\")"
   ]
  },
  {
   "cell_type": "markdown",
   "id": "3f629adc",
   "metadata": {},
   "source": [
    "Судя по графику за актуальный период самые популярные платформы это уже: PS4, PS3, XOne, 3DS, X360. но давайте посмотрим все данные платформы по разбивке по годам, что бы определить те платформы, которые уже угасают и те кто находится в росте."
   ]
  },
  {
   "cell_type": "code",
   "execution_count": 32,
   "id": "9f28156b",
   "metadata": {},
   "outputs": [
    {
     "name": "stdout",
     "output_type": "stream",
     "text": [
      "PS4\n"
     ]
    },
    {
     "data": {
      "image/png": "[encoded data removed]",
      "text/plain": [
       "<Figure size 432x288 with 1 Axes>"
      ]
     },
     "metadata": {
      "needs_background": "light"
     },
     "output_type": "display_data"
    },
    {
     "name": "stdout",
     "output_type": "stream",
     "text": [
      "PS3\n"
     ]
    },
    {
     "data": {
      "image/png": "[encoded data removed]",
      "text/plain": [
       "<Figure size 432x288 with 1 Axes>"
      ]
     },
     "metadata": {
      "needs_background": "light"
     },
     "output_type": "display_data"
    },
    {
     "name": "stdout",
     "output_type": "stream",
     "text": [
      "XOne\n"
     ]
    },
    {
     "data": {
      "image/png": "[encoded data removed]",
      "text/plain": [
       "<Figure size 432x288 with 1 Axes>"
      ]
     },
     "metadata": {
      "needs_background": "light"
     },
     "output_type": "display_data"
    },
    {
     "name": "stdout",
     "output_type": "stream",
     "text": [
      "3DS\n"
     ]
    },
    {
     "data": {
      "image/png": "[encoded data removed]",
      "text/plain": [
       "<Figure size 432x288 with 1 Axes>"
      ]
     },
     "metadata": {
      "needs_background": "light"
     },
     "output_type": "display_data"
    },
    {
     "name": "stdout",
     "output_type": "stream",
     "text": [
      "X360\n"
     ]
    },
    {
     "data": {
      "image/png": "[encoded data removed]",
      "text/plain": [
       "<Figure size 432x288 with 1 Axes>"
      ]
     },
     "metadata": {
      "needs_background": "light"
     },
     "output_type": "display_data"
    },
    {
     "name": "stdout",
     "output_type": "stream",
     "text": [
      "WiiU\n"
     ]
    },
    {
     "data": {
      "image/png": "[encoded data removed]",
      "text/plain": [
       "<Figure size 432x288 with 1 Axes>"
      ]
     },
     "metadata": {
      "needs_background": "light"
     },
     "output_type": "display_data"
    },
    {
     "name": "stdout",
     "output_type": "stream",
     "text": [
      "PC\n"
     ]
    },
    {
     "data": {
      "image/png": "[encoded data removed]",
      "text/plain": [
       "<Figure size 432x288 with 1 Axes>"
      ]
     },
     "metadata": {
      "needs_background": "light"
     },
     "output_type": "display_data"
    },
    {
     "name": "stdout",
     "output_type": "stream",
     "text": [
      "PSV\n"
     ]
    },
    {
     "data": {
      "image/png": "[encoded data removed]",
      "text/plain": [
       "<Figure size 432x288 with 1 Axes>"
      ]
     },
     "metadata": {
      "needs_background": "light"
     },
     "output_type": "display_data"
    },
    {
     "name": "stdout",
     "output_type": "stream",
     "text": [
      "Wii\n"
     ]
    },
    {
     "data": {
      "image/png": "[encoded data removed]",
      "text/plain": [
       "<Figure size 432x288 with 1 Axes>"
      ]
     },
     "metadata": {
      "needs_background": "light"
     },
     "output_type": "display_data"
    },
    {
     "name": "stdout",
     "output_type": "stream",
     "text": [
      "PSP\n"
     ]
    },
    {
     "data": {
      "image/png": "[encoded data removed]",
      "text/plain": [
       "<Figure size 432x288 with 1 Axes>"
      ]
     },
     "metadata": {
      "needs_background": "light"
     },
     "output_type": "display_data"
    },
    {
     "name": "stdout",
     "output_type": "stream",
     "text": [
      "DS\n"
     ]
    },
    {
     "data": {
      "image/png": "[encoded data removed]",
      "text/plain": [
       "<Figure size 432x288 with 1 Axes>"
      ]
     },
     "metadata": {
      "needs_background": "light"
     },
     "output_type": "display_data"
    }
   ],
   "source": [
    "# функция строящая диаграммы продаж по платформам\n",
    "for platform in platform_on_sales_new.index:\n",
    "    print(platform)\n",
    "    (data\n",
    "     .query('platform == @platform')\n",
    "     .pivot_table(index='year_of_release', values='total_sales', aggfunc='sum')\n",
    "     .plot(kind='bar')\n",
    "    )\n",
    "    plt.show()"
   ]
  },
  {
   "cell_type": "markdown",
   "id": "91d51744",
   "metadata": {},
   "source": [
    "Все платформы уже достигли пика и идут на спад, но еще есть \"куда падать\" только  PS4, XOne и 3DS. Поэтому предполагаю, что это 3 самые актуальные платформы. "
   ]
  },
  {
   "cell_type": "code",
   "execution_count": 33,
   "id": "9808f030",
   "metadata": {},
   "outputs": [
    {
     "data": {
      "text/html": [
       "<div>\n",
       "<style scoped>\n",
       "    .dataframe tbody tr th:only-of-type {\n",
       "        vertical-align: middle;\n",
       "    }\n",
       "\n",
       "    .dataframe tbody tr th {\n",
       "        vertical-align: top;\n",
       "    }\n",
       "\n",
       "    .dataframe thead th {\n",
       "        text-align: right;\n",
       "    }\n",
       "</style>\n",
       "<table border=\"1\" class=\"dataframe\">\n",
       "  <thead>\n",
       "    <tr style=\"text-align: right;\">\n",
       "      <th></th>\n",
       "      <th>name</th>\n",
       "      <th>platform</th>\n",
       "      <th>year_of_release</th>\n",
       "      <th>genre</th>\n",
       "      <th>na_sales</th>\n",
       "      <th>eu_sales</th>\n",
       "      <th>jp_sales</th>\n",
       "      <th>other_sales</th>\n",
       "      <th>critic_score</th>\n",
       "      <th>user_score</th>\n",
       "      <th>rating</th>\n",
       "      <th>total_sales</th>\n",
       "    </tr>\n",
       "  </thead>\n",
       "  <tbody>\n",
       "    <tr>\n",
       "      <th>31</th>\n",
       "      <td>Call of Duty: Black Ops 3</td>\n",
       "      <td>PS4</td>\n",
       "      <td>2015</td>\n",
       "      <td>Shooter</td>\n",
       "      <td>6.03</td>\n",
       "      <td>5.86</td>\n",
       "      <td>0.36</td>\n",
       "      <td>2.38</td>\n",
       "      <td>NaN</td>\n",
       "      <td>NaN</td>\n",
       "      <td>Unknown</td>\n",
       "      <td>14.63</td>\n",
       "    </tr>\n",
       "    <tr>\n",
       "      <th>33</th>\n",
       "      <td>Pokemon X/Pokemon Y</td>\n",
       "      <td>3DS</td>\n",
       "      <td>2013</td>\n",
       "      <td>Role-Playing</td>\n",
       "      <td>5.28</td>\n",
       "      <td>4.19</td>\n",
       "      <td>4.35</td>\n",
       "      <td>0.78</td>\n",
       "      <td>NaN</td>\n",
       "      <td>NaN</td>\n",
       "      <td>Unknown</td>\n",
       "      <td>14.60</td>\n",
       "    </tr>\n",
       "    <tr>\n",
       "      <th>42</th>\n",
       "      <td>Grand Theft Auto V</td>\n",
       "      <td>PS4</td>\n",
       "      <td>2014</td>\n",
       "      <td>Action</td>\n",
       "      <td>3.96</td>\n",
       "      <td>6.31</td>\n",
       "      <td>0.38</td>\n",
       "      <td>1.97</td>\n",
       "      <td>97.0</td>\n",
       "      <td>8.3</td>\n",
       "      <td>M</td>\n",
       "      <td>12.62</td>\n",
       "    </tr>\n",
       "    <tr>\n",
       "      <th>47</th>\n",
       "      <td>Pokemon Omega Ruby/Pokemon Alpha Sapphire</td>\n",
       "      <td>3DS</td>\n",
       "      <td>2014</td>\n",
       "      <td>Role-Playing</td>\n",
       "      <td>4.35</td>\n",
       "      <td>3.49</td>\n",
       "      <td>3.10</td>\n",
       "      <td>0.74</td>\n",
       "      <td>NaN</td>\n",
       "      <td>NaN</td>\n",
       "      <td>Unknown</td>\n",
       "      <td>11.68</td>\n",
       "    </tr>\n",
       "    <tr>\n",
       "      <th>77</th>\n",
       "      <td>FIFA 16</td>\n",
       "      <td>PS4</td>\n",
       "      <td>2015</td>\n",
       "      <td>Sports</td>\n",
       "      <td>1.12</td>\n",
       "      <td>6.12</td>\n",
       "      <td>0.06</td>\n",
       "      <td>1.28</td>\n",
       "      <td>82.0</td>\n",
       "      <td>4.3</td>\n",
       "      <td>E</td>\n",
       "      <td>8.58</td>\n",
       "    </tr>\n",
       "    <tr>\n",
       "      <th>...</th>\n",
       "      <td>...</td>\n",
       "      <td>...</td>\n",
       "      <td>...</td>\n",
       "      <td>...</td>\n",
       "      <td>...</td>\n",
       "      <td>...</td>\n",
       "      <td>...</td>\n",
       "      <td>...</td>\n",
       "      <td>...</td>\n",
       "      <td>...</td>\n",
       "      <td>...</td>\n",
       "      <td>...</td>\n",
       "    </tr>\n",
       "    <tr>\n",
       "      <th>16648</th>\n",
       "      <td>Mushi Bugyou</td>\n",
       "      <td>3DS</td>\n",
       "      <td>2013</td>\n",
       "      <td>Action</td>\n",
       "      <td>0.00</td>\n",
       "      <td>0.00</td>\n",
       "      <td>0.01</td>\n",
       "      <td>0.00</td>\n",
       "      <td>NaN</td>\n",
       "      <td>NaN</td>\n",
       "      <td>Unknown</td>\n",
       "      <td>0.01</td>\n",
       "    </tr>\n",
       "    <tr>\n",
       "      <th>16660</th>\n",
       "      <td>Prison Architect</td>\n",
       "      <td>XOne</td>\n",
       "      <td>2016</td>\n",
       "      <td>Action</td>\n",
       "      <td>0.01</td>\n",
       "      <td>0.00</td>\n",
       "      <td>0.00</td>\n",
       "      <td>0.00</td>\n",
       "      <td>74.0</td>\n",
       "      <td>6.7</td>\n",
       "      <td>Unknown</td>\n",
       "      <td>0.01</td>\n",
       "    </tr>\n",
       "    <tr>\n",
       "      <th>16668</th>\n",
       "      <td>Fujiko F. Fujio Characters: Great Assembly! Sl...</td>\n",
       "      <td>3DS</td>\n",
       "      <td>2014</td>\n",
       "      <td>Action</td>\n",
       "      <td>0.00</td>\n",
       "      <td>0.00</td>\n",
       "      <td>0.01</td>\n",
       "      <td>0.00</td>\n",
       "      <td>NaN</td>\n",
       "      <td>NaN</td>\n",
       "      <td>Unknown</td>\n",
       "      <td>0.01</td>\n",
       "    </tr>\n",
       "    <tr>\n",
       "      <th>16672</th>\n",
       "      <td>Metal Gear Solid V: The Definitive Experience</td>\n",
       "      <td>XOne</td>\n",
       "      <td>2016</td>\n",
       "      <td>Action</td>\n",
       "      <td>0.01</td>\n",
       "      <td>0.00</td>\n",
       "      <td>0.00</td>\n",
       "      <td>0.00</td>\n",
       "      <td>NaN</td>\n",
       "      <td>NaN</td>\n",
       "      <td>M</td>\n",
       "      <td>0.01</td>\n",
       "    </tr>\n",
       "    <tr>\n",
       "      <th>16677</th>\n",
       "      <td>Aikatsu Stars! My Special Appeal</td>\n",
       "      <td>3DS</td>\n",
       "      <td>2016</td>\n",
       "      <td>Action</td>\n",
       "      <td>0.00</td>\n",
       "      <td>0.00</td>\n",
       "      <td>0.01</td>\n",
       "      <td>0.00</td>\n",
       "      <td>NaN</td>\n",
       "      <td>NaN</td>\n",
       "      <td>Unknown</td>\n",
       "      <td>0.01</td>\n",
       "    </tr>\n",
       "  </tbody>\n",
       "</table>\n",
       "<p>942 rows × 12 columns</p>\n",
       "</div>"
      ],
      "text/plain": [
       "                                                    name platform  \\\n",
       "31                             Call of Duty: Black Ops 3      PS4   \n",
       "33                                   Pokemon X/Pokemon Y      3DS   \n",
       "42                                    Grand Theft Auto V      PS4   \n",
       "47             Pokemon Omega Ruby/Pokemon Alpha Sapphire      3DS   \n",
       "77                                               FIFA 16      PS4   \n",
       "...                                                  ...      ...   \n",
       "16648                                       Mushi Bugyou      3DS   \n",
       "16660                                   Prison Architect     XOne   \n",
       "16668  Fujiko F. Fujio Characters: Great Assembly! Sl...      3DS   \n",
       "16672      Metal Gear Solid V: The Definitive Experience     XOne   \n",
       "16677                   Aikatsu Stars! My Special Appeal      3DS   \n",
       "\n",
       "       year_of_release         genre  na_sales  eu_sales  jp_sales  \\\n",
       "31                2015       Shooter      6.03      5.86      0.36   \n",
       "33                2013  Role-Playing      5.28      4.19      4.35   \n",
       "42                2014        Action      3.96      6.31      0.38   \n",
       "47                2014  Role-Playing      4.35      3.49      3.10   \n",
       "77                2015        Sports      1.12      6.12      0.06   \n",
       "...                ...           ...       ...       ...       ...   \n",
       "16648             2013        Action      0.00      0.00      0.01   \n",
       "16660             2016        Action      0.01      0.00      0.00   \n",
       "16668             2014        Action      0.00      0.00      0.01   \n",
       "16672             2016        Action      0.01      0.00      0.00   \n",
       "16677             2016        Action      0.00      0.00      0.01   \n",
       "\n",
       "       other_sales  critic_score  user_score   rating  total_sales  \n",
       "31            2.38           NaN         NaN  Unknown        14.63  \n",
       "33            0.78           NaN         NaN  Unknown        14.60  \n",
       "42            1.97          97.0         8.3        M        12.62  \n",
       "47            0.74           NaN         NaN  Unknown        11.68  \n",
       "77            1.28          82.0         4.3        E         8.58  \n",
       "...            ...           ...         ...      ...          ...  \n",
       "16648         0.00           NaN         NaN  Unknown         0.01  \n",
       "16660         0.00          74.0         6.7  Unknown         0.01  \n",
       "16668         0.00           NaN         NaN  Unknown         0.01  \n",
       "16672         0.00           NaN         NaN        M         0.01  \n",
       "16677         0.00           NaN         NaN  Unknown         0.01  \n",
       "\n",
       "[942 rows x 12 columns]"
      ]
     },
     "execution_count": 33,
     "metadata": {},
     "output_type": "execute_result"
    }
   ],
   "source": [
    "# перезаписываем new_data, срез только по преспективным платформам\n",
    "new_data = new_data.query('platform in [\"PS4\", \"XOne\", \"3DS\"]')\n",
    "new_data"
   ]
  },
  {
   "cell_type": "markdown",
   "id": "1f95af65",
   "metadata": {},
   "source": [
    "Актульный период это последние 4 года, т.е. с 2013-2016 г.г. и потенциально прибыльные платформы на 2017 год это: PS4, XOne и 3DS."
   ]
  },
  {
   "cell_type": "markdown",
   "id": "6cc5ce81",
   "metadata": {},
   "source": [
    "### График «ящик с усами» по глобальным продажам игр в разбивке по платформам"
   ]
  },
  {
   "cell_type": "code",
   "execution_count": 34,
   "id": "fa9644c9",
   "metadata": {},
   "outputs": [
    {
     "data": {
      "image/png": "[encoded data removed]",
      "text/plain": [
       "<Figure size 936x576 with 1 Axes>"
      ]
     },
     "metadata": {
      "needs_background": "light"
     },
     "output_type": "display_data"
    }
   ],
   "source": [
    "# строим ящик с усами по глобальным продажам\n",
    "plt.figure(figsize=(13, 8))\n",
    "(sns.boxplot(data = new_data, y = 'total_sales', x='platform')\n",
    "    .set(title = 'Продажи по перспективным платформам за 2013-2016 гг', xlabel = 'Платформы', ylabel = 'Общие продажи, млн.'))\n",
    "plt.show()"
   ]
  },
  {
   "cell_type": "markdown",
   "id": "a836f7f5",
   "metadata": {},
   "source": [
    "Из-за сильно выбивающих значений почти ничего не понятно на графике, предлагаю обрезать график по оси у до 2-ух, рядом с квартилем."
   ]
  },
  {
   "cell_type": "code",
   "execution_count": 35,
   "id": "2e31d980",
   "metadata": {},
   "outputs": [
    {
     "data": {
      "image/png": "[encoded data removed]",
      "text/plain": [
       "<Figure size 936x576 with 1 Axes>"
      ]
     },
     "metadata": {
      "needs_background": "light"
     },
     "output_type": "display_data"
    }
   ],
   "source": [
    "# перестраиваем ящик с усами по глобальным продажам, ограничивая метрику по у\n",
    "plt.figure(figsize=(13, 8))\n",
    "(sns.boxplot(data = new_data, y = 'total_sales', x='platform')\n",
    "    .set(title = 'Продажи по перспективным платформам за 2013-2016 гг', xlabel = 'Платформы', ylabel = 'Общие продажи, млн.', ylim=(0, 2)))\n",
    "\n",
    "plt.show()"
   ]
  },
  {
   "cell_type": "markdown",
   "id": "df161e53",
   "metadata": {},
   "source": [
    "Мы можем увидеть, что по продажам на PS4 и XOne, примерно одинаковые квартили и медианы. у 3DS еще есть запал по продажам игр, но сама по себе платформа менее популярна, чем указанные выше. По всем продажам несомненно лидирует PS4."
   ]
  },
  {
   "cell_type": "markdown",
   "id": "d2665d25",
   "metadata": {},
   "source": [
    "###  Как влияют на продажи внутри одной популярной платформы отзывы пользователей и критиков. "
   ]
  },
  {
   "cell_type": "code",
   "execution_count": 36,
   "id": "37cbd535",
   "metadata": {},
   "outputs": [
    {
     "data": {
      "image/png": "[encoded data removed]",
      "text/plain": [
       "<Figure size 432x288 with 1 Axes>"
      ]
     },
     "metadata": {
      "needs_background": "light"
     },
     "output_type": "display_data"
    },
    {
     "data": {
      "image/png": "[encoded data removed]",
      "text/plain": [
       "<Figure size 432x288 with 1 Axes>"
      ]
     },
     "metadata": {
      "needs_background": "light"
     },
     "output_type": "display_data"
    },
    {
     "name": "stdout",
     "output_type": "stream",
     "text": [
      "0.40656790206178095\n",
      "-0.031957110204556376\n"
     ]
    }
   ],
   "source": [
    "# строим диаграммы рассеявание и определяем корреляцию\n",
    "head_platform = new_data[new_data['platform'] == \"PS4\"]\n",
    "head_platform.plot(x='critic_score', y='total_sales', kind='scatter', alpha=0.5)\n",
    "head_platform.plot(x='user_score', y='total_sales', kind='scatter', alpha=0.5)\n",
    "plt.show()\n",
    "print(head_platform['critic_score'].corr(head_platform['total_sales']))\n",
    "print(head_platform['user_score'].corr(head_platform['total_sales']))"
   ]
  },
  {
   "cell_type": "markdown",
   "id": "7b58d9c8",
   "metadata": {},
   "source": [
    "По вышеуказанным диаграммам рассеявания и корреляции можно сказать, что есть небольшая прямо пропорциональная зависимость от оценки критиков, а вот от оценок пользователей продажи совсем не зависят.\n",
    "\n",
    "Поэтому можно делать ставки на игры, которые хорошо оценятся критиками."
   ]
  },
  {
   "cell_type": "markdown",
   "id": "c1c84017",
   "metadata": {},
   "source": [
    "Предлагаю сверить корреляцию с двумя другими видами платформ:"
   ]
  },
  {
   "cell_type": "code",
   "execution_count": 37,
   "id": "0f36e685",
   "metadata": {},
   "outputs": [
    {
     "data": {
      "image/png": "[encoded data removed]",
      "text/plain": [
       "<Figure size 432x288 with 1 Axes>"
      ]
     },
     "metadata": {
      "needs_background": "light"
     },
     "output_type": "display_data"
    },
    {
     "data": {
      "image/png": "[encoded data removed]",
      "text/plain": [
       "<Figure size 432x288 with 1 Axes>"
      ]
     },
     "metadata": {
      "needs_background": "light"
     },
     "output_type": "display_data"
    },
    {
     "name": "stdout",
     "output_type": "stream",
     "text": [
      "0.3570566142288103\n",
      "0.24150411773563016\n"
     ]
    }
   ],
   "source": [
    "# строим диаграммы рассеявание и определяем корреляцию\n",
    "head_platform = new_data[new_data['platform'] == \"3DS\"]\n",
    "head_platform.plot(x='critic_score', y='total_sales', kind='scatter', alpha=0.7)\n",
    "head_platform.plot(x='user_score', y='total_sales', kind='scatter', alpha=0.7)\n",
    "plt.show()\n",
    "print(head_platform['critic_score'].corr(head_platform['total_sales']))\n",
    "print(head_platform['user_score'].corr(head_platform['total_sales']))"
   ]
  },
  {
   "cell_type": "code",
   "execution_count": 38,
   "id": "bd38ff13",
   "metadata": {},
   "outputs": [
    {
     "data": {
      "image/png": "[encoded data removed]",
      "text/plain": [
       "<Figure size 432x288 with 1 Axes>"
      ]
     },
     "metadata": {
      "needs_background": "light"
     },
     "output_type": "display_data"
    },
    {
     "data": {
      "image/png": "[encoded data removed]",
      "text/plain": [
       "<Figure size 432x288 with 1 Axes>"
      ]
     },
     "metadata": {
      "needs_background": "light"
     },
     "output_type": "display_data"
    },
    {
     "name": "stdout",
     "output_type": "stream",
     "text": [
      "0.4169983280084017\n",
      "-0.06892505328279414\n"
     ]
    }
   ],
   "source": [
    "# строим диаграммы рассеявание и определяем корреляцию\n",
    "head_platform = new_data[new_data['platform'] == \"XOne\"]\n",
    "head_platform.plot(x='critic_score', y='total_sales', kind='scatter', alpha=0.7)\n",
    "head_platform.plot(x='user_score', y='total_sales', kind='scatter', alpha=0.7)\n",
    "plt.show()\n",
    "print(head_platform['critic_score'].corr(head_platform['total_sales']))\n",
    "print(head_platform['user_score'].corr(head_platform['total_sales']))"
   ]
  },
  {
   "cell_type": "markdown",
   "id": "a98f6217",
   "metadata": {},
   "source": [
    "По двум другим так же замечена зависимость от оценки критиков, но только на одной платформе есть прямая зависимость от оценок пользователей. Поэтому при планировании продаж не стоит ориентироваться на оценку пользователей."
   ]
  },
  {
   "cell_type": "markdown",
   "id": "829f3459",
   "metadata": {},
   "source": [
    "### Анализ самых прибыльных жанров"
   ]
  },
  {
   "cell_type": "markdown",
   "id": "cd801f4e",
   "metadata": {},
   "source": [
    "Предлагаю анализировать самые прибыльные жанры на таблице с актуальным периодом и на основании потенциально выгодных платформ."
   ]
  },
  {
   "cell_type": "code",
   "execution_count": 39,
   "id": "a35ff844",
   "metadata": {},
   "outputs": [
    {
     "data": {
      "text/plain": [
       "Text(0, 0.5, 'Общие продажи')"
      ]
     },
     "execution_count": 39,
     "metadata": {},
     "output_type": "execute_result"
    },
    {
     "data": {
      "image/png": "[encoded data removed]",
      "text/plain": [
       "<Figure size 936x432 with 1 Axes>"
      ]
     },
     "metadata": {
      "needs_background": "light"
     },
     "output_type": "display_data"
    }
   ],
   "source": [
    "# строим столбчатую диаграмму по жанрам и продажам\n",
    "genre_sales = new_data.pivot_table(index='genre', values='total_sales', aggfunc ='sum').sort_values('total_sales', ascending=False)\n",
    "plt.figure(figsize=(13,6))\n",
    "sns.barplot(x=genre_sales.index,y=genre_sales['total_sales'])\n",
    "plt.title(\"Продажи по жанрам на преспективных платформах за 2013-2016 г.г.\")\n",
    "plt.xlabel(\"Название жанра\")\n",
    "plt.ylabel(\"Общие продажи\")"
   ]
  },
  {
   "cell_type": "code",
   "execution_count": 40,
   "id": "c6bab998",
   "metadata": {},
   "outputs": [
    {
     "data": {
      "image/png": "[encoded data removed]",
      "text/plain": [
       "<Figure size 936x576 with 1 Axes>"
      ]
     },
     "metadata": {
      "needs_background": "light"
     },
     "output_type": "display_data"
    }
   ],
   "source": [
    "# строим ящики с усами по жанрам и продажам\n",
    "plt.figure(figsize=(13, 8))\n",
    "(sns.boxplot(data = new_data, y = 'total_sales', x='genre').set(title = \"Продажи по жанрам на преспективных платформах за 2013-2016 г.г.\", xlabel = 'Жанры', ylabel = 'Общие продажи, млн.', ylim=(0, 4)))\n",
    "\n",
    "plt.show()"
   ]
  },
  {
   "cell_type": "code",
   "execution_count": 41,
   "id": "8143f11b",
   "metadata": {},
   "outputs": [
    {
     "data": {
      "text/plain": [
       "Action          345\n",
       "Role-Playing    127\n",
       "Sports           92\n",
       "Shooter          80\n",
       "Misc             71\n",
       "Adventure        69\n",
       "Racing           39\n",
       "Fighting         32\n",
       "Platform         32\n",
       "Simulation       25\n",
       "Strategy         20\n",
       "Puzzle           10\n",
       "Name: genre, dtype: int64"
      ]
     },
     "execution_count": 41,
     "metadata": {},
     "output_type": "execute_result"
    }
   ],
   "source": [
    "new_data['genre'].value_counts()"
   ]
  },
  {
   "cell_type": "markdown",
   "id": "d1ea0735",
   "metadata": {},
   "source": [
    "Судя по графику, мы можем сказать, что самые популярные жанры: Action, Shooter, Role-Playing, Sports. Но при этом медианные значения высокие у Shooter, Sports, Role-Playing, Racing, Platform. Это связано с тем, что жанров Action выпускается значительно больше, чем все остальные. \n",
    "\n",
    "Поэтому можно сделать акцент на жанрах: Shooter, Sports, Role-Playing. И в связи с большим количеством выпускаемых Action игр иметь их так же в ассортиментной матрице."
   ]
  },
  {
   "cell_type": "markdown",
   "id": "b672d531",
   "metadata": {},
   "source": [
    "### Вывод"
   ]
  },
  {
   "cell_type": "markdown",
   "id": "e0286b3b",
   "metadata": {},
   "source": [
    "**При аналезе данных мы выяснили, что:** \n",
    "- количество выпущенных игр и проданных копий росло с 80-ых до 2008 г. достигнув плато и далее все пошло на спад. Скорей всего это объяснимо тем, что с 2008 года стали развиваться мобильная разработка и браузерные игры.\n",
    "- Для прогноза на 2017 год нам необходимы будут не все года, а только последние 4 года, т.е. с 2013-2016 г.г. и потенциально прибыльные платформы на 2017 год это: PS4, XOne и 3DS.\n",
    "- Платформы существуют не менее 10 лет.\n",
    "- Самый пик продаж приходится примерно через 4-5 лет после выхода приставки и далее идет на спадю \n",
    "- В 2016 г. из самых популярных платформ за все время совсем мало, но продаются только: X360, PS3, WII. \n",
    "\n",
    "**При планировании на 2017 год потенциально прибыльных и более активно продоваемых игр, стоит обратить внимание на:**\n",
    "\n",
    "- Мы можем увидеть, что по продажам на PS4 и XOne примерно одинаковые объемы  у 3DS еще есть запал по продажам игр, но сама по себе платформа менее популярна, чем указанные выше. По всем продажам несомненно лидирует PS4.\n",
    "- Есть прямопропорциональная зависимость от оценки критиков, а вот от оценок пользователей продажи совсем не зависят.Поэтому можно делать ставки на игры, которые хорошо оценятся критиками.\n",
    "- Самые популярные жанры: Action, Shooter, Role-Playing, Sports. Но при этом медианные значения высокие у Shooter, Sports, Role-Playing, Racing, Platform. Это связано с тем, что жанров Action выпускается значительно больше, чем все остальные. Поэтому можно сделать акцент на жанрах: Shooter, Sports, Role-Playing. И в связи с большим количеством выпускаемых Action игр иметь их так же в ассортиментной матрице.\n",
    "\n",
    "**\"Идеальная\" игра выглядит так:** игра с хорошим рейтингом критиков, выпущенная на PS4 и меющая жанр Shooter.\n"
   ]
  },
  {
   "cell_type": "markdown",
   "id": "de05ea74",
   "metadata": {},
   "source": [
    "## Портрет пользователя кажого региона"
   ]
  },
  {
   "cell_type": "markdown",
   "id": "95d7e68e",
   "metadata": {},
   "source": [
    "Определите для пользователя каждого региона (NA, EU, JP):\n",
    "Самые популярные платформы (топ-5). Опишите различия в долях продаж.\n",
    "Самые популярные жанры (топ-5). Поясните разницу.\n",
    "Влияет ли рейтинг ESRB на продажи в отдельном регионе?"
   ]
  },
  {
   "cell_type": "code",
   "execution_count": 42,
   "id": "b180cb10",
   "metadata": {},
   "outputs": [],
   "source": [
    "def for_pivot_5(row, title):\n",
    "    new_data = data[data['year_of_release'] >= 2013]   \n",
    "    fig, axes = plt.subplots(1, 3, figsize=(20, 4))\n",
    "    for pivot, ax in zip(list(['platform','genre','rating']), axes.flatten()[:3]):\n",
    "        ppivot = new_data.pivot_table(index=pivot, values=row, aggfunc='sum').sort_values(by=row, ascending=False).reset_index().rename_axis(None, axis=1).head(5)\n",
    "        \n",
    "        sns.set_palette(\"BuGn\")\n",
    "        sns.barplot(data=ppivot, x=pivot, y=row, ax=ax)\n",
    "        fig.suptitle(title, fontsize=15)\n",
    "        "
   ]
  },
  {
   "cell_type": "code",
   "execution_count": 43,
   "id": "c83668bf",
   "metadata": {},
   "outputs": [
    {
     "data": {
      "image/png": "[encoded data removed]",
      "text/plain": [
       "<Figure size 1440x288 with 3 Axes>"
      ]
     },
     "metadata": {
      "needs_background": "light"
     },
     "output_type": "display_data"
    }
   ],
   "source": [
    "for_pivot_5('na_sales','Топ 5 платформ, жанров и рейтингов за актуальный период в Северной Америке')"
   ]
  },
  {
   "cell_type": "markdown",
   "id": "b942d711",
   "metadata": {},
   "source": [
    "В северной америке:\n",
    "- самые популярные платформы это PS4, XOne, X360, PS3, 3DS;\n",
    "- самые популярные жанры это Action, Shooter, Sports, Role-Playing, Misc \n",
    "- самый популярный рейтинг это рейтинг для всех, потом идет рейтинг от 17 лет, на третьем 10+"
   ]
  },
  {
   "cell_type": "code",
   "execution_count": 44,
   "id": "2c77590a",
   "metadata": {},
   "outputs": [
    {
     "data": {
      "image/png": "[encoded data removed]",
      "text/plain": [
       "<Figure size 1440x288 with 3 Axes>"
      ]
     },
     "metadata": {
      "needs_background": "light"
     },
     "output_type": "display_data"
    }
   ],
   "source": [
    "for_pivot_5('eu_sales','Топ 5 платформ, жанров и рейтингов за актуальный период в  Европе')"
   ]
  },
  {
   "cell_type": "markdown",
   "id": "0dd1af88",
   "metadata": {},
   "source": [
    "В Европе:\n",
    "- самые популярные платформы это PS4, PS3, XOne, X360, 3DS;\n",
    "- самые популярные жанры это Action, Shooter, Sports, Role-Playing, Racing \n",
    "- самый популярный рейтинг это рейтинг для всех, потом идет рейтинг от 17 лет, на третьем 10+"
   ]
  },
  {
   "cell_type": "code",
   "execution_count": 45,
   "id": "3bdc0711",
   "metadata": {},
   "outputs": [
    {
     "data": {
      "image/png": "[encoded data removed]",
      "text/plain": [
       "<Figure size 1440x288 with 3 Axes>"
      ]
     },
     "metadata": {
      "needs_background": "light"
     },
     "output_type": "display_data"
    }
   ],
   "source": [
    "for_pivot_5('jp_sales','Топ 5 платформ, жанров и рейтингов за актуальный период в Японии')"
   ]
  },
  {
   "cell_type": "markdown",
   "id": "a69b52db",
   "metadata": {},
   "source": [
    "В Японии:\n",
    "- самые популярные платформы это 3DS, PS3, PSV, PS4, WiiU;\n",
    "- самые популярные жанры это Role-Playing, Action, Misc, Fighting, Shooter;\n",
    "- самый популярный рейтинг это рейтинг от 13 лет, потом идет рейтинг от 17 лет, на третьем для всех."
   ]
  },
  {
   "cell_type": "markdown",
   "id": "0138f18d",
   "metadata": {},
   "source": [
    "### Вывод"
   ]
  },
  {
   "cell_type": "markdown",
   "id": "b3ecccdc",
   "metadata": {},
   "source": [
    "Мы составили портерты пользователей: по платформам, жанрам и рейтингу в Северной Америке, Европе и Японии. В Северной Америке и Японии топ-5 по этим критериям очень схожи, а вот в Японии значительно отличаются. Там больше используют PS и DS, объяснимо думаю тем, что PS это японская платформа и они больше используют их. Так же Японцам интересны Ролевые игры это думаю заложено больше културой. Так же здесь большая доля в рейтинге это пропуске, когда как в Америке и Европе она посередине, возможно это связно с другой системой рейтингов в Азии. "
   ]
  },
  {
   "cell_type": "markdown",
   "id": "78d4793b",
   "metadata": {},
   "source": [
    "## Проверка гипотез"
   ]
  },
  {
   "cell_type": "markdown",
   "id": "877f2e25",
   "metadata": {},
   "source": [
    "### Средние пользовательские рейтинги платформ Xbox One и PC одинаковые"
   ]
  },
  {
   "cell_type": "markdown",
   "id": "f91eabbc",
   "metadata": {},
   "source": [
    "**H0**: Средние пользовательские рейтинги платформ Xbox One и PC одинаковые.\n",
    "\n",
    "**H1**: Средние пользовательские рейтинги платформ Xbox One и PC различаются."
   ]
  },
  {
   "cell_type": "code",
   "execution_count": 46,
   "id": "c9afbf03",
   "metadata": {},
   "outputs": [
    {
     "name": "stdout",
     "output_type": "stream",
     "text": [
      "p-значение: 4.5385802963771776e-06\n",
      "Отвергаем нулевую гипотезу\n",
      "Средняя оценка XOne: 6.521428571428572\n",
      "Средняя оценка PC: 7.065960264900661\n"
     ]
    }
   ],
   "source": [
    "# удаляем пропуски\n",
    "data = data.dropna(subset=['user_score'])\n",
    "# проводим статистический тест \n",
    "sample_1 = data[data['platform'] == \"XOne\"]['user_score']\n",
    "sample_2 = data[data['platform'] == \"PC\"]['user_score']\n",
    "results = st.ttest_ind(\n",
    "    sample_1, \n",
    "    sample_2, \n",
    "    equal_var=False)\n",
    "\n",
    "alpha = 0.05\n",
    "print('p-значение:', results.pvalue)\n",
    "\n",
    "if results.pvalue < alpha:\n",
    "    print(\"Отвергаем нулевую гипотезу\")\n",
    "else:\n",
    "    print(\"Не получилось отвергнуть нулевую гипотезу\")\n",
    "# выведем среднее    \n",
    "print('Средняя оценка XOne:', data[data['platform'] == \"XOne\"]['user_score'].mean())\n",
    "print('Средняя оценка PC:', data[data['platform'] == \"PC\"]['user_score'].mean())"
   ]
  },
  {
   "cell_type": "markdown",
   "id": "87fb3545",
   "metadata": {},
   "source": [
    "После статистического теста отвергаем нулевую гипотезу, и действительно, средний рейтинг этих двух платформ отличается на 0.54."
   ]
  },
  {
   "cell_type": "markdown",
   "id": "7b13c214",
   "metadata": {},
   "source": [
    "### Средние пользовательские рейтинги жанров Action и Sports разные"
   ]
  },
  {
   "cell_type": "markdown",
   "id": "950b71dc",
   "metadata": {},
   "source": [
    "**H0**: Средние пользовательские рейтинги жанров Action и Sports одинаковые.\n",
    "\n",
    "**H1**: Средние пользовательские рейтинги жанров Action и Sports различаются."
   ]
  },
  {
   "cell_type": "code",
   "execution_count": 47,
   "id": "ec45a4c9",
   "metadata": {},
   "outputs": [
    {
     "name": "stdout",
     "output_type": "stream",
     "text": [
      "p-значение: 0.07370217419278534\n",
      "Не получилось отвергнуть нулевую гипотезу\n",
      "Средняя оценка Action: 7.058129175946549\n",
      "Средняя оценка Sports: 6.951433857539316\n"
     ]
    }
   ],
   "source": [
    "# удаляем пропуски\n",
    "data = data.dropna(subset=['user_score'])\n",
    "# проводим статистический тест \n",
    "sample_1 = data[data['genre'] == \"Action\"]['user_score']\n",
    "sample_2 = data[data['genre'] == \"Sports\"]['user_score']\n",
    "results = st.ttest_ind(\n",
    "    sample_1, \n",
    "    sample_2, \n",
    "    equal_var=False)\n",
    "\n",
    "alpha = 0.05\n",
    "print('p-значение:', results.pvalue)\n",
    "\n",
    "if results.pvalue < alpha:\n",
    "    print(\"Отвергаем нулевую гипотезу\")\n",
    "else:\n",
    "    print(\"Не получилось отвергнуть нулевую гипотезу\")\n",
    "# выведем среднее    \n",
    "print('Средняя оценка Action:', data[data['genre'] == \"Action\"]['user_score'].mean())\n",
    "print('Средняя оценка Sports:', data[data['genre'] == \"Sports\"]['user_score'].mean())"
   ]
  },
  {
   "cell_type": "markdown",
   "id": "afa1a2e8",
   "metadata": {},
   "source": [
    "После статистического теста мы не можем отвергнуть нулевую гипотезу. И правда среднии оценки этих жанров почти не отличаются."
   ]
  },
  {
   "cell_type": "markdown",
   "id": "311f6af6",
   "metadata": {},
   "source": [
    "### Вывод"
   ]
  },
  {
   "cell_type": "markdown",
   "id": "31f3b4c7",
   "metadata": {},
   "source": [
    "При проверке гипотез мы выявели, что средние пользовательские рейтинги рейтинги платформ Xbox One и PC различаютсяю А вот средние пользовательские рейтинги рейтинги жанров Action и Sports практически не отличаются."
   ]
  },
  {
   "cell_type": "markdown",
   "id": "956a17c5",
   "metadata": {},
   "source": [
    "## Общий вывод"
   ]
  },
  {
   "cell_type": "markdown",
   "id": "b4dbc36d",
   "metadata": {},
   "source": [
    "На этапе предообработке данных, мы:\n",
    "\n",
    "- привели название стобцов к нижнему регистру; \n",
    "- поработали с пропусками, где это было возможным и логичным; \n",
    "- проработали со значением \"tbd\";\n",
    "- преобразовали в необходимые типы данных;\n",
    "- добавили столбец с общими продожами по всем регионам.\n",
    "\n",
    "**При аналезе данных мы выяснили, что:** \n",
    "- количество выпущенных игр и проданных копий росло с 80-ых до 2008 г. достигнув плато и далее все пошло на спад. Скорей всего это объяснимо тем, что с 2008 года стали развиваться мобильная разработка и браузерные игры.\n",
    "- Для прогноза на 2017 год нам необходимы будут не все года, а только последние 4 года, т.е. с 2013-2016 г.г. и потенциально прибыльные платформы на 2017 год это: PS4, XOne и 3DS.\n",
    "- Платформы существуют не менее 10 лет.\n",
    "- Самый пик продаж приходится примерно через 4-5 лет после выхода приставки и далее идет на спадю \n",
    "- В 2016 г. из самых популярных платформ за все время совсем мало, но продаются только: X360, PS3, WII. \n",
    "\n",
    "**При планировании на 2017 год потенциально прибыльных и более активно продоваемых игр, стоит обратить внимание на:**\n",
    "\n",
    "- Мы можем увидеть, что по продажам на PS4 и XOne примерно одинаковые объемы  у 3DS еще есть запал по продажам игр, но сама по себе платформа менее популярна, чем указанные выше. По всем продажам несомненно лидирует PS4.\n",
    "- Есть прямопропорциональная зависимость от оценки критиков, а вот от оценок пользователей продажи совсем не зависят.Поэтому можно делать ставки на игры, которые хорошо оценятся критиками.\n",
    "- Самые популярные жанры: Action, Shooter, Role-Playing, Sports. Но при этом медианные значения высокие у Shooter, Sports, Role-Playing, Racing, Platform. Это связано с тем, что жанров Action выпускается значительно больше, чем все остальные. Поэтому можно сделать акцент на жанрах: Shooter, Sports, Role-Playing. И в связи с большим количеством выпускаемых Action игр иметь их так же в ассортиментной матрице.\n",
    "\n",
    "**\"Идеальная\" игра выглядит так:** игра с хорошим рейтингом критиков, выпущенная на PS4 и меющая жанр Shooter.\n",
    "    \n",
    "**Мы составили портерты пользователей:** по платформам, жанрам и рейтингу в Северной Америке, Европе и Японии. В Северной Америке и Японии топ-5 по этим критериям очень схожи, а вот в Японии значительно отличаются. Там больше используют PS и DS, объяснимо думаю тем, что PS это японская платформа и они больше используют их. Так же Японцам интересны Ролевые игры это думаю заложено больше културой. Так же здесь большая доля в рейтинге это пропуске, когда как в Америке и Европе она посередине, возможно это связно с другой системой рейтингов в Азии. \n",
    "\n",
    "**Портреты**\n",
    "\n",
    "В Северной Америке:\n",
    "- самые популярные платформы это PS4, XOne, X360, PS3, 3DS;\n",
    "- самые популярные жанры это Action, Shooter, Sports, Role-Playing, Misc; \n",
    "- самый популярный рейтинг это рейтинг для всех, потом идет рейтинг от 17 лет, на третьем 10+.\n",
    "\n",
    "В Европе:\n",
    "- самые популярные платформы это PS4, PS3, XOne, X360, 3DS;\n",
    "- самые популярные жанры это Action, Shooter, Sports, Role-Playing, Racing; \n",
    "- самый популярный рейтинг это рейтинг для всех, потом идет рейтинг от 17 лет, на третьем 10+.\n",
    "\n",
    "В Японии:\n",
    "- самые популярные платформы это 3DS, PS3, PSV, PS4, WiiU;\n",
    "- самые популярные жанры это Role-Playing, Action, Misc, Fighting, Shooter;\n",
    "- самый популярный рейтинг это рейтинг от 13 лет, потом идет рейтинг от 17 лет, на третьем для всех.\n",
    "\n",
    "\n",
    "**Так же мы проверили гипотезы и выявели:**\n",
    "\n",
    "- средние пользовательские рейтинги рейтинги платформ Xbox One и PC различаются.\n",
    "- средние пользовательские рейтинги рейтинги жанров Action и Sports практически не отличаются.\n",
    "\n",
    "**Рекомендации по планированию рекламного бюджета:**\n",
    "\n",
    "- сделать небольшой акцент на рейтинге кинокритиков;\n",
    "- больше заложить на рекламу игр на платформе PS4, XOne\n",
    "- в жанре Action и Shooter\n",
    "- сделать отдельную рекламную кампанию для Японии."
   ]
  }
 ],
 "metadata": {
  "ExecuteTimeLog": [
   {
    "duration": 537,
    "start_time": "2022-04-10T17:29:16.823Z"
   },
   {
    "duration": 52,
    "start_time": "2022-04-10T17:29:17.362Z"
   },
   {
    "duration": 19,
    "start_time": "2022-04-10T17:29:17.416Z"
   },
   {
    "duration": 736,
    "start_time": "2022-04-10T17:45:59.410Z"
   },
   {
    "duration": 3,
    "start_time": "2022-04-10T17:46:00.147Z"
   },
   {
    "duration": 44,
    "start_time": "2022-04-10T17:46:00.151Z"
   },
   {
    "duration": 15,
    "start_time": "2022-04-10T17:46:00.197Z"
   },
   {
    "duration": 17,
    "start_time": "2022-04-10T17:46:00.214Z"
   },
   {
    "duration": 94,
    "start_time": "2022-04-10T17:48:39.308Z"
   },
   {
    "duration": 9,
    "start_time": "2022-04-10T17:48:48.054Z"
   },
   {
    "duration": 38,
    "start_time": "2022-04-10T17:49:23.551Z"
   },
   {
    "duration": 54,
    "start_time": "2022-04-24T11:32:57.616Z"
   },
   {
    "duration": 1486,
    "start_time": "2022-04-24T11:33:10.849Z"
   },
   {
    "duration": 5,
    "start_time": "2022-04-24T11:33:12.338Z"
   },
   {
    "duration": 45,
    "start_time": "2022-04-24T11:33:12.345Z"
   },
   {
    "duration": 15,
    "start_time": "2022-04-24T11:33:12.392Z"
   },
   {
    "duration": 25,
    "start_time": "2022-04-24T11:33:12.422Z"
   },
   {
    "duration": 16,
    "start_time": "2022-04-24T11:33:12.449Z"
   },
   {
    "duration": 28,
    "start_time": "2022-04-24T11:33:12.468Z"
   },
   {
    "duration": 65,
    "start_time": "2022-04-24T11:37:58.459Z"
   },
   {
    "duration": 9,
    "start_time": "2022-04-24T11:38:23.333Z"
   },
   {
    "duration": 4,
    "start_time": "2022-04-24T11:38:34.380Z"
   },
   {
    "duration": 9,
    "start_time": "2022-04-24T11:38:48.438Z"
   },
   {
    "duration": 5,
    "start_time": "2022-04-24T11:39:04.972Z"
   },
   {
    "duration": 9,
    "start_time": "2022-04-24T11:45:06.469Z"
   },
   {
    "duration": 9,
    "start_time": "2022-04-24T11:45:06.932Z"
   },
   {
    "duration": 16,
    "start_time": "2022-04-24T11:45:24.143Z"
   },
   {
    "duration": 14,
    "start_time": "2022-04-24T11:45:24.768Z"
   },
   {
    "duration": 21,
    "start_time": "2022-04-24T11:46:35.100Z"
   },
   {
    "duration": 19,
    "start_time": "2022-04-24T11:47:18.920Z"
   },
   {
    "duration": 10,
    "start_time": "2022-04-24T11:47:31.511Z"
   },
   {
    "duration": 6,
    "start_time": "2022-04-24T11:47:42.859Z"
   },
   {
    "duration": 9,
    "start_time": "2022-04-24T11:48:13.823Z"
   },
   {
    "duration": 8,
    "start_time": "2022-04-24T11:54:34.721Z"
   },
   {
    "duration": 15,
    "start_time": "2022-04-24T11:54:48.344Z"
   },
   {
    "duration": 8,
    "start_time": "2022-04-24T12:29:48.571Z"
   },
   {
    "duration": 6,
    "start_time": "2022-04-24T12:29:54.433Z"
   },
   {
    "duration": 1210,
    "start_time": "2022-04-24T12:30:06.169Z"
   },
   {
    "duration": 3,
    "start_time": "2022-04-24T12:30:07.381Z"
   },
   {
    "duration": 52,
    "start_time": "2022-04-24T12:30:07.387Z"
   },
   {
    "duration": 16,
    "start_time": "2022-04-24T12:30:07.442Z"
   },
   {
    "duration": 23,
    "start_time": "2022-04-24T12:30:07.459Z"
   },
   {
    "duration": 18,
    "start_time": "2022-04-24T12:30:07.484Z"
   },
   {
    "duration": 44,
    "start_time": "2022-04-24T12:30:07.504Z"
   },
   {
    "duration": 3,
    "start_time": "2022-04-24T12:30:07.550Z"
   },
   {
    "duration": 6,
    "start_time": "2022-04-24T12:30:07.555Z"
   },
   {
    "duration": 20,
    "start_time": "2022-04-24T12:30:07.564Z"
   },
   {
    "duration": 8,
    "start_time": "2022-04-24T12:30:07.586Z"
   },
   {
    "duration": 21,
    "start_time": "2022-04-24T12:30:07.622Z"
   },
   {
    "duration": 7,
    "start_time": "2022-04-24T12:30:07.645Z"
   },
   {
    "duration": 8,
    "start_time": "2022-04-24T12:30:07.654Z"
   },
   {
    "duration": 18,
    "start_time": "2022-04-24T12:30:07.663Z"
   },
   {
    "duration": 46,
    "start_time": "2022-04-24T12:30:07.683Z"
   },
   {
    "duration": 8,
    "start_time": "2022-04-24T12:30:07.731Z"
   },
   {
    "duration": 9,
    "start_time": "2022-04-24T12:30:07.741Z"
   },
   {
    "duration": 124,
    "start_time": "2022-04-24T12:30:07.752Z"
   },
   {
    "duration": 1,
    "start_time": "2022-04-24T12:30:07.877Z"
   },
   {
    "duration": 5,
    "start_time": "2022-04-24T12:31:23.300Z"
   },
   {
    "duration": 10,
    "start_time": "2022-04-24T12:33:29.614Z"
   },
   {
    "duration": 16,
    "start_time": "2022-04-24T12:33:40.186Z"
   },
   {
    "duration": 15,
    "start_time": "2022-04-24T12:33:43.898Z"
   },
   {
    "duration": 7,
    "start_time": "2022-04-24T12:33:55.502Z"
   },
   {
    "duration": 13,
    "start_time": "2022-04-24T12:33:58.451Z"
   },
   {
    "duration": 4,
    "start_time": "2022-04-24T12:36:44.415Z"
   },
   {
    "duration": 15,
    "start_time": "2022-04-24T12:36:45.567Z"
   },
   {
    "duration": 9,
    "start_time": "2022-04-24T12:37:56.377Z"
   },
   {
    "duration": 7,
    "start_time": "2022-04-24T12:38:09.571Z"
   },
   {
    "duration": 14,
    "start_time": "2022-04-24T12:38:25.718Z"
   },
   {
    "duration": 5,
    "start_time": "2022-04-24T17:16:51.111Z"
   },
   {
    "duration": 1856,
    "start_time": "2022-04-24T17:20:38.053Z"
   },
   {
    "duration": 3,
    "start_time": "2022-04-24T17:20:39.911Z"
   },
   {
    "duration": 44,
    "start_time": "2022-04-24T17:20:39.916Z"
   },
   {
    "duration": 34,
    "start_time": "2022-04-24T17:20:39.962Z"
   },
   {
    "duration": 20,
    "start_time": "2022-04-24T17:20:39.999Z"
   },
   {
    "duration": 56,
    "start_time": "2022-04-24T17:20:40.021Z"
   },
   {
    "duration": 35,
    "start_time": "2022-04-24T17:20:40.079Z"
   },
   {
    "duration": 4,
    "start_time": "2022-04-24T17:20:40.116Z"
   },
   {
    "duration": 7,
    "start_time": "2022-04-24T17:20:40.122Z"
   },
   {
    "duration": 42,
    "start_time": "2022-04-24T17:20:40.132Z"
   },
   {
    "duration": 9,
    "start_time": "2022-04-24T17:20:40.176Z"
   },
   {
    "duration": 16,
    "start_time": "2022-04-24T17:20:40.187Z"
   },
   {
    "duration": 10,
    "start_time": "2022-04-24T17:20:40.206Z"
   },
   {
    "duration": 11,
    "start_time": "2022-04-24T17:20:40.218Z"
   },
   {
    "duration": 52,
    "start_time": "2022-04-24T17:20:40.231Z"
   },
   {
    "duration": 12,
    "start_time": "2022-04-24T17:20:40.284Z"
   },
   {
    "duration": 15,
    "start_time": "2022-04-24T17:20:40.298Z"
   },
   {
    "duration": 7,
    "start_time": "2022-04-24T17:20:40.315Z"
   },
   {
    "duration": 6,
    "start_time": "2022-04-24T17:20:40.324Z"
   },
   {
    "duration": 57,
    "start_time": "2022-04-24T17:20:40.332Z"
   },
   {
    "duration": 21,
    "start_time": "2022-04-24T17:20:40.391Z"
   },
   {
    "duration": 8,
    "start_time": "2022-04-24T17:20:40.414Z"
   },
   {
    "duration": 14,
    "start_time": "2022-04-24T17:20:40.424Z"
   },
   {
    "duration": 35,
    "start_time": "2022-04-24T17:20:40.440Z"
   },
   {
    "duration": 22,
    "start_time": "2022-04-24T17:20:40.478Z"
   },
   {
    "duration": 5,
    "start_time": "2022-04-24T17:20:40.502Z"
   },
   {
    "duration": 14,
    "start_time": "2022-04-24T17:20:40.509Z"
   },
   {
    "duration": 10,
    "start_time": "2022-04-24T17:27:53.023Z"
   },
   {
    "duration": 5,
    "start_time": "2022-04-24T17:30:22.839Z"
   },
   {
    "duration": 1252,
    "start_time": "2022-04-24T17:32:46.934Z"
   },
   {
    "duration": 5,
    "start_time": "2022-04-24T17:32:48.188Z"
   },
   {
    "duration": 45,
    "start_time": "2022-04-24T17:32:48.194Z"
   },
   {
    "duration": 34,
    "start_time": "2022-04-24T17:32:48.241Z"
   },
   {
    "duration": 28,
    "start_time": "2022-04-24T17:32:48.279Z"
   },
   {
    "duration": 26,
    "start_time": "2022-04-24T17:32:48.310Z"
   },
   {
    "duration": 70,
    "start_time": "2022-04-24T17:32:48.339Z"
   },
   {
    "duration": 5,
    "start_time": "2022-04-24T17:32:48.411Z"
   },
   {
    "duration": 9,
    "start_time": "2022-04-24T17:32:48.418Z"
   },
   {
    "duration": 46,
    "start_time": "2022-04-24T17:32:48.429Z"
   },
   {
    "duration": 12,
    "start_time": "2022-04-24T17:32:48.477Z"
   },
   {
    "duration": 22,
    "start_time": "2022-04-24T17:32:48.492Z"
   },
   {
    "duration": 15,
    "start_time": "2022-04-24T17:32:48.517Z"
   },
   {
    "duration": 14,
    "start_time": "2022-04-24T17:32:48.536Z"
   },
   {
    "duration": 21,
    "start_time": "2022-04-24T17:32:48.573Z"
   },
   {
    "duration": 12,
    "start_time": "2022-04-24T17:32:48.595Z"
   },
   {
    "duration": 12,
    "start_time": "2022-04-24T17:32:48.611Z"
   },
   {
    "duration": 15,
    "start_time": "2022-04-24T17:32:48.625Z"
   },
   {
    "duration": 60,
    "start_time": "2022-04-24T17:32:48.642Z"
   },
   {
    "duration": 28,
    "start_time": "2022-04-24T17:32:48.705Z"
   },
   {
    "duration": 24,
    "start_time": "2022-04-24T17:32:48.735Z"
   },
   {
    "duration": 8,
    "start_time": "2022-04-24T17:32:48.774Z"
   },
   {
    "duration": 14,
    "start_time": "2022-04-24T17:32:48.783Z"
   },
   {
    "duration": 22,
    "start_time": "2022-04-24T17:32:48.798Z"
   },
   {
    "duration": 131,
    "start_time": "2022-04-24T17:32:48.822Z"
   },
   {
    "duration": 1,
    "start_time": "2022-04-24T17:32:48.955Z"
   },
   {
    "duration": 0,
    "start_time": "2022-04-24T17:32:48.957Z"
   },
   {
    "duration": 9,
    "start_time": "2022-04-24T17:35:17.414Z"
   },
   {
    "duration": 9,
    "start_time": "2022-04-24T17:35:20.202Z"
   },
   {
    "duration": 20,
    "start_time": "2022-04-24T17:35:20.800Z"
   },
   {
    "duration": 1606,
    "start_time": "2022-04-24T17:48:03.733Z"
   },
   {
    "duration": 4,
    "start_time": "2022-04-24T17:48:05.343Z"
   },
   {
    "duration": 66,
    "start_time": "2022-04-24T17:48:05.350Z"
   },
   {
    "duration": 25,
    "start_time": "2022-04-24T17:48:05.419Z"
   },
   {
    "duration": 35,
    "start_time": "2022-04-24T17:48:05.447Z"
   },
   {
    "duration": 27,
    "start_time": "2022-04-24T17:48:05.484Z"
   },
   {
    "duration": 64,
    "start_time": "2022-04-24T17:48:05.513Z"
   },
   {
    "duration": 6,
    "start_time": "2022-04-24T17:48:05.580Z"
   },
   {
    "duration": 11,
    "start_time": "2022-04-24T17:48:05.588Z"
   },
   {
    "duration": 28,
    "start_time": "2022-04-24T17:48:05.602Z"
   },
   {
    "duration": 14,
    "start_time": "2022-04-24T17:48:05.633Z"
   },
   {
    "duration": 45,
    "start_time": "2022-04-24T17:48:05.649Z"
   },
   {
    "duration": 9,
    "start_time": "2022-04-24T17:48:05.696Z"
   },
   {
    "duration": 16,
    "start_time": "2022-04-24T17:48:05.710Z"
   },
   {
    "duration": 47,
    "start_time": "2022-04-24T17:48:05.729Z"
   },
   {
    "duration": 12,
    "start_time": "2022-04-24T17:48:05.778Z"
   },
   {
    "duration": 13,
    "start_time": "2022-04-24T17:48:05.793Z"
   },
   {
    "duration": 20,
    "start_time": "2022-04-24T17:48:05.809Z"
   },
   {
    "duration": 47,
    "start_time": "2022-04-24T17:48:05.831Z"
   },
   {
    "duration": 18,
    "start_time": "2022-04-24T17:48:05.880Z"
   },
   {
    "duration": 18,
    "start_time": "2022-04-24T17:48:05.901Z"
   },
   {
    "duration": 13,
    "start_time": "2022-04-24T17:48:05.921Z"
   },
   {
    "duration": 42,
    "start_time": "2022-04-24T17:48:05.938Z"
   },
   {
    "duration": 11,
    "start_time": "2022-04-24T17:48:05.982Z"
   },
   {
    "duration": 9,
    "start_time": "2022-04-24T17:48:05.996Z"
   },
   {
    "duration": 28,
    "start_time": "2022-04-24T17:48:06.007Z"
   },
   {
    "duration": 215,
    "start_time": "2022-04-24T18:16:07.728Z"
   },
   {
    "duration": 17,
    "start_time": "2022-04-24T18:20:16.060Z"
   },
   {
    "duration": 276,
    "start_time": "2022-04-24T18:23:43.865Z"
   },
   {
    "duration": 88,
    "start_time": "2022-04-24T18:29:41.825Z"
   },
   {
    "duration": 3,
    "start_time": "2022-04-24T18:29:41.915Z"
   },
   {
    "duration": 46,
    "start_time": "2022-04-24T18:29:41.919Z"
   },
   {
    "duration": 16,
    "start_time": "2022-04-24T18:29:41.966Z"
   },
   {
    "duration": 14,
    "start_time": "2022-04-24T18:29:41.984Z"
   },
   {
    "duration": 17,
    "start_time": "2022-04-24T18:29:42.000Z"
   },
   {
    "duration": 30,
    "start_time": "2022-04-24T18:29:42.018Z"
   },
   {
    "duration": 26,
    "start_time": "2022-04-24T18:29:42.049Z"
   },
   {
    "duration": 8,
    "start_time": "2022-04-24T18:29:42.077Z"
   },
   {
    "duration": 16,
    "start_time": "2022-04-24T18:29:42.087Z"
   },
   {
    "duration": 10,
    "start_time": "2022-04-24T18:29:42.105Z"
   },
   {
    "duration": 16,
    "start_time": "2022-04-24T18:29:42.117Z"
   },
   {
    "duration": 8,
    "start_time": "2022-04-24T18:29:42.135Z"
   },
   {
    "duration": 8,
    "start_time": "2022-04-24T18:29:42.173Z"
   },
   {
    "duration": 19,
    "start_time": "2022-04-24T18:29:42.182Z"
   },
   {
    "duration": 12,
    "start_time": "2022-04-24T18:29:42.203Z"
   },
   {
    "duration": 14,
    "start_time": "2022-04-24T18:29:42.218Z"
   },
   {
    "duration": 7,
    "start_time": "2022-04-24T18:29:42.235Z"
   },
   {
    "duration": 16,
    "start_time": "2022-04-24T18:29:42.274Z"
   },
   {
    "duration": 18,
    "start_time": "2022-04-24T18:29:42.293Z"
   },
   {
    "duration": 17,
    "start_time": "2022-04-24T18:29:42.313Z"
   },
   {
    "duration": 42,
    "start_time": "2022-04-24T18:29:42.332Z"
   },
   {
    "duration": 9,
    "start_time": "2022-04-24T18:29:42.375Z"
   },
   {
    "duration": 23,
    "start_time": "2022-04-24T18:29:42.386Z"
   },
   {
    "duration": 12,
    "start_time": "2022-04-24T18:29:42.411Z"
   },
   {
    "duration": 14,
    "start_time": "2022-04-24T18:29:42.425Z"
   },
   {
    "duration": 217,
    "start_time": "2022-04-24T18:29:42.441Z"
   },
   {
    "duration": 287,
    "start_time": "2022-04-24T18:29:42.659Z"
   },
   {
    "duration": 125,
    "start_time": "2022-04-24T18:34:34.016Z"
   },
   {
    "duration": 27,
    "start_time": "2022-04-24T18:34:59.044Z"
   },
   {
    "duration": 288,
    "start_time": "2022-04-24T18:35:08.379Z"
   },
   {
    "duration": 53,
    "start_time": "2022-04-24T18:38:16.052Z"
   },
   {
    "duration": 5,
    "start_time": "2022-04-24T18:38:48.922Z"
   },
   {
    "duration": 7,
    "start_time": "2022-04-24T18:38:48.929Z"
   },
   {
    "duration": 41,
    "start_time": "2022-04-24T18:38:48.938Z"
   },
   {
    "duration": 16,
    "start_time": "2022-04-24T18:38:48.981Z"
   },
   {
    "duration": 15,
    "start_time": "2022-04-24T18:38:48.999Z"
   },
   {
    "duration": 18,
    "start_time": "2022-04-24T18:38:49.016Z"
   },
   {
    "duration": 55,
    "start_time": "2022-04-24T18:38:49.037Z"
   },
   {
    "duration": 3,
    "start_time": "2022-04-24T18:38:49.094Z"
   },
   {
    "duration": 10,
    "start_time": "2022-04-24T18:38:49.099Z"
   },
   {
    "duration": 14,
    "start_time": "2022-04-24T18:38:49.112Z"
   },
   {
    "duration": 8,
    "start_time": "2022-04-24T18:38:49.128Z"
   },
   {
    "duration": 45,
    "start_time": "2022-04-24T18:38:49.138Z"
   },
   {
    "duration": 12,
    "start_time": "2022-04-24T18:38:49.185Z"
   },
   {
    "duration": 12,
    "start_time": "2022-04-24T18:38:49.199Z"
   },
   {
    "duration": 16,
    "start_time": "2022-04-24T18:38:49.213Z"
   },
   {
    "duration": 8,
    "start_time": "2022-04-24T18:38:49.230Z"
   },
   {
    "duration": 40,
    "start_time": "2022-04-24T18:38:49.240Z"
   },
   {
    "duration": 10,
    "start_time": "2022-04-24T18:38:49.282Z"
   },
   {
    "duration": 17,
    "start_time": "2022-04-24T18:38:49.293Z"
   },
   {
    "duration": 14,
    "start_time": "2022-04-24T18:38:49.312Z"
   },
   {
    "duration": 49,
    "start_time": "2022-04-24T18:38:49.328Z"
   },
   {
    "duration": 10,
    "start_time": "2022-04-24T18:38:49.379Z"
   },
   {
    "duration": 10,
    "start_time": "2022-04-24T18:38:49.390Z"
   },
   {
    "duration": 10,
    "start_time": "2022-04-24T18:38:49.402Z"
   },
   {
    "duration": 9,
    "start_time": "2022-04-24T18:38:49.413Z"
   },
   {
    "duration": 16,
    "start_time": "2022-04-24T18:38:49.424Z"
   },
   {
    "duration": 252,
    "start_time": "2022-04-24T18:38:49.442Z"
   },
   {
    "duration": 55,
    "start_time": "2022-04-24T18:38:49.698Z"
   },
   {
    "duration": 146,
    "start_time": "2022-04-24T18:39:03.214Z"
   },
   {
    "duration": 15,
    "start_time": "2022-04-24T18:39:14.932Z"
   },
   {
    "duration": 6,
    "start_time": "2022-04-24T18:39:32.243Z"
   },
   {
    "duration": 12,
    "start_time": "2022-04-24T18:39:32.251Z"
   },
   {
    "duration": 45,
    "start_time": "2022-04-24T18:39:32.266Z"
   },
   {
    "duration": 15,
    "start_time": "2022-04-24T18:39:32.313Z"
   },
   {
    "duration": 17,
    "start_time": "2022-04-24T18:39:32.329Z"
   },
   {
    "duration": 32,
    "start_time": "2022-04-24T18:39:32.348Z"
   },
   {
    "duration": 30,
    "start_time": "2022-04-24T18:39:32.382Z"
   },
   {
    "duration": 3,
    "start_time": "2022-04-24T18:39:32.414Z"
   },
   {
    "duration": 16,
    "start_time": "2022-04-24T18:39:32.418Z"
   },
   {
    "duration": 37,
    "start_time": "2022-04-24T18:39:32.437Z"
   },
   {
    "duration": 8,
    "start_time": "2022-04-24T18:39:32.476Z"
   },
   {
    "duration": 19,
    "start_time": "2022-04-24T18:39:32.486Z"
   },
   {
    "duration": 7,
    "start_time": "2022-04-24T18:39:32.507Z"
   },
   {
    "duration": 10,
    "start_time": "2022-04-24T18:39:32.516Z"
   },
   {
    "duration": 15,
    "start_time": "2022-04-24T18:39:32.528Z"
   },
   {
    "duration": 9,
    "start_time": "2022-04-24T18:39:32.574Z"
   },
   {
    "duration": 10,
    "start_time": "2022-04-24T18:39:32.584Z"
   },
   {
    "duration": 13,
    "start_time": "2022-04-24T18:39:32.595Z"
   },
   {
    "duration": 20,
    "start_time": "2022-04-24T18:39:32.610Z"
   },
   {
    "duration": 15,
    "start_time": "2022-04-24T18:39:32.632Z"
   },
   {
    "duration": 19,
    "start_time": "2022-04-24T18:39:32.674Z"
   },
   {
    "duration": 12,
    "start_time": "2022-04-24T18:39:32.695Z"
   },
   {
    "duration": 14,
    "start_time": "2022-04-24T18:39:32.709Z"
   },
   {
    "duration": 9,
    "start_time": "2022-04-24T18:39:32.724Z"
   },
   {
    "duration": 13,
    "start_time": "2022-04-24T18:39:32.735Z"
   },
   {
    "duration": 38,
    "start_time": "2022-04-24T18:39:32.750Z"
   },
   {
    "duration": 229,
    "start_time": "2022-04-24T18:39:32.790Z"
   },
   {
    "duration": 33,
    "start_time": "2022-04-24T18:39:33.023Z"
   },
   {
    "duration": 13,
    "start_time": "2022-04-24T18:40:27.142Z"
   },
   {
    "duration": 4,
    "start_time": "2022-04-24T18:40:31.093Z"
   },
   {
    "duration": 12,
    "start_time": "2022-04-24T18:40:31.099Z"
   },
   {
    "duration": 38,
    "start_time": "2022-04-24T18:40:31.113Z"
   },
   {
    "duration": 14,
    "start_time": "2022-04-24T18:40:31.153Z"
   },
   {
    "duration": 14,
    "start_time": "2022-04-24T18:40:31.169Z"
   },
   {
    "duration": 24,
    "start_time": "2022-04-24T18:40:31.184Z"
   },
   {
    "duration": 28,
    "start_time": "2022-04-24T18:40:31.210Z"
   },
   {
    "duration": 3,
    "start_time": "2022-04-24T18:40:31.240Z"
   },
   {
    "duration": 6,
    "start_time": "2022-04-24T18:40:31.272Z"
   },
   {
    "duration": 22,
    "start_time": "2022-04-24T18:40:31.279Z"
   },
   {
    "duration": 12,
    "start_time": "2022-04-24T18:40:31.302Z"
   },
   {
    "duration": 18,
    "start_time": "2022-04-24T18:40:31.316Z"
   },
   {
    "duration": 11,
    "start_time": "2022-04-24T18:40:31.336Z"
   },
   {
    "duration": 9,
    "start_time": "2022-04-24T18:40:31.373Z"
   },
   {
    "duration": 21,
    "start_time": "2022-04-24T18:40:31.384Z"
   },
   {
    "duration": 8,
    "start_time": "2022-04-24T18:40:31.407Z"
   },
   {
    "duration": 11,
    "start_time": "2022-04-24T18:40:31.417Z"
   },
   {
    "duration": 7,
    "start_time": "2022-04-24T18:40:31.430Z"
   },
   {
    "duration": 51,
    "start_time": "2022-04-24T18:40:31.438Z"
   },
   {
    "duration": 15,
    "start_time": "2022-04-24T18:40:31.491Z"
   },
   {
    "duration": 16,
    "start_time": "2022-04-24T18:40:31.508Z"
   },
   {
    "duration": 11,
    "start_time": "2022-04-24T18:40:31.526Z"
   },
   {
    "duration": 40,
    "start_time": "2022-04-24T18:40:31.538Z"
   },
   {
    "duration": 8,
    "start_time": "2022-04-24T18:40:31.580Z"
   },
   {
    "duration": 11,
    "start_time": "2022-04-24T18:40:31.590Z"
   },
   {
    "duration": 43,
    "start_time": "2022-04-24T18:40:31.602Z"
   },
   {
    "duration": 214,
    "start_time": "2022-04-24T18:40:31.647Z"
   },
   {
    "duration": 34,
    "start_time": "2022-04-24T18:40:31.864Z"
   },
   {
    "duration": 14,
    "start_time": "2022-04-24T18:41:10.898Z"
   },
   {
    "duration": 5,
    "start_time": "2022-04-24T18:41:15.771Z"
   },
   {
    "duration": 15,
    "start_time": "2022-04-24T18:41:15.778Z"
   },
   {
    "duration": 40,
    "start_time": "2022-04-24T18:41:15.796Z"
   },
   {
    "duration": 16,
    "start_time": "2022-04-24T18:41:15.837Z"
   },
   {
    "duration": 27,
    "start_time": "2022-04-24T18:41:15.855Z"
   },
   {
    "duration": 19,
    "start_time": "2022-04-24T18:41:15.883Z"
   },
   {
    "duration": 32,
    "start_time": "2022-04-24T18:41:15.904Z"
   },
   {
    "duration": 3,
    "start_time": "2022-04-24T18:41:15.938Z"
   },
   {
    "duration": 32,
    "start_time": "2022-04-24T18:41:15.943Z"
   },
   {
    "duration": 23,
    "start_time": "2022-04-24T18:41:15.976Z"
   },
   {
    "duration": 11,
    "start_time": "2022-04-24T18:41:16.002Z"
   },
   {
    "duration": 19,
    "start_time": "2022-04-24T18:41:16.015Z"
   },
   {
    "duration": 40,
    "start_time": "2022-04-24T18:41:16.035Z"
   },
   {
    "duration": 10,
    "start_time": "2022-04-24T18:41:16.077Z"
   },
   {
    "duration": 16,
    "start_time": "2022-04-24T18:41:16.089Z"
   },
   {
    "duration": 9,
    "start_time": "2022-04-24T18:41:16.107Z"
   },
   {
    "duration": 10,
    "start_time": "2022-04-24T18:41:16.117Z"
   },
   {
    "duration": 6,
    "start_time": "2022-04-24T18:41:16.129Z"
   },
   {
    "duration": 16,
    "start_time": "2022-04-24T18:41:16.174Z"
   },
   {
    "duration": 17,
    "start_time": "2022-04-24T18:41:16.192Z"
   },
   {
    "duration": 16,
    "start_time": "2022-04-24T18:41:16.211Z"
   },
   {
    "duration": 45,
    "start_time": "2022-04-24T18:41:16.229Z"
   },
   {
    "duration": 7,
    "start_time": "2022-04-24T18:41:16.277Z"
   },
   {
    "duration": 11,
    "start_time": "2022-04-24T18:41:16.286Z"
   },
   {
    "duration": 8,
    "start_time": "2022-04-24T18:41:16.299Z"
   },
   {
    "duration": 14,
    "start_time": "2022-04-24T18:41:16.308Z"
   },
   {
    "duration": 244,
    "start_time": "2022-04-24T18:41:16.324Z"
   },
   {
    "duration": 31,
    "start_time": "2022-04-24T18:41:16.569Z"
   },
   {
    "duration": 12,
    "start_time": "2022-04-24T18:41:33.269Z"
   },
   {
    "duration": 13,
    "start_time": "2022-04-24T18:41:53.393Z"
   },
   {
    "duration": 5,
    "start_time": "2022-04-24T18:41:56.535Z"
   },
   {
    "duration": 3,
    "start_time": "2022-04-24T18:41:56.553Z"
   },
   {
    "duration": 46,
    "start_time": "2022-04-24T18:41:56.558Z"
   },
   {
    "duration": 14,
    "start_time": "2022-04-24T18:41:56.606Z"
   },
   {
    "duration": 13,
    "start_time": "2022-04-24T18:41:56.622Z"
   },
   {
    "duration": 48,
    "start_time": "2022-04-24T18:41:56.637Z"
   },
   {
    "duration": 30,
    "start_time": "2022-04-24T18:41:56.687Z"
   },
   {
    "duration": 4,
    "start_time": "2022-04-24T18:41:56.718Z"
   },
   {
    "duration": 7,
    "start_time": "2022-04-24T18:41:56.723Z"
   },
   {
    "duration": 18,
    "start_time": "2022-04-24T18:41:56.731Z"
   },
   {
    "duration": 8,
    "start_time": "2022-04-24T18:41:56.774Z"
   },
   {
    "duration": 15,
    "start_time": "2022-04-24T18:41:56.783Z"
   },
   {
    "duration": 5,
    "start_time": "2022-04-24T18:41:56.800Z"
   },
   {
    "duration": 11,
    "start_time": "2022-04-24T18:41:56.807Z"
   },
   {
    "duration": 18,
    "start_time": "2022-04-24T18:41:56.821Z"
   },
   {
    "duration": 10,
    "start_time": "2022-04-24T18:41:56.872Z"
   },
   {
    "duration": 15,
    "start_time": "2022-04-24T18:41:56.884Z"
   },
   {
    "duration": 9,
    "start_time": "2022-04-24T18:41:56.901Z"
   },
   {
    "duration": 23,
    "start_time": "2022-04-24T18:41:56.912Z"
   },
   {
    "duration": 53,
    "start_time": "2022-04-24T18:41:56.937Z"
   },
   {
    "duration": 18,
    "start_time": "2022-04-24T18:41:56.992Z"
   },
   {
    "duration": 7,
    "start_time": "2022-04-24T18:41:57.012Z"
   },
   {
    "duration": 7,
    "start_time": "2022-04-24T18:41:57.021Z"
   },
   {
    "duration": 8,
    "start_time": "2022-04-24T18:41:57.030Z"
   },
   {
    "duration": 34,
    "start_time": "2022-04-24T18:41:57.040Z"
   },
   {
    "duration": 15,
    "start_time": "2022-04-24T18:41:57.075Z"
   },
   {
    "duration": 32,
    "start_time": "2022-04-24T18:41:57.092Z"
   },
   {
    "duration": 14,
    "start_time": "2022-04-24T18:41:57.126Z"
   },
   {
    "duration": 1293,
    "start_time": "2022-04-24T18:42:19.368Z"
   },
   {
    "duration": 3,
    "start_time": "2022-04-24T18:42:20.664Z"
   },
   {
    "duration": 41,
    "start_time": "2022-04-24T18:42:20.668Z"
   },
   {
    "duration": 18,
    "start_time": "2022-04-24T18:42:20.711Z"
   },
   {
    "duration": 19,
    "start_time": "2022-04-24T18:42:20.731Z"
   },
   {
    "duration": 34,
    "start_time": "2022-04-24T18:42:20.752Z"
   },
   {
    "duration": 32,
    "start_time": "2022-04-24T18:42:20.789Z"
   },
   {
    "duration": 4,
    "start_time": "2022-04-24T18:42:20.823Z"
   },
   {
    "duration": 7,
    "start_time": "2022-04-24T18:42:20.828Z"
   },
   {
    "duration": 46,
    "start_time": "2022-04-24T18:42:20.838Z"
   },
   {
    "duration": 8,
    "start_time": "2022-04-24T18:42:20.885Z"
   },
   {
    "duration": 27,
    "start_time": "2022-04-24T18:42:20.894Z"
   },
   {
    "duration": 11,
    "start_time": "2022-04-24T18:42:20.923Z"
   },
   {
    "duration": 14,
    "start_time": "2022-04-24T18:42:20.935Z"
   },
   {
    "duration": 17,
    "start_time": "2022-04-24T18:42:20.950Z"
   },
   {
    "duration": 8,
    "start_time": "2022-04-24T18:42:20.974Z"
   },
   {
    "duration": 9,
    "start_time": "2022-04-24T18:42:20.984Z"
   },
   {
    "duration": 12,
    "start_time": "2022-04-24T18:42:20.995Z"
   },
   {
    "duration": 18,
    "start_time": "2022-04-24T18:42:21.009Z"
   },
   {
    "duration": 17,
    "start_time": "2022-04-24T18:42:21.028Z"
   },
   {
    "duration": 17,
    "start_time": "2022-04-24T18:42:21.074Z"
   },
   {
    "duration": 16,
    "start_time": "2022-04-24T18:42:21.092Z"
   },
   {
    "duration": 19,
    "start_time": "2022-04-24T18:42:21.109Z"
   },
   {
    "duration": 14,
    "start_time": "2022-04-24T18:42:21.129Z"
   },
   {
    "duration": 11,
    "start_time": "2022-04-24T18:42:21.145Z"
   },
   {
    "duration": 34,
    "start_time": "2022-04-24T18:42:21.158Z"
   },
   {
    "duration": 186,
    "start_time": "2022-04-24T18:42:21.194Z"
   },
   {
    "duration": 153,
    "start_time": "2022-04-24T18:42:21.383Z"
   },
   {
    "duration": 12,
    "start_time": "2022-04-24T18:48:20.885Z"
   },
   {
    "duration": 5,
    "start_time": "2022-04-24T18:48:32.905Z"
   },
   {
    "duration": 2,
    "start_time": "2022-04-24T18:48:32.921Z"
   },
   {
    "duration": 45,
    "start_time": "2022-04-24T18:48:32.925Z"
   },
   {
    "duration": 14,
    "start_time": "2022-04-24T18:48:32.971Z"
   },
   {
    "duration": 14,
    "start_time": "2022-04-24T18:48:32.987Z"
   },
   {
    "duration": 17,
    "start_time": "2022-04-24T18:48:33.003Z"
   },
   {
    "duration": 53,
    "start_time": "2022-04-24T18:48:33.022Z"
   },
   {
    "duration": 4,
    "start_time": "2022-04-24T18:48:33.077Z"
   },
   {
    "duration": 8,
    "start_time": "2022-04-24T18:48:33.083Z"
   },
   {
    "duration": 16,
    "start_time": "2022-04-24T18:48:33.092Z"
   },
   {
    "duration": 8,
    "start_time": "2022-04-24T18:48:33.110Z"
   },
   {
    "duration": 15,
    "start_time": "2022-04-24T18:48:33.119Z"
   },
   {
    "duration": 8,
    "start_time": "2022-04-24T18:48:33.135Z"
   },
   {
    "duration": 33,
    "start_time": "2022-04-24T18:48:33.144Z"
   },
   {
    "duration": 16,
    "start_time": "2022-04-24T18:48:33.180Z"
   },
   {
    "duration": 8,
    "start_time": "2022-04-24T18:48:33.198Z"
   },
   {
    "duration": 11,
    "start_time": "2022-04-24T18:48:33.207Z"
   },
   {
    "duration": 6,
    "start_time": "2022-04-24T18:48:33.220Z"
   },
   {
    "duration": 15,
    "start_time": "2022-04-24T18:48:33.227Z"
   },
   {
    "duration": 16,
    "start_time": "2022-04-24T18:48:33.274Z"
   },
   {
    "duration": 17,
    "start_time": "2022-04-24T18:48:33.291Z"
   },
   {
    "duration": 6,
    "start_time": "2022-04-24T18:48:33.310Z"
   },
   {
    "duration": 7,
    "start_time": "2022-04-24T18:48:33.318Z"
   },
   {
    "duration": 6,
    "start_time": "2022-04-24T18:48:33.327Z"
   },
   {
    "duration": 38,
    "start_time": "2022-04-24T18:48:33.335Z"
   },
   {
    "duration": 14,
    "start_time": "2022-04-24T18:48:33.375Z"
   },
   {
    "duration": 29,
    "start_time": "2022-04-24T18:48:33.391Z"
   },
   {
    "duration": 12,
    "start_time": "2022-04-24T18:48:33.422Z"
   },
   {
    "duration": 17,
    "start_time": "2022-04-24T18:50:50.829Z"
   },
   {
    "duration": 16,
    "start_time": "2022-04-24T18:51:21.396Z"
   },
   {
    "duration": 1243,
    "start_time": "2022-04-24T18:51:30.123Z"
   },
   {
    "duration": 2,
    "start_time": "2022-04-24T18:51:31.368Z"
   },
   {
    "duration": 53,
    "start_time": "2022-04-24T18:51:31.372Z"
   },
   {
    "duration": 15,
    "start_time": "2022-04-24T18:51:31.427Z"
   },
   {
    "duration": 17,
    "start_time": "2022-04-24T18:51:31.444Z"
   },
   {
    "duration": 17,
    "start_time": "2022-04-24T18:51:31.463Z"
   },
   {
    "duration": 29,
    "start_time": "2022-04-24T18:51:31.482Z"
   },
   {
    "duration": 2,
    "start_time": "2022-04-24T18:51:31.513Z"
   },
   {
    "duration": 11,
    "start_time": "2022-04-24T18:51:31.517Z"
   },
   {
    "duration": 44,
    "start_time": "2022-04-24T18:51:31.530Z"
   },
   {
    "duration": 8,
    "start_time": "2022-04-24T18:51:31.576Z"
   },
   {
    "duration": 19,
    "start_time": "2022-04-24T18:51:31.586Z"
   },
   {
    "duration": 15,
    "start_time": "2022-04-24T18:51:31.607Z"
   },
   {
    "duration": 9,
    "start_time": "2022-04-24T18:51:31.624Z"
   },
   {
    "duration": 20,
    "start_time": "2022-04-24T18:51:31.635Z"
   },
   {
    "duration": 23,
    "start_time": "2022-04-24T18:51:31.657Z"
   },
   {
    "duration": 11,
    "start_time": "2022-04-24T18:51:31.682Z"
   },
   {
    "duration": 15,
    "start_time": "2022-04-24T18:51:31.695Z"
   },
   {
    "duration": 23,
    "start_time": "2022-04-24T18:51:31.712Z"
   },
   {
    "duration": 38,
    "start_time": "2022-04-24T18:51:31.737Z"
   },
   {
    "duration": 17,
    "start_time": "2022-04-24T18:51:31.777Z"
   },
   {
    "duration": 6,
    "start_time": "2022-04-24T18:51:31.796Z"
   },
   {
    "duration": 15,
    "start_time": "2022-04-24T18:51:31.804Z"
   },
   {
    "duration": 9,
    "start_time": "2022-04-24T18:51:31.821Z"
   },
   {
    "duration": 11,
    "start_time": "2022-04-24T18:51:31.832Z"
   },
   {
    "duration": 40,
    "start_time": "2022-04-24T18:51:31.845Z"
   },
   {
    "duration": 196,
    "start_time": "2022-04-24T18:51:31.887Z"
   },
   {
    "duration": 152,
    "start_time": "2022-04-24T18:51:32.087Z"
   },
   {
    "duration": 1240,
    "start_time": "2022-04-24T18:52:23.031Z"
   },
   {
    "duration": 2,
    "start_time": "2022-04-24T18:52:24.274Z"
   },
   {
    "duration": 44,
    "start_time": "2022-04-24T18:52:24.278Z"
   },
   {
    "duration": 16,
    "start_time": "2022-04-24T18:52:24.323Z"
   },
   {
    "duration": 17,
    "start_time": "2022-04-24T18:52:24.341Z"
   },
   {
    "duration": 17,
    "start_time": "2022-04-24T18:52:24.373Z"
   },
   {
    "duration": 31,
    "start_time": "2022-04-24T18:52:24.391Z"
   },
   {
    "duration": 4,
    "start_time": "2022-04-24T18:52:24.424Z"
   },
   {
    "duration": 11,
    "start_time": "2022-04-24T18:52:24.430Z"
   },
   {
    "duration": 36,
    "start_time": "2022-04-24T18:52:24.443Z"
   },
   {
    "duration": 16,
    "start_time": "2022-04-24T18:52:24.481Z"
   },
   {
    "duration": 19,
    "start_time": "2022-04-24T18:52:24.499Z"
   },
   {
    "duration": 5,
    "start_time": "2022-04-24T18:52:24.520Z"
   },
   {
    "duration": 11,
    "start_time": "2022-04-24T18:52:24.528Z"
   },
   {
    "duration": 17,
    "start_time": "2022-04-24T18:52:24.541Z"
   },
   {
    "duration": 9,
    "start_time": "2022-04-24T18:52:24.573Z"
   },
   {
    "duration": 12,
    "start_time": "2022-04-24T18:52:24.584Z"
   },
   {
    "duration": 11,
    "start_time": "2022-04-24T18:52:24.597Z"
   },
   {
    "duration": 33,
    "start_time": "2022-04-24T18:52:24.610Z"
   },
   {
    "duration": 29,
    "start_time": "2022-04-24T18:52:24.644Z"
   },
   {
    "duration": 17,
    "start_time": "2022-04-24T18:52:24.675Z"
   },
   {
    "duration": 7,
    "start_time": "2022-04-24T18:52:24.693Z"
   },
   {
    "duration": 9,
    "start_time": "2022-04-24T18:52:24.702Z"
   },
   {
    "duration": 10,
    "start_time": "2022-04-24T18:52:24.713Z"
   },
   {
    "duration": 7,
    "start_time": "2022-04-24T18:52:24.725Z"
   },
   {
    "duration": 45,
    "start_time": "2022-04-24T18:52:24.734Z"
   },
   {
    "duration": 193,
    "start_time": "2022-04-24T18:52:24.780Z"
   },
   {
    "duration": 169,
    "start_time": "2022-04-24T18:52:24.975Z"
   },
   {
    "duration": 316,
    "start_time": "2022-04-24T18:52:44.586Z"
   },
   {
    "duration": 1211,
    "start_time": "2022-04-24T18:57:22.892Z"
   },
   {
    "duration": 1153,
    "start_time": "2022-04-24T18:57:29.532Z"
   },
   {
    "duration": 25,
    "start_time": "2022-04-24T18:58:09.576Z"
   },
   {
    "duration": 107,
    "start_time": "2022-04-24T18:58:41.435Z"
   },
   {
    "duration": 118,
    "start_time": "2022-04-24T18:58:47.953Z"
   },
   {
    "duration": 1812,
    "start_time": "2022-04-24T18:59:06.702Z"
   },
   {
    "duration": 2054,
    "start_time": "2022-04-24T18:59:29.236Z"
   },
   {
    "duration": 6472,
    "start_time": "2022-04-24T19:02:56.430Z"
   },
   {
    "duration": 12,
    "start_time": "2022-04-24T19:03:26.588Z"
   },
   {
    "duration": 1037,
    "start_time": "2022-04-24T19:04:07.186Z"
   },
   {
    "duration": 12,
    "start_time": "2022-04-24T19:18:41.504Z"
   },
   {
    "duration": 5,
    "start_time": "2022-04-24T19:18:48.779Z"
   },
   {
    "duration": 5,
    "start_time": "2022-04-24T19:18:48.786Z"
   },
   {
    "duration": 48,
    "start_time": "2022-04-24T19:18:48.793Z"
   },
   {
    "duration": 15,
    "start_time": "2022-04-24T19:18:48.842Z"
   },
   {
    "duration": 15,
    "start_time": "2022-04-24T19:18:48.875Z"
   },
   {
    "duration": 19,
    "start_time": "2022-04-24T19:18:48.892Z"
   },
   {
    "duration": 31,
    "start_time": "2022-04-24T19:18:48.913Z"
   },
   {
    "duration": 4,
    "start_time": "2022-04-24T19:18:48.973Z"
   },
   {
    "duration": 9,
    "start_time": "2022-04-24T19:18:48.979Z"
   },
   {
    "duration": 16,
    "start_time": "2022-04-24T19:18:48.990Z"
   },
   {
    "duration": 9,
    "start_time": "2022-04-24T19:18:49.008Z"
   },
   {
    "duration": 15,
    "start_time": "2022-04-24T19:18:49.019Z"
   },
   {
    "duration": 40,
    "start_time": "2022-04-24T19:18:49.036Z"
   },
   {
    "duration": 9,
    "start_time": "2022-04-24T19:18:49.079Z"
   },
   {
    "duration": 17,
    "start_time": "2022-04-24T19:18:49.089Z"
   },
   {
    "duration": 9,
    "start_time": "2022-04-24T19:18:49.109Z"
   },
   {
    "duration": 12,
    "start_time": "2022-04-24T19:18:49.120Z"
   },
   {
    "duration": 11,
    "start_time": "2022-04-24T19:18:49.134Z"
   },
   {
    "duration": 43,
    "start_time": "2022-04-24T19:18:49.146Z"
   },
   {
    "duration": 18,
    "start_time": "2022-04-24T19:18:49.190Z"
   },
   {
    "duration": 17,
    "start_time": "2022-04-24T19:18:49.210Z"
   },
   {
    "duration": 6,
    "start_time": "2022-04-24T19:18:49.229Z"
   },
   {
    "duration": 40,
    "start_time": "2022-04-24T19:18:49.237Z"
   },
   {
    "duration": 8,
    "start_time": "2022-04-24T19:18:49.279Z"
   },
   {
    "duration": 6,
    "start_time": "2022-04-24T19:18:49.288Z"
   },
   {
    "duration": 14,
    "start_time": "2022-04-24T19:18:49.295Z"
   },
   {
    "duration": 30,
    "start_time": "2022-04-24T19:18:49.310Z"
   },
   {
    "duration": 353,
    "start_time": "2022-04-24T19:18:49.374Z"
   },
   {
    "duration": 1212,
    "start_time": "2022-04-24T19:18:49.729Z"
   },
   {
    "duration": 6,
    "start_time": "2022-04-24T19:18:50.943Z"
   },
   {
    "duration": 48,
    "start_time": "2022-04-24T19:18:50.951Z"
   },
   {
    "duration": 39,
    "start_time": "2022-04-24T19:19:16.639Z"
   },
   {
    "duration": 252,
    "start_time": "2022-04-24T19:20:49.528Z"
   },
   {
    "duration": 16,
    "start_time": "2022-04-24T19:21:17.950Z"
   },
   {
    "duration": 303,
    "start_time": "2022-04-24T19:21:30.281Z"
   },
   {
    "duration": 116,
    "start_time": "2022-04-24T19:24:20.729Z"
   },
   {
    "duration": 182,
    "start_time": "2022-04-24T19:25:43.303Z"
   },
   {
    "duration": 13,
    "start_time": "2022-04-24T19:26:45.538Z"
   },
   {
    "duration": 1790,
    "start_time": "2022-04-24T19:27:22.458Z"
   },
   {
    "duration": 6,
    "start_time": "2022-04-24T20:47:36.450Z"
   },
   {
    "duration": 1443,
    "start_time": "2022-04-25T16:52:07.751Z"
   },
   {
    "duration": 3,
    "start_time": "2022-04-25T16:52:09.196Z"
   },
   {
    "duration": 46,
    "start_time": "2022-04-25T16:52:09.201Z"
   },
   {
    "duration": 19,
    "start_time": "2022-04-25T16:52:09.248Z"
   },
   {
    "duration": 18,
    "start_time": "2022-04-25T16:52:09.269Z"
   },
   {
    "duration": 17,
    "start_time": "2022-04-25T16:52:09.289Z"
   },
   {
    "duration": 29,
    "start_time": "2022-04-25T16:52:09.308Z"
   },
   {
    "duration": 3,
    "start_time": "2022-04-25T16:52:09.338Z"
   },
   {
    "duration": 10,
    "start_time": "2022-04-25T16:52:09.343Z"
   },
   {
    "duration": 14,
    "start_time": "2022-04-25T16:52:09.373Z"
   },
   {
    "duration": 13,
    "start_time": "2022-04-25T16:52:09.389Z"
   },
   {
    "duration": 14,
    "start_time": "2022-04-25T16:52:09.404Z"
   },
   {
    "duration": 9,
    "start_time": "2022-04-25T16:52:09.420Z"
   },
   {
    "duration": 8,
    "start_time": "2022-04-25T16:52:09.432Z"
   },
   {
    "duration": 46,
    "start_time": "2022-04-25T16:52:09.441Z"
   },
   {
    "duration": 9,
    "start_time": "2022-04-25T16:52:09.489Z"
   },
   {
    "duration": 23,
    "start_time": "2022-04-25T16:52:09.499Z"
   },
   {
    "duration": 14,
    "start_time": "2022-04-25T16:52:09.524Z"
   },
   {
    "duration": 17,
    "start_time": "2022-04-25T16:52:09.540Z"
   },
   {
    "duration": 25,
    "start_time": "2022-04-25T16:52:09.559Z"
   },
   {
    "duration": 15,
    "start_time": "2022-04-25T16:52:09.586Z"
   },
   {
    "duration": 9,
    "start_time": "2022-04-25T16:52:09.602Z"
   },
   {
    "duration": 14,
    "start_time": "2022-04-25T16:52:09.612Z"
   },
   {
    "duration": 8,
    "start_time": "2022-04-25T16:52:09.628Z"
   },
   {
    "duration": 5,
    "start_time": "2022-04-25T16:52:09.638Z"
   },
   {
    "duration": 38,
    "start_time": "2022-04-25T16:52:09.645Z"
   },
   {
    "duration": 206,
    "start_time": "2022-04-25T16:52:09.685Z"
   },
   {
    "duration": 347,
    "start_time": "2022-04-25T16:52:09.892Z"
   },
   {
    "duration": 145,
    "start_time": "2022-04-25T16:52:10.240Z"
   },
   {
    "duration": 0,
    "start_time": "2022-04-25T16:52:10.387Z"
   },
   {
    "duration": 0,
    "start_time": "2022-04-25T16:52:10.388Z"
   },
   {
    "duration": 0,
    "start_time": "2022-04-25T16:52:10.389Z"
   },
   {
    "duration": 0,
    "start_time": "2022-04-25T16:52:10.390Z"
   },
   {
    "duration": 0,
    "start_time": "2022-04-25T16:52:10.391Z"
   },
   {
    "duration": 0,
    "start_time": "2022-04-25T16:52:10.393Z"
   },
   {
    "duration": 1107,
    "start_time": "2022-04-25T16:52:50.578Z"
   },
   {
    "duration": 7,
    "start_time": "2022-04-25T16:53:07.503Z"
   },
   {
    "duration": 194,
    "start_time": "2022-04-25T16:53:08.630Z"
   },
   {
    "duration": 1866,
    "start_time": "2022-04-25T16:53:14.920Z"
   },
   {
    "duration": 23,
    "start_time": "2022-04-25T17:04:21.489Z"
   },
   {
    "duration": 25,
    "start_time": "2022-04-25T17:05:09.538Z"
   },
   {
    "duration": 20,
    "start_time": "2022-04-25T17:05:41.578Z"
   },
   {
    "duration": 24,
    "start_time": "2022-04-25T17:09:35.284Z"
   },
   {
    "duration": 164,
    "start_time": "2022-04-25T17:13:36.237Z"
   },
   {
    "duration": 175,
    "start_time": "2022-04-25T17:15:40.748Z"
   },
   {
    "duration": 175,
    "start_time": "2022-04-25T17:17:00.326Z"
   },
   {
    "duration": 20,
    "start_time": "2022-04-25T17:29:31.859Z"
   },
   {
    "duration": 26,
    "start_time": "2022-04-25T17:29:45.397Z"
   },
   {
    "duration": 5,
    "start_time": "2022-04-25T17:30:11.229Z"
   },
   {
    "duration": 18,
    "start_time": "2022-04-25T17:30:11.236Z"
   },
   {
    "duration": 71,
    "start_time": "2022-04-25T17:30:11.255Z"
   },
   {
    "duration": 17,
    "start_time": "2022-04-25T17:30:11.328Z"
   },
   {
    "duration": 26,
    "start_time": "2022-04-25T17:30:11.349Z"
   },
   {
    "duration": 30,
    "start_time": "2022-04-25T17:30:11.377Z"
   },
   {
    "duration": 42,
    "start_time": "2022-04-25T17:30:11.409Z"
   },
   {
    "duration": 6,
    "start_time": "2022-04-25T17:30:11.453Z"
   },
   {
    "duration": 24,
    "start_time": "2022-04-25T17:30:11.461Z"
   },
   {
    "duration": 38,
    "start_time": "2022-04-25T17:30:11.487Z"
   },
   {
    "duration": 27,
    "start_time": "2022-04-25T17:30:11.527Z"
   },
   {
    "duration": 32,
    "start_time": "2022-04-25T17:30:11.556Z"
   },
   {
    "duration": 17,
    "start_time": "2022-04-25T17:30:11.592Z"
   },
   {
    "duration": 16,
    "start_time": "2022-04-25T17:30:11.611Z"
   },
   {
    "duration": 18,
    "start_time": "2022-04-25T17:30:11.629Z"
   },
   {
    "duration": 9,
    "start_time": "2022-04-25T17:30:11.648Z"
   },
   {
    "duration": 18,
    "start_time": "2022-04-25T17:30:11.658Z"
   },
   {
    "duration": 13,
    "start_time": "2022-04-25T17:30:11.678Z"
   },
   {
    "duration": 31,
    "start_time": "2022-04-25T17:30:11.693Z"
   },
   {
    "duration": 16,
    "start_time": "2022-04-25T17:30:11.726Z"
   },
   {
    "duration": 22,
    "start_time": "2022-04-25T17:30:11.744Z"
   },
   {
    "duration": 8,
    "start_time": "2022-04-25T17:30:11.768Z"
   },
   {
    "duration": 13,
    "start_time": "2022-04-25T17:30:11.778Z"
   },
   {
    "duration": 26,
    "start_time": "2022-04-25T17:30:11.793Z"
   },
   {
    "duration": 20,
    "start_time": "2022-04-25T17:30:11.821Z"
   },
   {
    "duration": 16,
    "start_time": "2022-04-25T17:30:11.843Z"
   },
   {
    "duration": 41,
    "start_time": "2022-04-25T17:30:11.861Z"
   },
   {
    "duration": 362,
    "start_time": "2022-04-25T17:30:11.904Z"
   },
   {
    "duration": 1237,
    "start_time": "2022-04-25T17:30:12.268Z"
   },
   {
    "duration": 6,
    "start_time": "2022-04-25T17:30:13.507Z"
   },
   {
    "duration": 221,
    "start_time": "2022-04-25T17:30:13.515Z"
   },
   {
    "duration": 2032,
    "start_time": "2022-04-25T17:30:13.738Z"
   },
   {
    "duration": 29,
    "start_time": "2022-04-25T17:30:15.771Z"
   },
   {
    "duration": 193,
    "start_time": "2022-04-25T17:30:15.802Z"
   },
   {
    "duration": 212,
    "start_time": "2022-04-25T17:30:15.997Z"
   },
   {
    "duration": 29,
    "start_time": "2022-04-25T17:30:16.211Z"
   },
   {
    "duration": 128,
    "start_time": "2022-04-25T17:31:24.862Z"
   },
   {
    "duration": 4,
    "start_time": "2022-04-25T17:31:29.691Z"
   },
   {
    "duration": 153,
    "start_time": "2022-04-25T17:31:39.573Z"
   },
   {
    "duration": 152,
    "start_time": "2022-04-25T17:31:48.592Z"
   },
   {
    "duration": 155,
    "start_time": "2022-04-25T17:32:00.592Z"
   },
   {
    "duration": 150,
    "start_time": "2022-04-25T17:32:59.998Z"
   },
   {
    "duration": 142,
    "start_time": "2022-04-25T17:34:25.193Z"
   },
   {
    "duration": 6,
    "start_time": "2022-04-25T17:35:12.960Z"
   },
   {
    "duration": 2046,
    "start_time": "2022-04-25T17:41:36.727Z"
   },
   {
    "duration": 281,
    "start_time": "2022-04-25T17:42:17.331Z"
   },
   {
    "duration": 279,
    "start_time": "2022-04-25T17:43:13.495Z"
   },
   {
    "duration": 427,
    "start_time": "2022-04-25T17:43:38.837Z"
   },
   {
    "duration": 222,
    "start_time": "2022-04-25T17:55:00.485Z"
   },
   {
    "duration": 20,
    "start_time": "2022-04-25T17:57:13.044Z"
   },
   {
    "duration": 20,
    "start_time": "2022-04-25T17:58:04.074Z"
   },
   {
    "duration": 4,
    "start_time": "2022-04-25T17:59:03.915Z"
   },
   {
    "duration": 21,
    "start_time": "2022-04-25T17:59:03.921Z"
   },
   {
    "duration": 56,
    "start_time": "2022-04-25T17:59:03.944Z"
   },
   {
    "duration": 18,
    "start_time": "2022-04-25T17:59:04.002Z"
   },
   {
    "duration": 29,
    "start_time": "2022-04-25T17:59:04.023Z"
   },
   {
    "duration": 30,
    "start_time": "2022-04-25T17:59:04.054Z"
   },
   {
    "duration": 30,
    "start_time": "2022-04-25T17:59:04.086Z"
   },
   {
    "duration": 4,
    "start_time": "2022-04-25T17:59:04.117Z"
   },
   {
    "duration": 14,
    "start_time": "2022-04-25T17:59:04.122Z"
   },
   {
    "duration": 36,
    "start_time": "2022-04-25T17:59:04.138Z"
   },
   {
    "duration": 10,
    "start_time": "2022-04-25T17:59:04.176Z"
   },
   {
    "duration": 21,
    "start_time": "2022-04-25T17:59:04.188Z"
   },
   {
    "duration": 14,
    "start_time": "2022-04-25T17:59:04.210Z"
   },
   {
    "duration": 8,
    "start_time": "2022-04-25T17:59:04.228Z"
   },
   {
    "duration": 41,
    "start_time": "2022-04-25T17:59:04.238Z"
   },
   {
    "duration": 12,
    "start_time": "2022-04-25T17:59:04.281Z"
   },
   {
    "duration": 16,
    "start_time": "2022-04-25T17:59:04.295Z"
   },
   {
    "duration": 22,
    "start_time": "2022-04-25T17:59:04.314Z"
   },
   {
    "duration": 30,
    "start_time": "2022-04-25T17:59:04.337Z"
   },
   {
    "duration": 23,
    "start_time": "2022-04-25T17:59:04.372Z"
   },
   {
    "duration": 18,
    "start_time": "2022-04-25T17:59:04.397Z"
   },
   {
    "duration": 17,
    "start_time": "2022-04-25T17:59:04.417Z"
   },
   {
    "duration": 11,
    "start_time": "2022-04-25T17:59:04.436Z"
   },
   {
    "duration": 25,
    "start_time": "2022-04-25T17:59:04.449Z"
   },
   {
    "duration": 22,
    "start_time": "2022-04-25T17:59:04.477Z"
   },
   {
    "duration": 27,
    "start_time": "2022-04-25T17:59:04.501Z"
   },
   {
    "duration": 48,
    "start_time": "2022-04-25T17:59:04.530Z"
   },
   {
    "duration": 347,
    "start_time": "2022-04-25T17:59:04.580Z"
   },
   {
    "duration": 1134,
    "start_time": "2022-04-25T17:59:04.930Z"
   },
   {
    "duration": 9,
    "start_time": "2022-04-25T17:59:06.066Z"
   },
   {
    "duration": 227,
    "start_time": "2022-04-25T17:59:06.077Z"
   },
   {
    "duration": 2048,
    "start_time": "2022-04-25T17:59:06.306Z"
   },
   {
    "duration": 34,
    "start_time": "2022-04-25T17:59:08.356Z"
   },
   {
    "duration": 231,
    "start_time": "2022-04-25T17:59:08.392Z"
   },
   {
    "duration": 201,
    "start_time": "2022-04-25T17:59:08.625Z"
   },
   {
    "duration": 348,
    "start_time": "2022-04-25T17:59:08.828Z"
   },
   {
    "duration": 312,
    "start_time": "2022-04-25T17:59:09.179Z"
   },
   {
    "duration": 21,
    "start_time": "2022-04-25T17:59:09.496Z"
   },
   {
    "duration": 16,
    "start_time": "2022-04-25T18:00:56.971Z"
   },
   {
    "duration": 21,
    "start_time": "2022-04-25T18:01:13.594Z"
   },
   {
    "duration": 305,
    "start_time": "2022-04-25T18:03:45.617Z"
   },
   {
    "duration": 321,
    "start_time": "2022-04-25T18:05:02.962Z"
   },
   {
    "duration": 305,
    "start_time": "2022-04-25T18:05:13.896Z"
   },
   {
    "duration": 7,
    "start_time": "2022-04-25T18:19:41.626Z"
   },
   {
    "duration": 1295,
    "start_time": "2022-04-25T18:34:16.773Z"
   },
   {
    "duration": 3,
    "start_time": "2022-04-25T18:34:18.070Z"
   },
   {
    "duration": 57,
    "start_time": "2022-04-25T18:34:18.075Z"
   },
   {
    "duration": 17,
    "start_time": "2022-04-25T18:34:18.134Z"
   },
   {
    "duration": 30,
    "start_time": "2022-04-25T18:34:18.153Z"
   },
   {
    "duration": 19,
    "start_time": "2022-04-25T18:34:18.187Z"
   },
   {
    "duration": 30,
    "start_time": "2022-04-25T18:34:18.208Z"
   },
   {
    "duration": 3,
    "start_time": "2022-04-25T18:34:18.239Z"
   },
   {
    "duration": 40,
    "start_time": "2022-04-25T18:34:18.243Z"
   },
   {
    "duration": 21,
    "start_time": "2022-04-25T18:34:18.285Z"
   },
   {
    "duration": 14,
    "start_time": "2022-04-25T18:34:18.308Z"
   },
   {
    "duration": 18,
    "start_time": "2022-04-25T18:34:18.323Z"
   },
   {
    "duration": 7,
    "start_time": "2022-04-25T18:34:18.342Z"
   },
   {
    "duration": 23,
    "start_time": "2022-04-25T18:34:18.352Z"
   },
   {
    "duration": 21,
    "start_time": "2022-04-25T18:34:18.377Z"
   },
   {
    "duration": 10,
    "start_time": "2022-04-25T18:34:18.399Z"
   },
   {
    "duration": 11,
    "start_time": "2022-04-25T18:34:18.411Z"
   },
   {
    "duration": 11,
    "start_time": "2022-04-25T18:34:18.424Z"
   },
   {
    "duration": 42,
    "start_time": "2022-04-25T18:34:18.437Z"
   },
   {
    "duration": 19,
    "start_time": "2022-04-25T18:34:18.482Z"
   },
   {
    "duration": 18,
    "start_time": "2022-04-25T18:34:18.503Z"
   },
   {
    "duration": 9,
    "start_time": "2022-04-25T18:34:18.522Z"
   },
   {
    "duration": 42,
    "start_time": "2022-04-25T18:34:18.533Z"
   },
   {
    "duration": 14,
    "start_time": "2022-04-25T18:34:18.577Z"
   },
   {
    "duration": 6,
    "start_time": "2022-04-25T18:34:18.593Z"
   },
   {
    "duration": 15,
    "start_time": "2022-04-25T18:34:18.601Z"
   },
   {
    "duration": 216,
    "start_time": "2022-04-25T18:34:18.617Z"
   },
   {
    "duration": 387,
    "start_time": "2022-04-25T18:34:18.835Z"
   },
   {
    "duration": 2323,
    "start_time": "2022-04-25T18:34:19.224Z"
   },
   {
    "duration": 8,
    "start_time": "2022-04-25T18:34:21.549Z"
   },
   {
    "duration": 254,
    "start_time": "2022-04-25T18:34:21.559Z"
   },
   {
    "duration": 2063,
    "start_time": "2022-04-25T18:34:21.815Z"
   },
   {
    "duration": 28,
    "start_time": "2022-04-25T18:34:23.880Z"
   },
   {
    "duration": 207,
    "start_time": "2022-04-25T18:34:23.909Z"
   },
   {
    "duration": 198,
    "start_time": "2022-04-25T18:34:24.117Z"
   },
   {
    "duration": 302,
    "start_time": "2022-04-25T18:34:24.317Z"
   },
   {
    "duration": 259,
    "start_time": "2022-04-25T18:34:24.621Z"
   },
   {
    "duration": 317,
    "start_time": "2022-04-25T18:34:24.882Z"
   },
   {
    "duration": 7,
    "start_time": "2022-04-25T18:34:25.200Z"
   },
   {
    "duration": 154,
    "start_time": "2022-04-25T18:48:33.229Z"
   },
   {
    "duration": 20,
    "start_time": "2022-04-25T18:48:45.530Z"
   },
   {
    "duration": 22,
    "start_time": "2022-04-25T18:49:16.969Z"
   },
   {
    "duration": 152,
    "start_time": "2022-04-25T18:49:42.441Z"
   },
   {
    "duration": 12,
    "start_time": "2022-04-25T18:50:52.300Z"
   },
   {
    "duration": 13,
    "start_time": "2022-04-25T18:53:41.387Z"
   },
   {
    "duration": 16,
    "start_time": "2022-04-25T18:54:15.675Z"
   },
   {
    "duration": 17,
    "start_time": "2022-04-25T18:54:24.351Z"
   },
   {
    "duration": 6,
    "start_time": "2022-04-25T18:54:31.667Z"
   },
   {
    "duration": 31,
    "start_time": "2022-04-25T18:54:31.676Z"
   },
   {
    "duration": 57,
    "start_time": "2022-04-25T18:54:31.709Z"
   },
   {
    "duration": 20,
    "start_time": "2022-04-25T18:54:31.768Z"
   },
   {
    "duration": 25,
    "start_time": "2022-04-25T18:54:31.791Z"
   },
   {
    "duration": 21,
    "start_time": "2022-04-25T18:54:31.818Z"
   },
   {
    "duration": 39,
    "start_time": "2022-04-25T18:54:31.841Z"
   },
   {
    "duration": 4,
    "start_time": "2022-04-25T18:54:31.882Z"
   },
   {
    "duration": 14,
    "start_time": "2022-04-25T18:54:31.888Z"
   },
   {
    "duration": 18,
    "start_time": "2022-04-25T18:54:31.904Z"
   },
   {
    "duration": 13,
    "start_time": "2022-04-25T18:54:31.924Z"
   },
   {
    "duration": 19,
    "start_time": "2022-04-25T18:54:31.939Z"
   },
   {
    "duration": 21,
    "start_time": "2022-04-25T18:54:31.974Z"
   },
   {
    "duration": 11,
    "start_time": "2022-04-25T18:54:31.997Z"
   },
   {
    "duration": 20,
    "start_time": "2022-04-25T18:54:32.010Z"
   },
   {
    "duration": 10,
    "start_time": "2022-04-25T18:54:32.031Z"
   },
   {
    "duration": 12,
    "start_time": "2022-04-25T18:54:32.043Z"
   },
   {
    "duration": 39,
    "start_time": "2022-04-25T18:54:32.057Z"
   },
   {
    "duration": 51,
    "start_time": "2022-04-25T18:54:32.098Z"
   },
   {
    "duration": 17,
    "start_time": "2022-04-25T18:54:32.150Z"
   },
   {
    "duration": 20,
    "start_time": "2022-04-25T18:54:32.169Z"
   },
   {
    "duration": 17,
    "start_time": "2022-04-25T18:54:32.191Z"
   },
   {
    "duration": 11,
    "start_time": "2022-04-25T18:54:32.209Z"
   },
   {
    "duration": 12,
    "start_time": "2022-04-25T18:54:32.221Z"
   },
   {
    "duration": 10,
    "start_time": "2022-04-25T18:54:32.235Z"
   },
   {
    "duration": 41,
    "start_time": "2022-04-25T18:54:32.247Z"
   },
   {
    "duration": 45,
    "start_time": "2022-04-25T18:54:32.289Z"
   },
   {
    "duration": 351,
    "start_time": "2022-04-25T18:54:32.335Z"
   },
   {
    "duration": 1142,
    "start_time": "2022-04-25T18:54:32.690Z"
   },
   {
    "duration": 6,
    "start_time": "2022-04-25T18:54:33.834Z"
   },
   {
    "duration": 221,
    "start_time": "2022-04-25T18:54:33.843Z"
   },
   {
    "duration": 1983,
    "start_time": "2022-04-25T18:54:34.066Z"
   },
   {
    "duration": 40,
    "start_time": "2022-04-25T18:54:36.051Z"
   },
   {
    "duration": 175,
    "start_time": "2022-04-25T18:54:36.093Z"
   },
   {
    "duration": 180,
    "start_time": "2022-04-25T18:54:36.270Z"
   },
   {
    "duration": 291,
    "start_time": "2022-04-25T18:54:36.452Z"
   },
   {
    "duration": 246,
    "start_time": "2022-04-25T18:54:36.747Z"
   },
   {
    "duration": 448,
    "start_time": "2022-04-25T18:54:36.994Z"
   },
   {
    "duration": 6,
    "start_time": "2022-04-25T18:54:37.444Z"
   },
   {
    "duration": 32,
    "start_time": "2022-04-25T18:54:37.452Z"
   },
   {
    "duration": 13,
    "start_time": "2022-04-25T18:54:49.091Z"
   },
   {
    "duration": 22,
    "start_time": "2022-04-25T18:58:26.010Z"
   },
   {
    "duration": 116,
    "start_time": "2022-04-25T18:59:21.926Z"
   },
   {
    "duration": 17,
    "start_time": "2022-04-25T18:59:28.219Z"
   },
   {
    "duration": 16,
    "start_time": "2022-04-25T19:06:14.075Z"
   },
   {
    "duration": 6,
    "start_time": "2022-04-25T19:06:55.159Z"
   },
   {
    "duration": 5,
    "start_time": "2022-04-25T19:06:55.167Z"
   },
   {
    "duration": 68,
    "start_time": "2022-04-25T19:06:55.174Z"
   },
   {
    "duration": 15,
    "start_time": "2022-04-25T19:06:55.244Z"
   },
   {
    "duration": 14,
    "start_time": "2022-04-25T19:06:55.262Z"
   },
   {
    "duration": 17,
    "start_time": "2022-04-25T19:06:55.279Z"
   },
   {
    "duration": 31,
    "start_time": "2022-04-25T19:06:55.298Z"
   },
   {
    "duration": 3,
    "start_time": "2022-04-25T19:06:55.331Z"
   },
   {
    "duration": 38,
    "start_time": "2022-04-25T19:06:55.336Z"
   },
   {
    "duration": 17,
    "start_time": "2022-04-25T19:06:55.376Z"
   },
   {
    "duration": 10,
    "start_time": "2022-04-25T19:06:55.394Z"
   },
   {
    "duration": 17,
    "start_time": "2022-04-25T19:06:55.405Z"
   },
   {
    "duration": 5,
    "start_time": "2022-04-25T19:06:55.424Z"
   },
   {
    "duration": 40,
    "start_time": "2022-04-25T19:06:55.433Z"
   },
   {
    "duration": 17,
    "start_time": "2022-04-25T19:06:55.475Z"
   },
   {
    "duration": 9,
    "start_time": "2022-04-25T19:06:55.494Z"
   },
   {
    "duration": 8,
    "start_time": "2022-04-25T19:06:55.505Z"
   },
   {
    "duration": 6,
    "start_time": "2022-04-25T19:06:55.515Z"
   },
   {
    "duration": 16,
    "start_time": "2022-04-25T19:06:55.523Z"
   },
   {
    "duration": 16,
    "start_time": "2022-04-25T19:06:55.574Z"
   },
   {
    "duration": 16,
    "start_time": "2022-04-25T19:06:55.592Z"
   },
   {
    "duration": 8,
    "start_time": "2022-04-25T19:06:55.609Z"
   },
   {
    "duration": 7,
    "start_time": "2022-04-25T19:06:55.618Z"
   },
   {
    "duration": 9,
    "start_time": "2022-04-25T19:06:55.626Z"
   },
   {
    "duration": 37,
    "start_time": "2022-04-25T19:06:55.636Z"
   },
   {
    "duration": 15,
    "start_time": "2022-04-25T19:06:55.675Z"
   },
   {
    "duration": 30,
    "start_time": "2022-04-25T19:06:55.692Z"
   },
   {
    "duration": 343,
    "start_time": "2022-04-25T19:06:55.723Z"
   },
   {
    "duration": 1432,
    "start_time": "2022-04-25T19:06:56.068Z"
   },
   {
    "duration": 6,
    "start_time": "2022-04-25T19:06:57.502Z"
   },
   {
    "duration": 396,
    "start_time": "2022-04-25T19:06:57.510Z"
   },
   {
    "duration": 2115,
    "start_time": "2022-04-25T19:06:57.908Z"
   },
   {
    "duration": 64,
    "start_time": "2022-04-25T19:07:00.026Z"
   },
   {
    "duration": 196,
    "start_time": "2022-04-25T19:07:00.094Z"
   },
   {
    "duration": 213,
    "start_time": "2022-04-25T19:07:00.292Z"
   },
   {
    "duration": 300,
    "start_time": "2022-04-25T19:07:00.507Z"
   },
   {
    "duration": 242,
    "start_time": "2022-04-25T19:07:00.810Z"
   },
   {
    "duration": 495,
    "start_time": "2022-04-25T19:07:01.054Z"
   },
   {
    "duration": 7,
    "start_time": "2022-04-25T19:07:01.551Z"
   },
   {
    "duration": 43,
    "start_time": "2022-04-25T19:07:01.560Z"
   },
   {
    "duration": 46,
    "start_time": "2022-04-25T19:07:01.607Z"
   },
   {
    "duration": 21,
    "start_time": "2022-04-25T19:08:31.627Z"
   },
   {
    "duration": 1266,
    "start_time": "2022-04-25T19:12:35.920Z"
   },
   {
    "duration": 3,
    "start_time": "2022-04-25T19:12:37.188Z"
   },
   {
    "duration": 42,
    "start_time": "2022-04-25T19:12:37.193Z"
   },
   {
    "duration": 16,
    "start_time": "2022-04-25T19:12:37.238Z"
   },
   {
    "duration": 34,
    "start_time": "2022-04-25T19:12:37.256Z"
   },
   {
    "duration": 18,
    "start_time": "2022-04-25T19:12:37.292Z"
   },
   {
    "duration": 29,
    "start_time": "2022-04-25T19:12:37.312Z"
   },
   {
    "duration": 3,
    "start_time": "2022-04-25T19:12:37.343Z"
   },
   {
    "duration": 36,
    "start_time": "2022-04-25T19:12:37.347Z"
   },
   {
    "duration": 21,
    "start_time": "2022-04-25T19:12:37.391Z"
   },
   {
    "duration": 14,
    "start_time": "2022-04-25T19:12:37.414Z"
   },
   {
    "duration": 27,
    "start_time": "2022-04-25T19:12:37.430Z"
   },
   {
    "duration": 13,
    "start_time": "2022-04-25T19:12:37.459Z"
   },
   {
    "duration": 20,
    "start_time": "2022-04-25T19:12:37.478Z"
   },
   {
    "duration": 18,
    "start_time": "2022-04-25T19:12:37.500Z"
   },
   {
    "duration": 10,
    "start_time": "2022-04-25T19:12:37.520Z"
   },
   {
    "duration": 14,
    "start_time": "2022-04-25T19:12:37.532Z"
   },
   {
    "duration": 9,
    "start_time": "2022-04-25T19:12:37.548Z"
   },
   {
    "duration": 31,
    "start_time": "2022-04-25T19:12:37.559Z"
   },
   {
    "duration": 19,
    "start_time": "2022-04-25T19:12:37.591Z"
   },
   {
    "duration": 16,
    "start_time": "2022-04-25T19:12:37.612Z"
   },
   {
    "duration": 10,
    "start_time": "2022-04-25T19:12:37.630Z"
   },
   {
    "duration": 35,
    "start_time": "2022-04-25T19:12:37.642Z"
   },
   {
    "duration": 22,
    "start_time": "2022-04-25T19:12:37.679Z"
   },
   {
    "duration": 10,
    "start_time": "2022-04-25T19:12:37.703Z"
   },
   {
    "duration": 15,
    "start_time": "2022-04-25T19:12:37.715Z"
   },
   {
    "duration": 201,
    "start_time": "2022-04-25T19:12:37.731Z"
   },
   {
    "duration": 374,
    "start_time": "2022-04-25T19:12:37.937Z"
   },
   {
    "duration": 1229,
    "start_time": "2022-04-25T19:12:38.313Z"
   },
   {
    "duration": 7,
    "start_time": "2022-04-25T19:12:39.543Z"
   },
   {
    "duration": 223,
    "start_time": "2022-04-25T19:12:39.552Z"
   },
   {
    "duration": 2067,
    "start_time": "2022-04-25T19:12:39.779Z"
   },
   {
    "duration": 42,
    "start_time": "2022-04-25T19:12:41.848Z"
   },
   {
    "duration": 184,
    "start_time": "2022-04-25T19:12:41.892Z"
   },
   {
    "duration": 190,
    "start_time": "2022-04-25T19:12:42.078Z"
   },
   {
    "duration": 311,
    "start_time": "2022-04-25T19:12:42.270Z"
   },
   {
    "duration": 256,
    "start_time": "2022-04-25T19:12:42.583Z"
   },
   {
    "duration": 318,
    "start_time": "2022-04-25T19:12:42.840Z"
   },
   {
    "duration": 13,
    "start_time": "2022-04-25T19:12:43.160Z"
   },
   {
    "duration": 29,
    "start_time": "2022-04-25T19:12:43.175Z"
   },
   {
    "duration": 24,
    "start_time": "2022-04-25T19:12:43.207Z"
   },
   {
    "duration": 3,
    "start_time": "2022-04-25T19:24:43.853Z"
   },
   {
    "duration": 138,
    "start_time": "2022-04-25T19:25:54.312Z"
   },
   {
    "duration": 5,
    "start_time": "2022-04-25T19:26:11.032Z"
   },
   {
    "duration": 8,
    "start_time": "2022-04-25T19:26:11.040Z"
   },
   {
    "duration": 51,
    "start_time": "2022-04-25T19:26:11.050Z"
   },
   {
    "duration": 16,
    "start_time": "2022-04-25T19:26:11.104Z"
   },
   {
    "duration": 14,
    "start_time": "2022-04-25T19:26:11.121Z"
   },
   {
    "duration": 39,
    "start_time": "2022-04-25T19:26:11.137Z"
   },
   {
    "duration": 183,
    "start_time": "2022-04-25T19:26:11.181Z"
   },
   {
    "duration": 9,
    "start_time": "2022-04-25T19:26:11.365Z"
   },
   {
    "duration": 16,
    "start_time": "2022-04-25T19:26:11.376Z"
   },
   {
    "duration": 52,
    "start_time": "2022-04-25T19:26:11.396Z"
   },
   {
    "duration": 80,
    "start_time": "2022-04-25T19:26:11.465Z"
   },
   {
    "duration": 26,
    "start_time": "2022-04-25T19:26:11.548Z"
   },
   {
    "duration": 7,
    "start_time": "2022-04-25T19:26:11.576Z"
   },
   {
    "duration": 9,
    "start_time": "2022-04-25T19:26:11.585Z"
   },
   {
    "duration": 21,
    "start_time": "2022-04-25T19:26:11.597Z"
   },
   {
    "duration": 9,
    "start_time": "2022-04-25T19:26:11.620Z"
   },
   {
    "duration": 14,
    "start_time": "2022-04-25T19:26:11.631Z"
   },
   {
    "duration": 32,
    "start_time": "2022-04-25T19:26:11.647Z"
   },
   {
    "duration": 24,
    "start_time": "2022-04-25T19:26:11.681Z"
   },
   {
    "duration": 16,
    "start_time": "2022-04-25T19:26:11.706Z"
   },
   {
    "duration": 22,
    "start_time": "2022-04-25T19:26:11.725Z"
   },
   {
    "duration": 29,
    "start_time": "2022-04-25T19:26:11.749Z"
   },
   {
    "duration": 10,
    "start_time": "2022-04-25T19:26:11.781Z"
   },
   {
    "duration": 10,
    "start_time": "2022-04-25T19:26:11.793Z"
   },
   {
    "duration": 8,
    "start_time": "2022-04-25T19:26:11.806Z"
   },
   {
    "duration": 15,
    "start_time": "2022-04-25T19:26:11.817Z"
   },
   {
    "duration": 65,
    "start_time": "2022-04-25T19:26:11.834Z"
   },
   {
    "duration": 394,
    "start_time": "2022-04-25T19:26:11.904Z"
   },
   {
    "duration": 1099,
    "start_time": "2022-04-25T19:26:12.300Z"
   },
   {
    "duration": 8,
    "start_time": "2022-04-25T19:26:13.401Z"
   },
   {
    "duration": 224,
    "start_time": "2022-04-25T19:26:13.411Z"
   },
   {
    "duration": 1992,
    "start_time": "2022-04-25T19:26:13.637Z"
   },
   {
    "duration": 24,
    "start_time": "2022-04-25T19:26:15.631Z"
   },
   {
    "duration": 189,
    "start_time": "2022-04-25T19:26:15.657Z"
   },
   {
    "duration": 190,
    "start_time": "2022-04-25T19:26:15.848Z"
   },
   {
    "duration": 304,
    "start_time": "2022-04-25T19:26:16.040Z"
   },
   {
    "duration": 256,
    "start_time": "2022-04-25T19:26:16.346Z"
   },
   {
    "duration": 472,
    "start_time": "2022-04-25T19:26:16.603Z"
   },
   {
    "duration": 7,
    "start_time": "2022-04-25T19:26:17.077Z"
   },
   {
    "duration": 5,
    "start_time": "2022-04-25T19:26:17.085Z"
   },
   {
    "duration": 13,
    "start_time": "2022-04-25T19:26:17.092Z"
   },
   {
    "duration": 0,
    "start_time": "2022-04-25T19:26:17.107Z"
   },
   {
    "duration": 0,
    "start_time": "2022-04-25T19:26:17.108Z"
   },
   {
    "duration": 13,
    "start_time": "2022-04-25T19:27:07.317Z"
   },
   {
    "duration": 1287,
    "start_time": "2022-04-25T19:27:14.171Z"
   },
   {
    "duration": 3,
    "start_time": "2022-04-25T19:27:15.460Z"
   },
   {
    "duration": 42,
    "start_time": "2022-04-25T19:27:15.465Z"
   },
   {
    "duration": 16,
    "start_time": "2022-04-25T19:27:15.510Z"
   },
   {
    "duration": 18,
    "start_time": "2022-04-25T19:27:15.529Z"
   },
   {
    "duration": 36,
    "start_time": "2022-04-25T19:27:15.550Z"
   },
   {
    "duration": 31,
    "start_time": "2022-04-25T19:27:15.588Z"
   },
   {
    "duration": 3,
    "start_time": "2022-04-25T19:27:15.621Z"
   },
   {
    "duration": 6,
    "start_time": "2022-04-25T19:27:15.626Z"
   },
   {
    "duration": 45,
    "start_time": "2022-04-25T19:27:15.635Z"
   },
   {
    "duration": 9,
    "start_time": "2022-04-25T19:27:15.682Z"
   },
   {
    "duration": 16,
    "start_time": "2022-04-25T19:27:15.693Z"
   },
   {
    "duration": 9,
    "start_time": "2022-04-25T19:27:15.710Z"
   },
   {
    "duration": 18,
    "start_time": "2022-04-25T19:27:15.721Z"
   },
   {
    "duration": 22,
    "start_time": "2022-04-25T19:27:15.741Z"
   },
   {
    "duration": 10,
    "start_time": "2022-04-25T19:27:15.774Z"
   },
   {
    "duration": 13,
    "start_time": "2022-04-25T19:27:15.786Z"
   },
   {
    "duration": 6,
    "start_time": "2022-04-25T19:27:15.801Z"
   },
   {
    "duration": 17,
    "start_time": "2022-04-25T19:27:15.809Z"
   },
   {
    "duration": 16,
    "start_time": "2022-04-25T19:27:15.828Z"
   },
   {
    "duration": 17,
    "start_time": "2022-04-25T19:27:15.874Z"
   },
   {
    "duration": 14,
    "start_time": "2022-04-25T19:27:15.892Z"
   },
   {
    "duration": 7,
    "start_time": "2022-04-25T19:27:15.908Z"
   },
   {
    "duration": 10,
    "start_time": "2022-04-25T19:27:15.917Z"
   },
   {
    "duration": 7,
    "start_time": "2022-04-25T19:27:15.930Z"
   },
   {
    "duration": 40,
    "start_time": "2022-04-25T19:27:15.939Z"
   },
   {
    "duration": 319,
    "start_time": "2022-04-25T19:27:15.982Z"
   },
   {
    "duration": 710,
    "start_time": "2022-04-25T19:27:16.304Z"
   },
   {
    "duration": 1468,
    "start_time": "2022-04-25T19:27:17.016Z"
   },
   {
    "duration": 7,
    "start_time": "2022-04-25T19:27:18.486Z"
   },
   {
    "duration": 217,
    "start_time": "2022-04-25T19:27:18.494Z"
   },
   {
    "duration": 1930,
    "start_time": "2022-04-25T19:27:18.713Z"
   },
   {
    "duration": 34,
    "start_time": "2022-04-25T19:27:20.645Z"
   },
   {
    "duration": 182,
    "start_time": "2022-04-25T19:27:20.681Z"
   },
   {
    "duration": 195,
    "start_time": "2022-04-25T19:27:20.864Z"
   },
   {
    "duration": 293,
    "start_time": "2022-04-25T19:27:21.061Z"
   },
   {
    "duration": 242,
    "start_time": "2022-04-25T19:27:21.355Z"
   },
   {
    "duration": 305,
    "start_time": "2022-04-25T19:27:21.599Z"
   },
   {
    "duration": 6,
    "start_time": "2022-04-25T19:27:21.906Z"
   },
   {
    "duration": 6,
    "start_time": "2022-04-25T19:27:21.914Z"
   },
   {
    "duration": 153,
    "start_time": "2022-04-25T19:27:21.921Z"
   },
   {
    "duration": 0,
    "start_time": "2022-04-25T19:27:22.076Z"
   },
   {
    "duration": 0,
    "start_time": "2022-04-25T19:27:22.077Z"
   },
   {
    "duration": 4,
    "start_time": "2022-04-25T19:28:06.020Z"
   },
   {
    "duration": 10,
    "start_time": "2022-04-25T19:28:06.389Z"
   },
   {
    "duration": 4,
    "start_time": "2022-04-25T19:28:19.484Z"
   },
   {
    "duration": 222,
    "start_time": "2022-04-25T19:28:50.539Z"
   },
   {
    "duration": 5,
    "start_time": "2022-04-25T19:30:09.782Z"
   },
   {
    "duration": 21,
    "start_time": "2022-04-25T19:36:01.521Z"
   },
   {
    "duration": 20,
    "start_time": "2022-04-25T19:37:07.014Z"
   },
   {
    "duration": 13,
    "start_time": "2022-04-25T19:37:25.872Z"
   },
   {
    "duration": 16,
    "start_time": "2022-04-25T19:37:49.801Z"
   },
   {
    "duration": 15,
    "start_time": "2022-04-25T19:38:06.083Z"
   },
   {
    "duration": 1280,
    "start_time": "2022-04-25T19:39:13.120Z"
   },
   {
    "duration": 3,
    "start_time": "2022-04-25T19:39:14.402Z"
   },
   {
    "duration": 57,
    "start_time": "2022-04-25T19:39:14.406Z"
   },
   {
    "duration": 20,
    "start_time": "2022-04-25T19:39:14.464Z"
   },
   {
    "duration": 21,
    "start_time": "2022-04-25T19:39:14.487Z"
   },
   {
    "duration": 17,
    "start_time": "2022-04-25T19:39:14.511Z"
   },
   {
    "duration": 32,
    "start_time": "2022-04-25T19:39:14.530Z"
   },
   {
    "duration": 4,
    "start_time": "2022-04-25T19:39:14.572Z"
   },
   {
    "duration": 14,
    "start_time": "2022-04-25T19:39:14.578Z"
   },
   {
    "duration": 20,
    "start_time": "2022-04-25T19:39:14.594Z"
   },
   {
    "duration": 11,
    "start_time": "2022-04-25T19:39:14.616Z"
   },
   {
    "duration": 16,
    "start_time": "2022-04-25T19:39:14.628Z"
   },
   {
    "duration": 6,
    "start_time": "2022-04-25T19:39:14.645Z"
   },
   {
    "duration": 8,
    "start_time": "2022-04-25T19:39:14.672Z"
   },
   {
    "duration": 21,
    "start_time": "2022-04-25T19:39:14.683Z"
   },
   {
    "duration": 10,
    "start_time": "2022-04-25T19:39:14.706Z"
   },
   {
    "duration": 27,
    "start_time": "2022-04-25T19:39:14.718Z"
   },
   {
    "duration": 7,
    "start_time": "2022-04-25T19:39:14.746Z"
   },
   {
    "duration": 31,
    "start_time": "2022-04-25T19:39:14.755Z"
   },
   {
    "duration": 17,
    "start_time": "2022-04-25T19:39:14.788Z"
   },
   {
    "duration": 22,
    "start_time": "2022-04-25T19:39:14.807Z"
   },
   {
    "duration": 10,
    "start_time": "2022-04-25T19:39:14.831Z"
   },
   {
    "duration": 33,
    "start_time": "2022-04-25T19:39:14.844Z"
   },
   {
    "duration": 9,
    "start_time": "2022-04-25T19:39:14.879Z"
   },
   {
    "duration": 6,
    "start_time": "2022-04-25T19:39:14.890Z"
   },
   {
    "duration": 15,
    "start_time": "2022-04-25T19:39:14.898Z"
   },
   {
    "duration": 287,
    "start_time": "2022-04-25T19:39:14.916Z"
   },
   {
    "duration": 787,
    "start_time": "2022-04-25T19:39:15.205Z"
   },
   {
    "duration": 1594,
    "start_time": "2022-04-25T19:39:15.994Z"
   },
   {
    "duration": 8,
    "start_time": "2022-04-25T19:39:17.590Z"
   },
   {
    "duration": 204,
    "start_time": "2022-04-25T19:39:17.600Z"
   },
   {
    "duration": 1936,
    "start_time": "2022-04-25T19:39:17.806Z"
   },
   {
    "duration": 35,
    "start_time": "2022-04-25T19:39:19.744Z"
   },
   {
    "duration": 180,
    "start_time": "2022-04-25T19:39:19.780Z"
   },
   {
    "duration": 184,
    "start_time": "2022-04-25T19:39:19.962Z"
   },
   {
    "duration": 286,
    "start_time": "2022-04-25T19:39:20.147Z"
   },
   {
    "duration": 221,
    "start_time": "2022-04-25T19:39:20.435Z"
   },
   {
    "duration": 314,
    "start_time": "2022-04-25T19:39:20.657Z"
   },
   {
    "duration": 7,
    "start_time": "2022-04-25T19:39:20.974Z"
   },
   {
    "duration": 170,
    "start_time": "2022-04-25T19:39:20.984Z"
   },
   {
    "duration": 0,
    "start_time": "2022-04-25T19:39:21.156Z"
   },
   {
    "duration": 0,
    "start_time": "2022-04-25T19:39:21.158Z"
   },
   {
    "duration": 1917,
    "start_time": "2022-04-25T19:40:14.485Z"
   },
   {
    "duration": 3,
    "start_time": "2022-04-25T19:40:16.404Z"
   },
   {
    "duration": 79,
    "start_time": "2022-04-25T19:40:16.409Z"
   },
   {
    "duration": 17,
    "start_time": "2022-04-25T19:40:16.490Z"
   },
   {
    "duration": 77,
    "start_time": "2022-04-25T19:40:16.508Z"
   },
   {
    "duration": 18,
    "start_time": "2022-04-25T19:40:16.586Z"
   },
   {
    "duration": 30,
    "start_time": "2022-04-25T19:40:16.606Z"
   },
   {
    "duration": 37,
    "start_time": "2022-04-25T19:40:16.637Z"
   },
   {
    "duration": 9,
    "start_time": "2022-04-25T19:40:16.676Z"
   },
   {
    "duration": 15,
    "start_time": "2022-04-25T19:40:16.687Z"
   },
   {
    "duration": 8,
    "start_time": "2022-04-25T19:40:16.704Z"
   },
   {
    "duration": 15,
    "start_time": "2022-04-25T19:40:16.714Z"
   },
   {
    "duration": 9,
    "start_time": "2022-04-25T19:40:16.731Z"
   },
   {
    "duration": 8,
    "start_time": "2022-04-25T19:40:16.774Z"
   },
   {
    "duration": 17,
    "start_time": "2022-04-25T19:40:16.783Z"
   },
   {
    "duration": 9,
    "start_time": "2022-04-25T19:40:16.801Z"
   },
   {
    "duration": 13,
    "start_time": "2022-04-25T19:40:16.811Z"
   },
   {
    "duration": 9,
    "start_time": "2022-04-25T19:40:16.825Z"
   },
   {
    "duration": 40,
    "start_time": "2022-04-25T19:40:16.836Z"
   },
   {
    "duration": 17,
    "start_time": "2022-04-25T19:40:16.878Z"
   },
   {
    "duration": 18,
    "start_time": "2022-04-25T19:40:16.897Z"
   },
   {
    "duration": 8,
    "start_time": "2022-04-25T19:40:16.917Z"
   },
   {
    "duration": 9,
    "start_time": "2022-04-25T19:40:16.926Z"
   },
   {
    "duration": 12,
    "start_time": "2022-04-25T19:40:16.972Z"
   },
   {
    "duration": 9,
    "start_time": "2022-04-25T19:40:16.986Z"
   },
   {
    "duration": 16,
    "start_time": "2022-04-25T19:40:16.997Z"
   },
   {
    "duration": 212,
    "start_time": "2022-04-25T19:40:17.015Z"
   },
   {
    "duration": 344,
    "start_time": "2022-04-25T19:40:17.231Z"
   },
   {
    "duration": 1155,
    "start_time": "2022-04-25T19:40:17.577Z"
   },
   {
    "duration": 7,
    "start_time": "2022-04-25T19:40:18.734Z"
   },
   {
    "duration": 214,
    "start_time": "2022-04-25T19:40:18.742Z"
   },
   {
    "duration": 1918,
    "start_time": "2022-04-25T19:40:18.958Z"
   },
   {
    "duration": 25,
    "start_time": "2022-04-25T19:40:20.878Z"
   },
   {
    "duration": 195,
    "start_time": "2022-04-25T19:40:20.905Z"
   },
   {
    "duration": 181,
    "start_time": "2022-04-25T19:40:21.102Z"
   },
   {
    "duration": 290,
    "start_time": "2022-04-25T19:40:21.285Z"
   },
   {
    "duration": 233,
    "start_time": "2022-04-25T19:40:21.577Z"
   },
   {
    "duration": 303,
    "start_time": "2022-04-25T19:40:21.812Z"
   },
   {
    "duration": 6,
    "start_time": "2022-04-25T19:40:22.117Z"
   },
   {
    "duration": 150,
    "start_time": "2022-04-25T19:40:22.124Z"
   },
   {
    "duration": 0,
    "start_time": "2022-04-25T19:40:22.276Z"
   },
   {
    "duration": 1,
    "start_time": "2022-04-25T19:40:22.277Z"
   },
   {
    "duration": 13,
    "start_time": "2022-04-25T19:41:07.500Z"
   },
   {
    "duration": 250,
    "start_time": "2022-04-25T19:42:31.171Z"
   },
   {
    "duration": 111,
    "start_time": "2022-04-25T19:43:03.986Z"
   },
   {
    "duration": 108,
    "start_time": "2022-04-25T19:43:34.262Z"
   },
   {
    "duration": 109,
    "start_time": "2022-04-25T19:45:00.127Z"
   },
   {
    "duration": 118,
    "start_time": "2022-04-25T19:46:08.079Z"
   },
   {
    "duration": 76,
    "start_time": "2022-04-25T19:46:19.224Z"
   },
   {
    "duration": 129,
    "start_time": "2022-04-25T19:47:02.785Z"
   },
   {
    "duration": 105,
    "start_time": "2022-04-25T19:47:17.240Z"
   },
   {
    "duration": 164,
    "start_time": "2022-04-25T19:47:51.093Z"
   },
   {
    "duration": 113,
    "start_time": "2022-04-25T19:48:07.165Z"
   },
   {
    "duration": 260,
    "start_time": "2022-04-25T19:49:09.910Z"
   },
   {
    "duration": 249,
    "start_time": "2022-04-25T19:49:42.984Z"
   },
   {
    "duration": 243,
    "start_time": "2022-04-25T19:49:55.786Z"
   },
   {
    "duration": 389,
    "start_time": "2022-04-25T19:50:21.462Z"
   },
   {
    "duration": 249,
    "start_time": "2022-04-25T19:51:04.004Z"
   },
   {
    "duration": 236,
    "start_time": "2022-04-25T19:51:26.980Z"
   },
   {
    "duration": 279,
    "start_time": "2022-04-25T19:53:01.314Z"
   },
   {
    "duration": 268,
    "start_time": "2022-04-25T19:53:13.641Z"
   },
   {
    "duration": 2199,
    "start_time": "2022-04-26T14:50:46.401Z"
   },
   {
    "duration": 4,
    "start_time": "2022-04-26T14:50:48.603Z"
   },
   {
    "duration": 79,
    "start_time": "2022-04-26T14:50:48.609Z"
   },
   {
    "duration": 22,
    "start_time": "2022-04-26T14:50:48.692Z"
   },
   {
    "duration": 47,
    "start_time": "2022-04-26T14:50:48.716Z"
   },
   {
    "duration": 37,
    "start_time": "2022-04-26T14:50:48.767Z"
   },
   {
    "duration": 49,
    "start_time": "2022-04-26T14:50:48.806Z"
   },
   {
    "duration": 5,
    "start_time": "2022-04-26T14:50:48.858Z"
   },
   {
    "duration": 25,
    "start_time": "2022-04-26T14:50:48.866Z"
   },
   {
    "duration": 35,
    "start_time": "2022-04-26T14:50:48.895Z"
   },
   {
    "duration": 57,
    "start_time": "2022-04-26T14:50:48.933Z"
   },
   {
    "duration": 23,
    "start_time": "2022-04-26T14:50:48.992Z"
   },
   {
    "duration": 21,
    "start_time": "2022-04-26T14:50:49.018Z"
   },
   {
    "duration": 46,
    "start_time": "2022-04-26T14:50:49.044Z"
   },
   {
    "duration": 23,
    "start_time": "2022-04-26T14:50:49.093Z"
   },
   {
    "duration": 27,
    "start_time": "2022-04-26T14:50:49.118Z"
   },
   {
    "duration": 46,
    "start_time": "2022-04-26T14:50:49.148Z"
   },
   {
    "duration": 14,
    "start_time": "2022-04-26T14:50:49.196Z"
   },
   {
    "duration": 44,
    "start_time": "2022-04-26T14:50:49.212Z"
   },
   {
    "duration": 36,
    "start_time": "2022-04-26T14:50:49.258Z"
   },
   {
    "duration": 23,
    "start_time": "2022-04-26T14:50:49.296Z"
   },
   {
    "duration": 63,
    "start_time": "2022-04-26T14:50:49.321Z"
   },
   {
    "duration": 15,
    "start_time": "2022-04-26T14:50:49.387Z"
   },
   {
    "duration": 9,
    "start_time": "2022-04-26T14:50:49.404Z"
   },
   {
    "duration": 8,
    "start_time": "2022-04-26T14:50:49.415Z"
   },
   {
    "duration": 54,
    "start_time": "2022-04-26T14:50:49.437Z"
   },
   {
    "duration": 374,
    "start_time": "2022-04-26T14:50:49.493Z"
   },
   {
    "duration": 929,
    "start_time": "2022-04-26T14:50:49.876Z"
   },
   {
    "duration": 2044,
    "start_time": "2022-04-26T14:50:50.808Z"
   },
   {
    "duration": 15,
    "start_time": "2022-04-26T14:50:52.862Z"
   },
   {
    "duration": 381,
    "start_time": "2022-04-26T14:50:52.881Z"
   },
   {
    "duration": 3458,
    "start_time": "2022-04-26T14:50:53.265Z"
   },
   {
    "duration": 53,
    "start_time": "2022-04-26T14:50:56.729Z"
   },
   {
    "duration": 334,
    "start_time": "2022-04-26T14:50:56.785Z"
   },
   {
    "duration": 335,
    "start_time": "2022-04-26T14:50:57.124Z"
   },
   {
    "duration": 507,
    "start_time": "2022-04-26T14:50:57.462Z"
   },
   {
    "duration": 406,
    "start_time": "2022-04-26T14:50:57.972Z"
   },
   {
    "duration": 880,
    "start_time": "2022-04-26T14:50:58.384Z"
   },
   {
    "duration": 11,
    "start_time": "2022-04-26T14:50:59.267Z"
   },
   {
    "duration": 17,
    "start_time": "2022-04-26T14:50:59.281Z"
   },
   {
    "duration": 300,
    "start_time": "2022-04-26T14:50:59.301Z"
   },
   {
    "duration": 0,
    "start_time": "2022-04-26T14:50:59.604Z"
   },
   {
    "duration": 0,
    "start_time": "2022-04-26T14:50:59.607Z"
   },
   {
    "duration": 14,
    "start_time": "2022-04-26T14:53:03.922Z"
   },
   {
    "duration": 732,
    "start_time": "2022-04-26T14:53:06.588Z"
   },
   {
    "duration": 6,
    "start_time": "2022-04-26T14:54:51.610Z"
   },
   {
    "duration": 726,
    "start_time": "2022-04-26T14:54:53.265Z"
   },
   {
    "duration": 11,
    "start_time": "2022-04-26T14:56:40.346Z"
   },
   {
    "duration": 486,
    "start_time": "2022-04-26T14:56:41.568Z"
   },
   {
    "duration": 8,
    "start_time": "2022-04-26T14:56:54.095Z"
   },
   {
    "duration": 619,
    "start_time": "2022-04-26T14:56:56.397Z"
   },
   {
    "duration": 16,
    "start_time": "2022-04-26T15:00:10.336Z"
   },
   {
    "duration": 636,
    "start_time": "2022-04-26T15:00:11.771Z"
   },
   {
    "duration": 763,
    "start_time": "2022-04-26T15:20:58.803Z"
   },
   {
    "duration": 611,
    "start_time": "2022-04-26T15:21:00.709Z"
   },
   {
    "duration": 7,
    "start_time": "2022-04-26T15:24:30.085Z"
   },
   {
    "duration": 553,
    "start_time": "2022-04-26T15:24:30.498Z"
   },
   {
    "duration": 17,
    "start_time": "2022-04-26T15:24:41.949Z"
   },
   {
    "duration": 1111,
    "start_time": "2022-04-26T15:24:51.049Z"
   },
   {
    "duration": 8,
    "start_time": "2022-04-26T15:25:07.713Z"
   },
   {
    "duration": 631,
    "start_time": "2022-04-26T15:25:09.160Z"
   },
   {
    "duration": 615,
    "start_time": "2022-04-26T15:25:13.549Z"
   },
   {
    "duration": 775,
    "start_time": "2022-04-26T15:25:14.607Z"
   },
   {
    "duration": 1951,
    "start_time": "2022-04-26T16:40:11.951Z"
   },
   {
    "duration": 3,
    "start_time": "2022-04-26T16:40:13.905Z"
   },
   {
    "duration": 85,
    "start_time": "2022-04-26T16:40:13.910Z"
   },
   {
    "duration": 22,
    "start_time": "2022-04-26T16:40:13.997Z"
   },
   {
    "duration": 62,
    "start_time": "2022-04-26T16:40:14.022Z"
   },
   {
    "duration": 23,
    "start_time": "2022-04-26T16:40:14.086Z"
   },
   {
    "duration": 56,
    "start_time": "2022-04-26T16:40:14.111Z"
   },
   {
    "duration": 6,
    "start_time": "2022-04-26T16:40:14.169Z"
   },
   {
    "duration": 9,
    "start_time": "2022-04-26T16:40:14.177Z"
   },
   {
    "duration": 54,
    "start_time": "2022-04-26T16:40:14.190Z"
   },
   {
    "duration": 21,
    "start_time": "2022-04-26T16:40:14.249Z"
   },
   {
    "duration": 22,
    "start_time": "2022-04-26T16:40:14.272Z"
   },
   {
    "duration": 8,
    "start_time": "2022-04-26T16:40:14.296Z"
   },
   {
    "duration": 23,
    "start_time": "2022-04-26T16:40:14.306Z"
   },
   {
    "duration": 34,
    "start_time": "2022-04-26T16:40:14.337Z"
   },
   {
    "duration": 11,
    "start_time": "2022-04-26T16:40:14.374Z"
   },
   {
    "duration": 14,
    "start_time": "2022-04-26T16:40:14.388Z"
   },
   {
    "duration": 17,
    "start_time": "2022-04-26T16:40:14.424Z"
   },
   {
    "duration": 44,
    "start_time": "2022-04-26T16:40:14.443Z"
   },
   {
    "duration": 29,
    "start_time": "2022-04-26T16:40:14.490Z"
   },
   {
    "duration": 37,
    "start_time": "2022-04-26T16:40:14.522Z"
   },
   {
    "duration": 10,
    "start_time": "2022-04-26T16:40:14.562Z"
   },
   {
    "duration": 13,
    "start_time": "2022-04-26T16:40:14.574Z"
   },
   {
    "duration": 51,
    "start_time": "2022-04-26T16:40:14.590Z"
   },
   {
    "duration": 17,
    "start_time": "2022-04-26T16:40:14.648Z"
   },
   {
    "duration": 20,
    "start_time": "2022-04-26T16:40:14.667Z"
   },
   {
    "duration": 311,
    "start_time": "2022-04-26T16:40:14.690Z"
   },
   {
    "duration": 586,
    "start_time": "2022-04-26T16:40:15.007Z"
   },
   {
    "duration": 1978,
    "start_time": "2022-04-26T16:40:15.595Z"
   },
   {
    "duration": 11,
    "start_time": "2022-04-26T16:40:17.575Z"
   },
   {
    "duration": 457,
    "start_time": "2022-04-26T16:40:17.589Z"
   },
   {
    "duration": 3419,
    "start_time": "2022-04-26T16:40:18.055Z"
   },
   {
    "duration": 56,
    "start_time": "2022-04-26T16:40:21.476Z"
   },
   {
    "duration": 308,
    "start_time": "2022-04-26T16:40:21.535Z"
   },
   {
    "duration": 324,
    "start_time": "2022-04-26T16:40:21.845Z"
   },
   {
    "duration": 479,
    "start_time": "2022-04-26T16:40:22.171Z"
   },
   {
    "duration": 390,
    "start_time": "2022-04-26T16:40:22.657Z"
   },
   {
    "duration": 524,
    "start_time": "2022-04-26T16:40:23.050Z"
   },
   {
    "duration": 8,
    "start_time": "2022-04-26T16:40:23.576Z"
   },
   {
    "duration": 13,
    "start_time": "2022-04-26T16:40:23.587Z"
   },
   {
    "duration": 760,
    "start_time": "2022-04-26T16:40:23.602Z"
   },
   {
    "duration": 620,
    "start_time": "2022-04-26T16:40:24.365Z"
   },
   {
    "duration": 612,
    "start_time": "2022-04-26T16:40:24.988Z"
   },
   {
    "duration": 33,
    "start_time": "2022-04-26T16:40:25.603Z"
   },
   {
    "duration": 25,
    "start_time": "2022-04-26T16:40:25.643Z"
   },
   {
    "duration": 446,
    "start_time": "2022-04-26T16:47:51.710Z"
   },
   {
    "duration": 449,
    "start_time": "2022-04-26T16:48:10.758Z"
   },
   {
    "duration": 430,
    "start_time": "2022-04-26T16:48:26.357Z"
   },
   {
    "duration": 1666,
    "start_time": "2022-04-26T16:48:43.358Z"
   },
   {
    "duration": 4,
    "start_time": "2022-04-26T16:48:45.027Z"
   },
   {
    "duration": 105,
    "start_time": "2022-04-26T16:48:45.036Z"
   },
   {
    "duration": 27,
    "start_time": "2022-04-26T16:48:45.143Z"
   },
   {
    "duration": 28,
    "start_time": "2022-04-26T16:48:45.173Z"
   },
   {
    "duration": 55,
    "start_time": "2022-04-26T16:48:45.203Z"
   },
   {
    "duration": 39,
    "start_time": "2022-04-26T16:48:45.261Z"
   },
   {
    "duration": 4,
    "start_time": "2022-04-26T16:48:45.302Z"
   },
   {
    "duration": 13,
    "start_time": "2022-04-26T16:48:45.328Z"
   },
   {
    "duration": 40,
    "start_time": "2022-04-26T16:48:45.346Z"
   },
   {
    "duration": 12,
    "start_time": "2022-04-26T16:48:45.389Z"
   },
   {
    "duration": 36,
    "start_time": "2022-04-26T16:48:45.404Z"
   },
   {
    "duration": 21,
    "start_time": "2022-04-26T16:48:45.443Z"
   },
   {
    "duration": 12,
    "start_time": "2022-04-26T16:48:45.469Z"
   },
   {
    "duration": 23,
    "start_time": "2022-04-26T16:48:45.483Z"
   },
   {
    "duration": 36,
    "start_time": "2022-04-26T16:48:45.508Z"
   },
   {
    "duration": 24,
    "start_time": "2022-04-26T16:48:45.547Z"
   },
   {
    "duration": 18,
    "start_time": "2022-04-26T16:48:45.574Z"
   },
   {
    "duration": 24,
    "start_time": "2022-04-26T16:48:45.595Z"
   },
   {
    "duration": 33,
    "start_time": "2022-04-26T16:48:45.624Z"
   },
   {
    "duration": 36,
    "start_time": "2022-04-26T16:48:45.661Z"
   },
   {
    "duration": 36,
    "start_time": "2022-04-26T16:48:45.700Z"
   },
   {
    "duration": 27,
    "start_time": "2022-04-26T16:48:45.738Z"
   },
   {
    "duration": 14,
    "start_time": "2022-04-26T16:48:45.767Z"
   },
   {
    "duration": 13,
    "start_time": "2022-04-26T16:48:45.783Z"
   },
   {
    "duration": 31,
    "start_time": "2022-04-26T16:48:45.799Z"
   },
   {
    "duration": 713,
    "start_time": "2022-04-26T16:48:45.832Z"
   },
   {
    "duration": 1377,
    "start_time": "2022-04-26T16:48:46.550Z"
   },
   {
    "duration": 2634,
    "start_time": "2022-04-26T16:48:47.929Z"
   },
   {
    "duration": 8,
    "start_time": "2022-04-26T16:48:50.566Z"
   },
   {
    "duration": 362,
    "start_time": "2022-04-26T16:48:50.577Z"
   },
   {
    "duration": 3046,
    "start_time": "2022-04-26T16:48:50.941Z"
   },
   {
    "duration": 55,
    "start_time": "2022-04-26T16:48:53.990Z"
   },
   {
    "duration": 309,
    "start_time": "2022-04-26T16:48:54.048Z"
   },
   {
    "duration": 321,
    "start_time": "2022-04-26T16:48:54.360Z"
   },
   {
    "duration": 474,
    "start_time": "2022-04-26T16:48:54.684Z"
   },
   {
    "duration": 436,
    "start_time": "2022-04-26T16:48:55.166Z"
   },
   {
    "duration": 477,
    "start_time": "2022-04-26T16:48:55.605Z"
   },
   {
    "duration": 399,
    "start_time": "2022-04-26T16:48:56.084Z"
   },
   {
    "duration": 665,
    "start_time": "2022-04-26T16:48:56.485Z"
   },
   {
    "duration": 9,
    "start_time": "2022-04-26T16:48:57.157Z"
   },
   {
    "duration": 34,
    "start_time": "2022-04-26T16:48:57.168Z"
   },
   {
    "duration": 612,
    "start_time": "2022-04-26T16:48:57.206Z"
   },
   {
    "duration": 595,
    "start_time": "2022-04-26T16:48:57.827Z"
   },
   {
    "duration": 772,
    "start_time": "2022-04-26T16:48:58.425Z"
   },
   {
    "duration": 42,
    "start_time": "2022-04-26T16:48:59.200Z"
   },
   {
    "duration": 30,
    "start_time": "2022-04-26T16:48:59.245Z"
   },
   {
    "duration": 1727,
    "start_time": "2022-05-01T20:20:47.834Z"
   },
   {
    "duration": 3,
    "start_time": "2022-05-01T20:20:49.564Z"
   },
   {
    "duration": 53,
    "start_time": "2022-05-01T20:20:49.569Z"
   },
   {
    "duration": 29,
    "start_time": "2022-05-01T20:20:49.625Z"
   },
   {
    "duration": 27,
    "start_time": "2022-05-01T20:20:49.656Z"
   },
   {
    "duration": 23,
    "start_time": "2022-05-01T20:20:49.685Z"
   },
   {
    "duration": 71,
    "start_time": "2022-05-01T20:20:49.711Z"
   },
   {
    "duration": 4,
    "start_time": "2022-05-01T20:20:49.785Z"
   },
   {
    "duration": 9,
    "start_time": "2022-05-01T20:20:49.791Z"
   },
   {
    "duration": 24,
    "start_time": "2022-05-01T20:20:49.804Z"
   },
   {
    "duration": 11,
    "start_time": "2022-05-01T20:20:49.852Z"
   },
   {
    "duration": 35,
    "start_time": "2022-05-01T20:20:49.865Z"
   },
   {
    "duration": 14,
    "start_time": "2022-05-01T20:20:49.903Z"
   },
   {
    "duration": 13,
    "start_time": "2022-05-01T20:20:49.920Z"
   },
   {
    "duration": 38,
    "start_time": "2022-05-01T20:20:49.935Z"
   },
   {
    "duration": 12,
    "start_time": "2022-05-01T20:20:49.975Z"
   },
   {
    "duration": 15,
    "start_time": "2022-05-01T20:20:49.988Z"
   },
   {
    "duration": 13,
    "start_time": "2022-05-01T20:20:50.005Z"
   },
   {
    "duration": 23,
    "start_time": "2022-05-01T20:20:50.052Z"
   },
   {
    "duration": 24,
    "start_time": "2022-05-01T20:20:50.077Z"
   },
   {
    "duration": 54,
    "start_time": "2022-05-01T20:20:50.103Z"
   },
   {
    "duration": 9,
    "start_time": "2022-05-01T20:20:50.159Z"
   },
   {
    "duration": 11,
    "start_time": "2022-05-01T20:20:50.171Z"
   },
   {
    "duration": 9,
    "start_time": "2022-05-01T20:20:50.184Z"
   },
   {
    "duration": 14,
    "start_time": "2022-05-01T20:20:50.195Z"
   },
   {
    "duration": 56,
    "start_time": "2022-05-01T20:20:50.211Z"
   },
   {
    "duration": 278,
    "start_time": "2022-05-01T20:20:50.269Z"
   },
   {
    "duration": 548,
    "start_time": "2022-05-01T20:20:50.555Z"
   },
   {
    "duration": 1697,
    "start_time": "2022-05-01T20:20:51.106Z"
   },
   {
    "duration": 8,
    "start_time": "2022-05-01T20:20:52.805Z"
   },
   {
    "duration": 344,
    "start_time": "2022-05-01T20:20:52.816Z"
   },
   {
    "duration": 3022,
    "start_time": "2022-05-01T20:20:53.163Z"
   },
   {
    "duration": 37,
    "start_time": "2022-05-01T20:20:56.188Z"
   },
   {
    "duration": 304,
    "start_time": "2022-05-01T20:20:56.228Z"
   },
   {
    "duration": 302,
    "start_time": "2022-05-01T20:20:56.534Z"
   },
   {
    "duration": 447,
    "start_time": "2022-05-01T20:20:56.838Z"
   },
   {
    "duration": 401,
    "start_time": "2022-05-01T20:20:57.288Z"
   },
   {
    "duration": 432,
    "start_time": "2022-05-01T20:20:57.691Z"
   },
   {
    "duration": 379,
    "start_time": "2022-05-01T20:20:58.126Z"
   },
   {
    "duration": 690,
    "start_time": "2022-05-01T20:20:58.507Z"
   },
   {
    "duration": 7,
    "start_time": "2022-05-01T20:20:59.199Z"
   },
   {
    "duration": 7,
    "start_time": "2022-05-01T20:20:59.208Z"
   },
   {
    "duration": 652,
    "start_time": "2022-05-01T20:20:59.217Z"
   },
   {
    "duration": 743,
    "start_time": "2022-05-01T20:20:59.871Z"
   },
   {
    "duration": 576,
    "start_time": "2022-05-01T20:21:00.616Z"
   },
   {
    "duration": 22,
    "start_time": "2022-05-01T20:21:01.194Z"
   },
   {
    "duration": 48,
    "start_time": "2022-05-01T20:21:01.218Z"
   },
   {
    "duration": 136,
    "start_time": "2022-05-02T08:32:16.944Z"
   },
   {
    "duration": 2100,
    "start_time": "2022-05-02T21:27:43.862Z"
   },
   {
    "duration": 4,
    "start_time": "2022-05-02T21:27:45.966Z"
   },
   {
    "duration": 61,
    "start_time": "2022-05-02T21:27:45.972Z"
   },
   {
    "duration": 23,
    "start_time": "2022-05-02T21:27:46.036Z"
   },
   {
    "duration": 27,
    "start_time": "2022-05-02T21:27:46.064Z"
   },
   {
    "duration": 52,
    "start_time": "2022-05-02T21:27:46.093Z"
   },
   {
    "duration": 80,
    "start_time": "2022-05-02T21:27:46.148Z"
   },
   {
    "duration": 5,
    "start_time": "2022-05-02T21:27:46.231Z"
   },
   {
    "duration": 16,
    "start_time": "2022-05-02T21:27:46.238Z"
   },
   {
    "duration": 25,
    "start_time": "2022-05-02T21:27:46.257Z"
   },
   {
    "duration": 45,
    "start_time": "2022-05-02T21:27:46.284Z"
   },
   {
    "duration": 22,
    "start_time": "2022-05-02T21:27:46.331Z"
   },
   {
    "duration": 14,
    "start_time": "2022-05-02T21:27:46.356Z"
   },
   {
    "duration": 9,
    "start_time": "2022-05-02T21:27:46.375Z"
   },
   {
    "duration": 56,
    "start_time": "2022-05-02T21:27:46.387Z"
   },
   {
    "duration": 12,
    "start_time": "2022-05-02T21:27:46.445Z"
   },
   {
    "duration": 20,
    "start_time": "2022-05-02T21:27:46.459Z"
   },
   {
    "duration": 14,
    "start_time": "2022-05-02T21:27:46.481Z"
   },
   {
    "duration": 49,
    "start_time": "2022-05-02T21:27:46.497Z"
   },
   {
    "duration": 24,
    "start_time": "2022-05-02T21:27:46.549Z"
   },
   {
    "duration": 65,
    "start_time": "2022-05-02T21:27:46.576Z"
   },
   {
    "duration": 12,
    "start_time": "2022-05-02T21:27:46.643Z"
   },
   {
    "duration": 15,
    "start_time": "2022-05-02T21:27:46.658Z"
   },
   {
    "duration": 13,
    "start_time": "2022-05-02T21:27:46.676Z"
   },
   {
    "duration": 38,
    "start_time": "2022-05-02T21:27:46.692Z"
   },
   {
    "duration": 34,
    "start_time": "2022-05-02T21:27:46.734Z"
   },
   {
    "duration": 479,
    "start_time": "2022-05-02T21:27:46.771Z"
   },
   {
    "duration": 663,
    "start_time": "2022-05-02T21:27:47.253Z"
   },
   {
    "duration": 1961,
    "start_time": "2022-05-02T21:27:47.925Z"
   },
   {
    "duration": 10,
    "start_time": "2022-05-02T21:27:49.888Z"
   },
   {
    "duration": 358,
    "start_time": "2022-05-02T21:27:49.901Z"
   },
   {
    "duration": 3909,
    "start_time": "2022-05-02T21:27:50.262Z"
   },
   {
    "duration": 68,
    "start_time": "2022-05-02T21:27:54.174Z"
   },
   {
    "duration": 433,
    "start_time": "2022-05-02T21:27:54.244Z"
   },
   {
    "duration": 449,
    "start_time": "2022-05-02T21:27:54.680Z"
   },
   {
    "duration": 667,
    "start_time": "2022-05-02T21:27:55.132Z"
   },
   {
    "duration": 440,
    "start_time": "2022-05-02T21:27:55.802Z"
   },
   {
    "duration": 541,
    "start_time": "2022-05-02T21:27:56.244Z"
   },
   {
    "duration": 391,
    "start_time": "2022-05-02T21:27:56.787Z"
   },
   {
    "duration": 631,
    "start_time": "2022-05-02T21:27:57.182Z"
   },
   {
    "duration": 10,
    "start_time": "2022-05-02T21:27:57.825Z"
   },
   {
    "duration": 7,
    "start_time": "2022-05-02T21:27:57.838Z"
   },
   {
    "duration": 615,
    "start_time": "2022-05-02T21:27:57.848Z"
   },
   {
    "duration": 582,
    "start_time": "2022-05-02T21:27:58.465Z"
   },
   {
    "duration": 596,
    "start_time": "2022-05-02T21:27:59.049Z"
   },
   {
    "duration": 22,
    "start_time": "2022-05-02T21:27:59.647Z"
   },
   {
    "duration": 56,
    "start_time": "2022-05-02T21:27:59.671Z"
   },
   {
    "duration": 47,
    "start_time": "2022-06-08T18:19:27.547Z"
   },
   {
    "duration": 1279,
    "start_time": "2022-06-08T18:19:35.153Z"
   },
   {
    "duration": 2,
    "start_time": "2022-06-08T18:19:36.434Z"
   },
   {
    "duration": 99,
    "start_time": "2022-06-08T18:19:36.438Z"
   },
   {
    "duration": 14,
    "start_time": "2022-06-08T18:19:36.539Z"
   },
   {
    "duration": 16,
    "start_time": "2022-06-08T18:19:36.555Z"
   },
   {
    "duration": 14,
    "start_time": "2022-06-08T18:19:36.572Z"
   },
   {
    "duration": 27,
    "start_time": "2022-06-08T18:19:36.588Z"
   },
   {
    "duration": 2,
    "start_time": "2022-06-08T18:19:36.617Z"
   },
   {
    "duration": 9,
    "start_time": "2022-06-08T18:19:36.621Z"
   },
   {
    "duration": 36,
    "start_time": "2022-06-08T18:19:36.632Z"
   },
   {
    "duration": 7,
    "start_time": "2022-06-08T18:19:36.669Z"
   },
   {
    "duration": 13,
    "start_time": "2022-06-08T18:19:36.677Z"
   },
   {
    "duration": 9,
    "start_time": "2022-06-08T18:19:36.691Z"
   },
   {
    "duration": 9,
    "start_time": "2022-06-08T18:19:36.701Z"
   },
   {
    "duration": 18,
    "start_time": "2022-06-08T18:19:36.711Z"
   },
   {
    "duration": 8,
    "start_time": "2022-06-08T18:19:36.730Z"
   },
   {
    "duration": 14,
    "start_time": "2022-06-08T18:19:36.761Z"
   },
   {
    "duration": 19,
    "start_time": "2022-06-08T18:19:36.777Z"
   },
   {
    "duration": 43,
    "start_time": "2022-06-08T18:19:36.797Z"
   },
   {
    "duration": 41,
    "start_time": "2022-06-08T18:19:36.842Z"
   },
   {
    "duration": 37,
    "start_time": "2022-06-08T18:19:36.884Z"
   },
   {
    "duration": 31,
    "start_time": "2022-06-08T18:19:36.923Z"
   },
   {
    "duration": 34,
    "start_time": "2022-06-08T18:19:36.956Z"
   },
   {
    "duration": 9,
    "start_time": "2022-06-08T18:19:36.991Z"
   },
   {
    "duration": 22,
    "start_time": "2022-06-08T18:19:37.002Z"
   },
   {
    "duration": 19,
    "start_time": "2022-06-08T18:19:37.025Z"
   },
   {
    "duration": 248,
    "start_time": "2022-06-08T18:19:37.046Z"
   },
   {
    "duration": 364,
    "start_time": "2022-06-08T18:19:37.299Z"
   },
   {
    "duration": 1030,
    "start_time": "2022-06-08T18:19:37.665Z"
   },
   {
    "duration": 5,
    "start_time": "2022-06-08T18:19:38.697Z"
   },
   {
    "duration": 201,
    "start_time": "2022-06-08T18:19:38.703Z"
   },
   {
    "duration": 1719,
    "start_time": "2022-06-08T18:19:38.906Z"
   },
   {
    "duration": 21,
    "start_time": "2022-06-08T18:19:40.627Z"
   },
   {
    "duration": 157,
    "start_time": "2022-06-08T18:19:40.659Z"
   },
   {
    "duration": 172,
    "start_time": "2022-06-08T18:19:40.817Z"
   },
   {
    "duration": 269,
    "start_time": "2022-06-08T18:19:40.991Z"
   },
   {
    "duration": 255,
    "start_time": "2022-06-08T18:19:41.261Z"
   },
   {
    "duration": 257,
    "start_time": "2022-06-08T18:19:41.518Z"
   },
   {
    "duration": 218,
    "start_time": "2022-06-08T18:19:41.777Z"
   },
   {
    "duration": 397,
    "start_time": "2022-06-08T18:19:41.997Z"
   },
   {
    "duration": 5,
    "start_time": "2022-06-08T18:19:42.396Z"
   },
   {
    "duration": 6,
    "start_time": "2022-06-08T18:19:42.402Z"
   },
   {
    "duration": 343,
    "start_time": "2022-06-08T18:19:42.410Z"
   },
   {
    "duration": 388,
    "start_time": "2022-06-08T18:19:42.759Z"
   },
   {
    "duration": 341,
    "start_time": "2022-06-08T18:19:43.148Z"
   },
   {
    "duration": 15,
    "start_time": "2022-06-08T18:19:43.491Z"
   },
   {
    "duration": 28,
    "start_time": "2022-06-08T18:19:43.507Z"
   }
  ],
  "kernelspec": {
   "display_name": "Python 3 (ipykernel)",
   "language": "python",
   "name": "python3"
  },
  "language_info": {
   "codemirror_mode": {
    "name": "ipython",
    "version": 3
   },
   "file_extension": ".py",
   "mimetype": "text/x-python",
   "name": "python",
   "nbconvert_exporter": "python",
   "pygments_lexer": "ipython3",
   "version": "3.9.5"
  },
  "toc": {
   "base_numbering": 1,
   "nav_menu": {},
   "number_sections": true,
   "sideBar": true,
   "skip_h1_title": true,
   "title_cell": "Table of Contents",
   "title_sidebar": "Contents",
   "toc_cell": false,
   "toc_position": {},
   "toc_section_display": true,
   "toc_window_display": true
  }
 },
 "nbformat": 4,
 "nbformat_minor": 5
}
